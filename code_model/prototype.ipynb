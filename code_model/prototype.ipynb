{
  "nbformat": 4,
  "nbformat_minor": 0,
  "metadata": {
    "colab": {
      "provenance": []
    },
    "kernelspec": {
      "name": "python3",
      "display_name": "Python 3"
    },
    "language_info": {
      "name": "python"
    }
  },
  "cells": [
    {
      "cell_type": "code",
      "execution_count": 24,
      "metadata": {
        "colab": {
          "base_uri": "https://localhost:8080/"
        },
        "id": "4UNQZDl8Yzt9",
        "outputId": "b572e6b5-d7cd-4160-e288-944188d373c4"
      },
      "outputs": [
        {
          "output_type": "stream",
          "name": "stdout",
          "text": [
            "Requirement already satisfied: wget in /usr/local/lib/python3.11/dist-packages (3.2)\n"
          ]
        }
      ],
      "source": [
        "!pip install wget"
      ]
    },
    {
      "cell_type": "code",
      "source": [
        "import wget\n",
        "\n",
        "url = \"https://huggingface.co/datasets/Thefoodprocessor/allergy_type/resolve/main/data/train-00000-of-00001-eb2a4925fb8b17b7.parquet?download=true\"\n",
        "\n",
        "wget.download(url, \"./train-00000-of-00001-eb2a4925fb8b17b7.parquet\")"
      ],
      "metadata": {
        "colab": {
          "base_uri": "https://localhost:8080/",
          "height": 35
        },
        "id": "4wzmRGoWY2zI",
        "outputId": "b1b24b05-0725-464d-9e73-000868318575"
      },
      "execution_count": 25,
      "outputs": [
        {
          "output_type": "execute_result",
          "data": {
            "text/plain": [
              "'./train-00000-of-00001-eb2a4925fb8b17b7 (1).parquet'"
            ],
            "application/vnd.google.colaboratory.intrinsic+json": {
              "type": "string"
            }
          },
          "metadata": {},
          "execution_count": 25
        }
      ]
    },
    {
      "cell_type": "code",
      "source": [
        "import pandas as pd\n",
        "from sklearn.model_selection import train_test_split\n",
        "from sklearn.feature_extraction.text import CountVectorizer\n",
        "from sklearn.linear_model import LogisticRegression\n",
        "from sklearn.pipeline import Pipeline\n",
        "from sklearn.metrics import accuracy_score, confusion_matrix, classification_report\n",
        "from sklearn.preprocessing import MultiLabelBinarizer\n",
        "import numpy as np\n",
        "from sklearn.multiclass import OneVsRestClassifier\n",
        "import re\n",
        "from sklearn.preprocessing import MultiLabelBinarizer\n",
        "\n",
        "\n",
        "df = pd.read_parquet(\"./train-00000-of-00001-eb2a4925fb8b17b7.parquet\")\n",
        "\n",
        "df.head()"
      ],
      "metadata": {
        "colab": {
          "base_uri": "https://localhost:8080/",
          "height": 206
        },
        "id": "xRxS4B_RY4yS",
        "outputId": "e9b0758c-8512-4be8-ec53-83bb9a8d25ca"
      },
      "execution_count": 56,
      "outputs": [
        {
          "output_type": "execute_result",
          "data": {
            "text/plain": [
              "   id                                             recipe  \\\n",
              "0   0  Roasted Carrots and Beets with Pecan Pesto\\n1 ...   \n",
              "1   1  Escarole and Olive Salad with Raspberry Dressi...   \n",
              "2   2  Apple Tansie\\n12 egg yolks\\n6 egg whites\\n1/2 ...   \n",
              "3   3  Sauteed Foie Gras with Ginger Poached Pears an...   \n",
              "4   4  Lemon-Scented Broccolini\\n1 1/2 pounds broccol...   \n",
              "\n",
              "                                        allergy_type  \n",
              "0                         [Nut, Beet, Fruit, Cheese]  \n",
              "1                    [Fruit, Vegetable, Nut, Sesame]  \n",
              "2                                       [Egg, Fruit]  \n",
              "3  [Milk, Nut, Soy, Wheat, Onion, Carrot, Leek, G...  \n",
              "4                                            [Lemon]  "
            ],
            "text/html": [
              "\n",
              "  <div id=\"df-5651f3b9-4f4e-4405-8ec2-1a7ac2d34669\" class=\"colab-df-container\">\n",
              "    <div>\n",
              "<style scoped>\n",
              "    .dataframe tbody tr th:only-of-type {\n",
              "        vertical-align: middle;\n",
              "    }\n",
              "\n",
              "    .dataframe tbody tr th {\n",
              "        vertical-align: top;\n",
              "    }\n",
              "\n",
              "    .dataframe thead th {\n",
              "        text-align: right;\n",
              "    }\n",
              "</style>\n",
              "<table border=\"1\" class=\"dataframe\">\n",
              "  <thead>\n",
              "    <tr style=\"text-align: right;\">\n",
              "      <th></th>\n",
              "      <th>id</th>\n",
              "      <th>recipe</th>\n",
              "      <th>allergy_type</th>\n",
              "    </tr>\n",
              "  </thead>\n",
              "  <tbody>\n",
              "    <tr>\n",
              "      <th>0</th>\n",
              "      <td>0</td>\n",
              "      <td>Roasted Carrots and Beets with Pecan Pesto\\n1 ...</td>\n",
              "      <td>[Nut, Beet, Fruit, Cheese]</td>\n",
              "    </tr>\n",
              "    <tr>\n",
              "      <th>1</th>\n",
              "      <td>1</td>\n",
              "      <td>Escarole and Olive Salad with Raspberry Dressi...</td>\n",
              "      <td>[Fruit, Vegetable, Nut, Sesame]</td>\n",
              "    </tr>\n",
              "    <tr>\n",
              "      <th>2</th>\n",
              "      <td>2</td>\n",
              "      <td>Apple Tansie\\n12 egg yolks\\n6 egg whites\\n1/2 ...</td>\n",
              "      <td>[Egg, Fruit]</td>\n",
              "    </tr>\n",
              "    <tr>\n",
              "      <th>3</th>\n",
              "      <td>3</td>\n",
              "      <td>Sauteed Foie Gras with Ginger Poached Pears an...</td>\n",
              "      <td>[Milk, Nut, Soy, Wheat, Onion, Carrot, Leek, G...</td>\n",
              "    </tr>\n",
              "    <tr>\n",
              "      <th>4</th>\n",
              "      <td>4</td>\n",
              "      <td>Lemon-Scented Broccolini\\n1 1/2 pounds broccol...</td>\n",
              "      <td>[Lemon]</td>\n",
              "    </tr>\n",
              "  </tbody>\n",
              "</table>\n",
              "</div>\n",
              "    <div class=\"colab-df-buttons\">\n",
              "      \n",
              "  <div class=\"colab-df-container\">\n",
              "    <button class=\"colab-df-convert\" onclick=\"convertToInteractive('df-5651f3b9-4f4e-4405-8ec2-1a7ac2d34669')\"\n",
              "            title=\"Convert this dataframe to an interactive table.\"\n",
              "            style=\"display:none;\">\n",
              "      \n",
              "  <svg xmlns=\"http://www.w3.org/2000/svg\" height=\"24px\" viewBox=\"0 -960 960 960\">\n",
              "    <path d=\"M120-120v-720h720v720H120Zm60-500h600v-160H180v160Zm220 220h160v-160H400v160Zm0 220h160v-160H400v160ZM180-400h160v-160H180v160Zm440 0h160v-160H620v160ZM180-180h160v-160H180v160Zm440 0h160v-160H620v160Z\"/>\n",
              "  </svg>\n",
              "    </button>\n",
              "    \n",
              "  <style>\n",
              "    .colab-df-container {\n",
              "      display:flex;\n",
              "      gap: 12px;\n",
              "    }\n",
              "\n",
              "    .colab-df-convert {\n",
              "      background-color: #E8F0FE;\n",
              "      border: none;\n",
              "      border-radius: 50%;\n",
              "      cursor: pointer;\n",
              "      display: none;\n",
              "      fill: #1967D2;\n",
              "      height: 32px;\n",
              "      padding: 0 0 0 0;\n",
              "      width: 32px;\n",
              "    }\n",
              "\n",
              "    .colab-df-convert:hover {\n",
              "      background-color: #E2EBFA;\n",
              "      box-shadow: 0px 1px 2px rgba(60, 64, 67, 0.3), 0px 1px 3px 1px rgba(60, 64, 67, 0.15);\n",
              "      fill: #174EA6;\n",
              "    }\n",
              "\n",
              "    .colab-df-buttons div {\n",
              "      margin-bottom: 4px;\n",
              "    }\n",
              "\n",
              "    [theme=dark] .colab-df-convert {\n",
              "      background-color: #3B4455;\n",
              "      fill: #D2E3FC;\n",
              "    }\n",
              "\n",
              "    [theme=dark] .colab-df-convert:hover {\n",
              "      background-color: #434B5C;\n",
              "      box-shadow: 0px 1px 3px 1px rgba(0, 0, 0, 0.15);\n",
              "      filter: drop-shadow(0px 1px 2px rgba(0, 0, 0, 0.3));\n",
              "      fill: #FFFFFF;\n",
              "    }\n",
              "  </style>\n",
              "\n",
              "    <script>\n",
              "      const buttonEl =\n",
              "        document.querySelector('#df-5651f3b9-4f4e-4405-8ec2-1a7ac2d34669 button.colab-df-convert');\n",
              "      buttonEl.style.display =\n",
              "        google.colab.kernel.accessAllowed ? 'block' : 'none';\n",
              "\n",
              "      async function convertToInteractive(key) {\n",
              "        const element = document.querySelector('#df-5651f3b9-4f4e-4405-8ec2-1a7ac2d34669');\n",
              "        const dataTable =\n",
              "          await google.colab.kernel.invokeFunction('convertToInteractive',\n",
              "                                                    [key], {});\n",
              "        if (!dataTable) return;\n",
              "\n",
              "        const docLinkHtml = 'Like what you see? Visit the ' +\n",
              "          '<a target=\"_blank\" href=https://colab.research.google.com/notebooks/data_table.ipynb>data table notebook</a>'\n",
              "          + ' to learn more about interactive tables.';\n",
              "        element.innerHTML = '';\n",
              "        dataTable['output_type'] = 'display_data';\n",
              "        await google.colab.output.renderOutput(dataTable, element);\n",
              "        const docLink = document.createElement('div');\n",
              "        docLink.innerHTML = docLinkHtml;\n",
              "        element.appendChild(docLink);\n",
              "      }\n",
              "    </script>\n",
              "  </div>\n",
              "  \n",
              "    </div>\n",
              "  </div>\n",
              "  "
            ]
          },
          "metadata": {},
          "execution_count": 56
        }
      ]
    },
    {
      "cell_type": "code",
      "source": [
        "df.shape # (74465, 3)"
      ],
      "metadata": {
        "colab": {
          "base_uri": "https://localhost:8080/"
        },
        "id": "SofCr-fMbULl",
        "outputId": "8e94c314-79d7-406b-9147-e001d072ef79"
      },
      "execution_count": 57,
      "outputs": [
        {
          "output_type": "execute_result",
          "data": {
            "text/plain": [
              "(74465, 3)"
            ]
          },
          "metadata": {},
          "execution_count": 57
        }
      ]
    },
    {
      "cell_type": "code",
      "source": [
        "x = df[\"recipe\"]\n",
        "y = df[\"allergy_type\"]\n",
        "\n",
        "print(x.shape, y.shape) # (74465,) (74465,)"
      ],
      "metadata": {
        "colab": {
          "base_uri": "https://localhost:8080/"
        },
        "id": "H6_EEGgmbYPd",
        "outputId": "13638afb-ac44-42da-cf32-7f2f6da8a118"
      },
      "execution_count": 58,
      "outputs": [
        {
          "output_type": "stream",
          "name": "stdout",
          "text": [
            "(74465,) (74465,)\n"
          ]
        }
      ]
    },
    {
      "cell_type": "code",
      "source": [
        "def clean_text(text):\n",
        "    text = text.lower()  # Mettre en minuscule\n",
        "    text = re.sub(r'\\n', ' ', text)  # Supprimer les retours à la ligne\n",
        "    text = re.sub(r'[^a-zA-Z0-9 ]', '', text)  # Supprimer caractères spéciaux\n",
        "    return text\n",
        "\n",
        "df[\"recipe\"] = df[\"recipe\"].astype(str).apply(clean_text)\n",
        "\n",
        "print(df[\"recipe\"].head())"
      ],
      "metadata": {
        "colab": {
          "base_uri": "https://localhost:8080/"
        },
        "id": "QaMdlSHVY54y",
        "outputId": "7a7c0253-a764-49cd-a9fe-bd92010d5adb"
      },
      "execution_count": 59,
      "outputs": [
        {
          "output_type": "stream",
          "name": "stdout",
          "text": [
            "0    roasted carrots and beets with pecan pesto 1 1...\n",
            "1    escarole and olive salad with raspberry dressi...\n",
            "2    apple tansie 12 egg yolks 6 egg whites 12 pint...\n",
            "3    sauteed foie gras with ginger poached pears an...\n",
            "4    lemonscented broccolini 1 12 pounds broccolini...\n",
            "Name: recipe, dtype: object\n"
          ]
        }
      ]
    },
    {
      "cell_type": "code",
      "source": [
        "def format_allergy_type(allergy_type): # Besoin de corrections pour la version finale\n",
        "    # le code est actuellement structuré comme suit : [nut, beef, fruit, cheese]\n",
        "    # on va le transformer en une liste de strings [\"nut\", \"beef\", \"fruit\", \"cheese\"]\n",
        "    # on va aussi supprimer les espaces en trop\n",
        "    allergy_type = allergy_type.replace(\"[\", \"\").replace(\"]\", \"\").replace(\" \", \"\")\n",
        "    allergy_type = allergy_type.split(\",\")\n",
        "    return allergy_type\n",
        "\n",
        "df[\"allergy_type\"] = df[\"allergy_type\"].apply(format_allergy_type)\n",
        "\n",
        "df.head()"
      ],
      "metadata": {
        "colab": {
          "base_uri": "https://localhost:8080/",
          "height": 206
        },
        "id": "HI4p5ntDY7HV",
        "outputId": "7544c219-3fb4-4c15-9812-d1fc75e4f889"
      },
      "execution_count": 60,
      "outputs": [
        {
          "output_type": "execute_result",
          "data": {
            "text/plain": [
              "   id                                             recipe  \\\n",
              "0   0  roasted carrots and beets with pecan pesto 1 1...   \n",
              "1   1  escarole and olive salad with raspberry dressi...   \n",
              "2   2  apple tansie 12 egg yolks 6 egg whites 12 pint...   \n",
              "3   3  sauteed foie gras with ginger poached pears an...   \n",
              "4   4  lemonscented broccolini 1 12 pounds broccolini...   \n",
              "\n",
              "                                        allergy_type  \n",
              "0                         [Nut, Beet, Fruit, Cheese]  \n",
              "1                    [Fruit, Vegetable, Nut, Sesame]  \n",
              "2                                       [Egg, Fruit]  \n",
              "3  [Milk, Nut, Soy, Wheat, Onion, Carrot, Leek, G...  \n",
              "4                                            [Lemon]  "
            ],
            "text/html": [
              "\n",
              "  <div id=\"df-557c46e3-471a-4096-82af-6e3d386db1f7\" class=\"colab-df-container\">\n",
              "    <div>\n",
              "<style scoped>\n",
              "    .dataframe tbody tr th:only-of-type {\n",
              "        vertical-align: middle;\n",
              "    }\n",
              "\n",
              "    .dataframe tbody tr th {\n",
              "        vertical-align: top;\n",
              "    }\n",
              "\n",
              "    .dataframe thead th {\n",
              "        text-align: right;\n",
              "    }\n",
              "</style>\n",
              "<table border=\"1\" class=\"dataframe\">\n",
              "  <thead>\n",
              "    <tr style=\"text-align: right;\">\n",
              "      <th></th>\n",
              "      <th>id</th>\n",
              "      <th>recipe</th>\n",
              "      <th>allergy_type</th>\n",
              "    </tr>\n",
              "  </thead>\n",
              "  <tbody>\n",
              "    <tr>\n",
              "      <th>0</th>\n",
              "      <td>0</td>\n",
              "      <td>roasted carrots and beets with pecan pesto 1 1...</td>\n",
              "      <td>[Nut, Beet, Fruit, Cheese]</td>\n",
              "    </tr>\n",
              "    <tr>\n",
              "      <th>1</th>\n",
              "      <td>1</td>\n",
              "      <td>escarole and olive salad with raspberry dressi...</td>\n",
              "      <td>[Fruit, Vegetable, Nut, Sesame]</td>\n",
              "    </tr>\n",
              "    <tr>\n",
              "      <th>2</th>\n",
              "      <td>2</td>\n",
              "      <td>apple tansie 12 egg yolks 6 egg whites 12 pint...</td>\n",
              "      <td>[Egg, Fruit]</td>\n",
              "    </tr>\n",
              "    <tr>\n",
              "      <th>3</th>\n",
              "      <td>3</td>\n",
              "      <td>sauteed foie gras with ginger poached pears an...</td>\n",
              "      <td>[Milk, Nut, Soy, Wheat, Onion, Carrot, Leek, G...</td>\n",
              "    </tr>\n",
              "    <tr>\n",
              "      <th>4</th>\n",
              "      <td>4</td>\n",
              "      <td>lemonscented broccolini 1 12 pounds broccolini...</td>\n",
              "      <td>[Lemon]</td>\n",
              "    </tr>\n",
              "  </tbody>\n",
              "</table>\n",
              "</div>\n",
              "    <div class=\"colab-df-buttons\">\n",
              "      \n",
              "  <div class=\"colab-df-container\">\n",
              "    <button class=\"colab-df-convert\" onclick=\"convertToInteractive('df-557c46e3-471a-4096-82af-6e3d386db1f7')\"\n",
              "            title=\"Convert this dataframe to an interactive table.\"\n",
              "            style=\"display:none;\">\n",
              "      \n",
              "  <svg xmlns=\"http://www.w3.org/2000/svg\" height=\"24px\" viewBox=\"0 -960 960 960\">\n",
              "    <path d=\"M120-120v-720h720v720H120Zm60-500h600v-160H180v160Zm220 220h160v-160H400v160Zm0 220h160v-160H400v160ZM180-400h160v-160H180v160Zm440 0h160v-160H620v160ZM180-180h160v-160H180v160Zm440 0h160v-160H620v160Z\"/>\n",
              "  </svg>\n",
              "    </button>\n",
              "    \n",
              "  <style>\n",
              "    .colab-df-container {\n",
              "      display:flex;\n",
              "      gap: 12px;\n",
              "    }\n",
              "\n",
              "    .colab-df-convert {\n",
              "      background-color: #E8F0FE;\n",
              "      border: none;\n",
              "      border-radius: 50%;\n",
              "      cursor: pointer;\n",
              "      display: none;\n",
              "      fill: #1967D2;\n",
              "      height: 32px;\n",
              "      padding: 0 0 0 0;\n",
              "      width: 32px;\n",
              "    }\n",
              "\n",
              "    .colab-df-convert:hover {\n",
              "      background-color: #E2EBFA;\n",
              "      box-shadow: 0px 1px 2px rgba(60, 64, 67, 0.3), 0px 1px 3px 1px rgba(60, 64, 67, 0.15);\n",
              "      fill: #174EA6;\n",
              "    }\n",
              "\n",
              "    .colab-df-buttons div {\n",
              "      margin-bottom: 4px;\n",
              "    }\n",
              "\n",
              "    [theme=dark] .colab-df-convert {\n",
              "      background-color: #3B4455;\n",
              "      fill: #D2E3FC;\n",
              "    }\n",
              "\n",
              "    [theme=dark] .colab-df-convert:hover {\n",
              "      background-color: #434B5C;\n",
              "      box-shadow: 0px 1px 3px 1px rgba(0, 0, 0, 0.15);\n",
              "      filter: drop-shadow(0px 1px 2px rgba(0, 0, 0, 0.3));\n",
              "      fill: #FFFFFF;\n",
              "    }\n",
              "  </style>\n",
              "\n",
              "    <script>\n",
              "      const buttonEl =\n",
              "        document.querySelector('#df-557c46e3-471a-4096-82af-6e3d386db1f7 button.colab-df-convert');\n",
              "      buttonEl.style.display =\n",
              "        google.colab.kernel.accessAllowed ? 'block' : 'none';\n",
              "\n",
              "      async function convertToInteractive(key) {\n",
              "        const element = document.querySelector('#df-557c46e3-471a-4096-82af-6e3d386db1f7');\n",
              "        const dataTable =\n",
              "          await google.colab.kernel.invokeFunction('convertToInteractive',\n",
              "                                                    [key], {});\n",
              "        if (!dataTable) return;\n",
              "\n",
              "        const docLinkHtml = 'Like what you see? Visit the ' +\n",
              "          '<a target=\"_blank\" href=https://colab.research.google.com/notebooks/data_table.ipynb>data table notebook</a>'\n",
              "          + ' to learn more about interactive tables.';\n",
              "        element.innerHTML = '';\n",
              "        dataTable['output_type'] = 'display_data';\n",
              "        await google.colab.output.renderOutput(dataTable, element);\n",
              "        const docLink = document.createElement('div');\n",
              "        docLink.innerHTML = docLinkHtml;\n",
              "        element.appendChild(docLink);\n",
              "      }\n",
              "    </script>\n",
              "  </div>\n",
              "  \n",
              "    </div>\n",
              "  </div>\n",
              "  "
            ]
          },
          "metadata": {},
          "execution_count": 60
        }
      ]
    },
    {
      "cell_type": "code",
      "source": [
        "# S'assurer que les valeurs sont bien interprétées comme des listes\n",
        "df[\"allergy_type\"] = df[\"allergy_type\"].apply(lambda x: eval(x) if isinstance(x, str) else x)\n",
        "\n",
        "# Extraire tous les allergènes uniques\n",
        "unique_allergens = set(allergen for sublist in df[\"allergy_type\"].dropna() for allergen in sublist)\n",
        "\n",
        "# Afficher la liste des allergènes\n",
        "print(sorted(unique_allergens))\n"
      ],
      "metadata": {
        "colab": {
          "base_uri": "https://localhost:8080/"
        },
        "id": "S3xUZrS0Y8SZ",
        "outputId": "6721839c-07ce-4cd5-f677-926facd7ddc5"
      },
      "execution_count": 61,
      "outputs": [
        {
          "output_type": "stream",
          "name": "stdout",
          "text": [
            "['', 'Acid', 'Acidic', 'Acidity', 'Acornsquash', 'Adhesive', 'Adobo', 'Agave', 'Aioli', 'Alcohol', 'Alcohol(Bourbon)', 'Alcohol(bourbon)', 'AlcoholDisclaimer:*TheeggwhiteisusedasanemulsifierinthisrecipeIfyouareallergictoeggs', 'Ale', 'Alfalfa', 'AlfalfaSprouts', 'AlfonoOlives', 'AllSpice', 'Allergen', 'Allergens', 'Allergensnotspecified', 'Allergy', 'Alliacea', 'Allium', 'Allium(Garlic', 'Allium(garlic)', 'Allium(lavender)', 'AlliumNote:FrenchingisacookingtechniquewheremeatispartiallydebonedbycuttingawaythefattytissuebetweenthebonesInthiscase', 'Allspice', 'Almond', 'Almonds', 'Aloe', 'AmberBeer', 'Anatto', 'Anchochile', 'Anchovies', 'Anchovy', 'Animal', 'AnimalDerivatives', 'AnimalParts', 'AnimalProtein', 'Animalbyproduct', 'Animalproduct', 'Animalprotein', 'Animalprotein(Prawn)', 'Anise', 'Aniseed', 'Apple', 'AppleCiderVinegar', 'Applesauce', 'Apricot', 'ApricotPreserves', 'Arbolchile', 'Arrowroot', 'Artichoke', 'Artichokes', 'ArtificialColoring', 'Artificialcolors', 'Arugula', 'Asafoetida', 'AscorbicAcid', 'Asiago)', 'AsianBasil', 'Asparagus', 'Avocado', 'BabyClams', 'Bacon', 'BakingPowder', 'BakingSoda', 'Bakingpowder', 'Bakingsoda', 'Balsamic', 'BalsamicVinegar', 'Balsamicglaze', 'Bamboo', 'Bambooshoots', 'Banana', 'Banana)', 'Barbecue', 'BarbecueMeat', 'BarbecueSauce', 'Barbecuesauce', 'Barley', 'Barley(Beer)', 'Basil', 'Bass', 'Bay', 'BayLeaf', 'BayLeaf)', 'BayLeave', 'BayLeaves', 'Bayleaf', 'Bayleaves)', 'Bean', 'BeanSprout', 'BeanSprouts', 'Beans', 'Beans/Legumes', 'Bee', 'Beef', 'Beef(Bacon)', 'Beef(Celery)', 'Beef(beer)', 'Beef)', 'BeefBroth', 'BeefConsomme', 'BeefNote:Theabovelistisnotexhaustiveandtheremaybeotherallergenicingredientsintherecipethatarenotmentionedhere', 'BeefStock', 'Beefbroth', 'Beefish', 'Beefish(BassAle)', 'Beefish(beer)', 'BeefsteakTomato', 'Beefstock', 'Beer', 'Beet', 'Beets', 'Bell', 'BellPepper', 'BellPeppers', 'Bellpepper', 'Bellpeppers', 'Berbere', 'Berries', 'Berry', 'Beverage', 'Bird', 'Bison', 'Bitterorangepeel', 'Black-eyedPea', 'Black-eyedpeas', 'BlackBean', 'BlackBeanPaste', 'BlackBeans', 'BlackCurrant', 'BlackPepper', 'BlackPeppercorns', 'BlackSalt', 'Blackpepper', 'Blackpeppercorns', 'Blue', 'Blueberries', 'Blueberry', 'Bluecheese', 'Bluefish', 'BokChoy', 'Bokchoy', 'Bone', 'Bourbon', 'Bran', 'Brandy', 'Brassica', 'Bratwurst', 'BrazilianHotSauce', 'Bread', 'BreadCrumb', 'BreadCrumbs', 'Breadcrumb', 'Breadcrumbs', 'Brie', 'BrieCheese', 'Broccoli', 'BroccoliRaab', 'Broccolirabe', 'Broth', 'BrownSugar', 'BrusselsSprout', 'Buckwheat', 'Butter', 'Butter)', 'ButterSubstitute', 'Buttermilk', 'ButternutSquash', 'Butterscotch', 'Cabbage', 'Cactus', 'Caffeine', 'Cajun', 'Cake', 'CakeMix', 'Calamari', 'Calcium', 'Candy', 'Candy(JellyBeans', 'CaneSugar', 'Canesugar', 'CannedGreenChiles', 'Canola', 'CanolaOil', 'Cantaloupe', 'Caper', 'Capers', 'CapersNote:*FleurdeselisatypeofsaltthatismadefromtheevaporationofseawaterandisoftenusedinFrenchcookingItisnottypicallyconsideredanallergen', 'Capsicum', 'Caramel', 'Caraway', 'Carbohydrate', 'CarbonatedBeverage', 'Cardamom', 'Carob', 'CarolinaReaper', 'Carrot', 'CarrotJuice', 'Carrots', 'Casabel', 'Cashew', 'Casings', 'Cassava', 'Cassia', 'Cassis', 'Catsup', 'Cattle', 'Cauliflower', 'Caviar', 'Cayenne', 'Cayenne)', 'CayenneDisclaimer:*Notethattherecipecallsfor2largeeggyolks', 'CayennePepper', 'Cayennepepper', 'Celeriac', 'Celery', 'Celery)', 'CeleryRoot', 'CelerySalt', 'CelerySeed', 'Cereal', 'CerealGrain', 'Cerealgrain', 'Cerealgrain(Rice)', 'Cereals', 'CerealsContainingGluten', 'Cerealscontaininggluten', 'Champagne', 'ChampagneVinegar', 'Chard', 'Chayote', 'Cheddar', 'Cheese', 'Cheese(Blue', 'Cheese(Blue)', \"Cheese(Cow'sMilk\", \"Cheese(Cow'sMilk)\", \"Cheese(Cow'smilk)\", 'Cheese(Creamcheese', 'Cheese(Feta', 'Cheese(Feta)', 'Cheese(Mozzarella', 'Cheese(Mozzarella)', 'Cheese(ParmesanandMozzarella)', 'Cheese(Parmigiano', 'Cheese(Ricotta', 'Cherry', 'CherryPepper', 'CherryTomato', 'Cherrytomatoes', 'Chervil', 'Chestnut', 'Chia', 'Chiaseed', 'Chicken', 'Chicken(HamHock)', 'Chicken/Turkey', 'ChickenStock', 'Chickenstock', 'Chickpea', 'Chicory', 'Chile', 'ChileDeArbol', 'ChilePepper', 'ChilePowder', 'ChiledeArbol', 'Chilepepper', 'Chiles', 'ChilesdeArbol', 'Chili', 'ChiliCrust', 'ChiliFlakes', 'ChiliPepper', 'ChiliPepperFlakes', 'ChiliPeppers', 'ChiliPowder', 'Chilipepper', 'Chilipeppers', 'Chilli', 'Chipotle', 'Chive', 'Chives', 'Chocolate', 'Chorizo', 'ChorizoSeasoning', 'Chrysanthemum', 'Cider', 'CiderVinegar', 'Cilantro', 'Cinammon', 'Cinnamon', 'CinnamonSugar', 'Citrus', 'Citrus(Lime)', 'Clam', 'Clams', 'ClarifiedButter', 'Clarifiedbutter', 'Clove', 'Cloves', 'Cocoa', 'CocoaButter', 'CocoaPowder', 'Coconut', 'CoconutMilk', 'CoconutNote:*Luauleavesarenotacommoningredientinmostrecipes', 'Cod', 'Coffee', 'Cognac', 'Cola', 'CollardGreen', 'CollardGreens', 'CondensedMilk', 'Condiments', \"Confectioners'Sugar\", 'Cookie', 'CookieSpread', 'Cookies', 'Coriander', 'CorianderSeeds', 'Corn', 'CornOil', 'CornSyrup', 'CornTortilla', 'CornedBeef', 'Cornichon', 'Cornichons', 'Cornmeal', 'Cornstarch', 'Corntortilla', 'Cotija', 'Cotijacheese', \"Cow'sMilk\", \"Cow'sMilkSugar\", \"Cow'smilk\", 'Crab', 'Cranberries', 'Cranberry', 'CranberryJuice', 'Crawfish', 'Crayfish', 'Cream', 'Cream-StyleHorseradishSauce', 'CreamCheese', 'Creamcheese', 'CreamofTartar', 'Crema', 'CremeFraiche', 'Cruciferous', 'CruciferousVegetables', 'CrushedRedPepper', 'CrushedRedPepperFlakes', 'Crushedredpepper', 'Crushedredpepperflakes', 'Crustacean', 'Crustacean(suchasshrimp)', 'CrustaceanNote:*ThecrabsarenotlistedasanallergenbecausetheyarenottypicallyconsideredacommonallergenHowever', 'Crustaceans', 'CrèmeFraîche', 'Cucumber', 'Culantro', 'Cumin', 'CuminSeeds', 'CuredMeat', 'Currant', 'Currants', 'Curry', 'CurryLeaves', 'CurryPowder', 'Curryleaf', 'Daikon', 'Dairy', 'Dairy(Butter)', 'Dairy(Cheese)', 'Dairy(CreamCheese)', 'Dairy(Half-and-half)', 'Dairy(Mascarpone)', 'Dairy(Milk', 'Dairy-free', 'Dal', 'DarkChocolate', 'Darkchocolate', 'Dashi', 'Date', 'Dates', 'Demi-glace', 'Dill', 'Dill)', 'Dressing', 'Driedfruit', 'Duck', 'Duckegg', 'EasternEuropeanSeasoning', 'Edamame', 'Egg', 'EggNote:*EggsarenotexplicitlylistedintherecipeingredientsbutarementionedintheinstructionsformakingGarlicAioli', 'EggYolks', 'Eggplant', 'Eggs', 'ElbowMacaroni', 'Elderberry', 'Elderflower', 'Elk', 'Endive', 'EnglishMuffin', 'Epazote', 'Escargot', 'Escarole', 'Espresso', 'Fat', 'FatFree', 'Fatty', 'Fattyacid', 'Fennel', 'Fenugreek', 'FermentedFood', 'Feta', 'FetaCheese', 'Fig', 'FiloPastry', 'FineSalt', 'Firewater', 'Fish', 'Fish(Anchovy)', 'Fish(Bacon)', 'Fish(Cayenne)', 'Fish(Crab)', 'Fish(Flounder', 'Fish(HamHocks)', 'Fish(Lobster', 'Fish(Lobster)', 'Fish(Oyster)', 'Fish(Oysters)', 'Fish(Quail)', 'Fish(Salmon)', 'Fish(Shallot)', 'Fish(Shark)', 'Fish(Shelled)', 'Fish(ShelledEdamame)', 'Fish(Shellfish)', 'Fish(Shishito)', 'Fish(Shrimp)', 'Fish(SmokedPoblanos)', 'Fish(StripedBass)', 'Fish(Tuna)', 'Fish(Wasabi)', 'Fish(anchovy)', 'Fish(capers)', 'Fish(crab)', 'Fish(crabmeat)', 'Fish(ifusingshrimporothershellfish)', 'Fish(inPickledBeanSproutSalad)', 'Fish(intheformofShaohsingricewine)', 'Fish(maraschinocherryjuice)', 'Fish(optional)', 'Fish(rum)', 'Fish(shellfish)', 'Fish(shiitakemushroom)', 'Fish(shrimp)', 'Fish(tamarind)', 'Fish/Shellfish', 'Fish/Shellfish(Crustaceans)', 'Fish/Shellfish(optional)', 'FishNote:Theanswerisbasedontheprovidedingredientsanddoesnottakeintoaccountanypotentialcross-contaminationorhiddeningredientsthatmayalsocauseanallergyreaction', 'FishSauce', 'FishShellfish', 'FishShellfish(crab)', 'FishShellfish(suchascrab)', 'FishShellfish(suchasshrimp', 'FishShellfish(suchasshrimp)', 'Fishshellfish', 'Fishshellfish(crab)', 'Fishshellfish(shrimp)', 'Fishshellfish(suchasshrimp', 'Five-Spice', 'Flavorings', 'FleurdeSel', 'Floral', 'Flour', 'FlourRecipeingredients:1lbgroundbeef1/4cupbreadcrumbs1egg1/4cupgratedParmesancheese1/4cupchoppedfreshparsley1/4cupchoppedfreshbasil1/4cupchoppedfreshoregano1/4cupchoppedgarlic1/4cupoliveoilAnswer:Me', 'Flower', 'Flower/TreeNut', 'Flowers', 'Focaccia', 'FoieGras', 'Fondant', 'Fontina)', 'FoodColoring', 'FoodColorings', 'Fowl', 'Frankfurter', 'FreshHerbs', 'Frisée', 'Fruit', 'Fruit(Apple)', 'Fruit(Avocado)', 'Fruit(Berries)', 'Fruit(BloodOrange)', 'Fruit(Blueberry', 'Fruit(Carrot', 'Fruit(Carrot)', 'Fruit(Chanterelles)', 'Fruit(Cherry)', 'Fruit(Guava)', 'Fruit(Honey)', 'Fruit(Lemon', 'Fruit(Lemon)', 'Fruit(Lime)', 'Fruit(Olives)', 'Fruit(PassionFruit', 'Fruit(Peaches)', 'Fruit(PeachorGrape)', 'Fruit(Pineapple', 'Fruit(Raisin)', 'Fruit(Spinach)', 'Fruit(Strawberries', 'Fruit(Strawberry', 'Fruit(Tomato)', 'Fruit(cucumber)', 'Fruit(lemon', 'Fruit(lemon)', 'Fruit(mushroom)', 'Fruit(olive)', 'Fruit(olives)', 'Fruit(raisin)', 'Fruit(raisins)', 'Fruit(sun-driedtomatoes)', 'Fruit(watermelon)', 'FruitDisclaimer:*Theeggyolkisoptionalandcanbeomittedifyouareallergictoeggs', 'FruitDisclaimer:Theeggyolkintherecipeisoptionalandcanbeomittedifyouareallergictoeggsorprefernottousethem', 'FruitNote:*Theheadofromainelettuceisnotaningredientinthisrecipe', 'Fruits', 'Fungi', 'Fungus', 'Galangal', 'Game', 'GaramMasala', 'GarbanzoBean', 'GarbanzoBeans', 'Garlic', 'GarlicDisclaimer:*Eggyolksarenotstrictlynecessaryforthisrecipe', 'GarlicPowder', 'Garnish', 'Garum', 'Gelatin', 'Ghee', 'Gherkin', 'Gin', 'Ginger', 'Gingerbread', 'GingerbreadSpice', 'Ginseng', 'Gluten', 'Gluten*Note:Theterm\"cheese\"isusedinthisrecipetorefertoanytypeofcheese', 'Gnocchi', 'Goat', \"Goat'sMilk\", \"Goat'sMilk)\", \"Goat'smilk\", 'GoatCheese', 'GoatCheeseDisclaimer:*Eggyolksarenotexplicitlylistedasaningredientbutarerequiredfortherecipe', 'Goatcheese', 'Gochujang', 'Goose', 'Gooseberry)', 'Gouda', 'Graham', 'Grain', 'Grain(Corn)', 'Grain(Orzo)', 'Grain(PorterBeer)', 'Grain(Rice)', 'Grain(Wheat)', 'Grain(wheat)', 'Grain(wheatinfetacheese)', 'GrainDisclaimer:*TheeggyolkisoptionalandmaycauseanallergicreactionforsomeindividualsIfyouareallergictoeggs', 'GrainNote:*Quinoaisconsideredaseedratherthananut', 'GrainNote:*Thegoldleafisnotanactualallergen', 'Grains', 'Granola', 'Grape', 'Grape/Cherry', 'GrapeBrandy', 'GrapeTomato', 'GrapeTomatoes', 'Grapefruit', 'Gravy', 'GravyMakerSeasoning', 'Green', 'GreenAsparagus', 'GreenBean', 'GreenBeans', 'GreenBellPepper', 'GreenChile', 'GreenChiles', 'GreenOlives', 'GreenOnion', 'GreenPartsOnion', 'GreenScallions', 'GreenTea', 'GreenVegetable', 'GreenVegetables', 'Greenbean', 'Greenchilies', 'Greenherbs', 'Greenleafy', 'Greenleafyvegetables', 'Greenonion', 'Greenpea', 'Greenpepper', 'Greens', 'Grits', 'Guacamole', 'Guajillochile', 'Gum', 'GummyBelts)', 'Habanero', 'Half-and-Half', 'Ham', 'Ham)', 'HamHocks', 'HamRind', 'Hamburger', 'HamburgerBun', 'Hazelnut', 'Hazelnuts', 'HeavyCream', 'HeavyCream)', 'Heavycream', 'Hemp', 'Herb', 'Herb(Dill)', 'Herb(Parsley', 'Herb(Thyme)', 'Herb(cilantro)', 'Herbs', 'Herbs(Basil', 'Herbs(Basil)', 'Herbs(Dill', 'Herbs(Oregano', 'Herbs(Oregano)', 'Herbs(Parsley', 'Herbs(Rosemary', 'Herbs(Rosemary)', 'Herbs(Thyme', 'Herbs(Thyme)', 'Herbs(basil', 'Herbs(basil)', 'Herbs(dill', 'Herbs(oregano', 'Herbs(oregano)', 'Herbs(otherthanSoy)', 'HerbsNote:Artichokesarenottypicallyconsideredatreenut', 'HerbsRecipeingredients:1lbgroundbeef1/4cupbreadcrumbs1/4cupgratedParmesancheese1egg1/4cupchoppedfreshparsley1/4cupchoppedfreshbasil1/4cupchoppedfreshmint1/4cupchoppedscallions(greenonions)1/4cupchopped', 'HerbsdeProvence', 'Herring', 'Hoisin', 'HojaSanta', 'Hominy', 'Honey', 'HoneyDisclaimer:*EggwhitesarenotlistedasanallergenintheprovidedrecipeingredientsHowever', 'HoneyNote:*Honeyisapotentialallergen', 'Hops', 'HornedMelon', 'Horseradish', 'HotChickenStock', 'HotDog', 'HotPepper', 'HotPepperFlakes', 'HotPepperJelly', 'HotPepperSauce', 'HotPeppers', 'HotSauce', 'HotSpice', 'Hotdog', 'Hotpepper', 'Hotpeppers', 'Hotsauce', 'Huitlacoche', 'Hummus', 'IceCream', 'IcebergLettuce', 'Insect', 'ItalianSausage', 'ItalianSeasoning', 'Jackcheese', 'Jalapeno', 'JalapenoJack', 'Jalapenos', 'Jalapeño', 'Jam', 'Jelly', 'Jicama', 'Juice', 'Juniper', 'KaffirLime', 'Kale', 'Kelp', 'Ketchup', 'KidneyBean', 'KidneyBeans', 'Kimchee', 'Kimchi', 'KingCrab', 'Kiwi', 'Kohlrabi', 'Koreanwheat', 'KosherSalt', 'Kumquat', 'Lactose', 'Lager', 'LagerBeer', 'Lamb', 'Langoustine', 'Lard', 'LatinAmerica', 'Lavender', 'Leaves', 'Lecithin', 'Leek', 'Leek)', 'Legume', 'Legumes', 'Lemon', 'Lemon-LimeSoda', 'LemonBalm', 'LemonGrass', 'LemonJuice', 'LemonZest', 'Lemongrass', 'Lentil', 'Lentils', 'Lettuce', 'Lettuce/LeafyGreens', 'Licorice', 'LighterFluid', 'LimaBean', 'Lime', 'Lime)', 'LimeJuice', 'LimeZest', 'Limejuice', 'Lingonberry', 'Liqueur', 'Liquid', 'Liquid(Alcohol)', 'Liquid(Mezquila)', 'LiquidSmoke', 'Liquidalcohol', 'Liquor', 'Lobster', 'Lotus', 'Lovage', 'Lox', 'Lychee', 'MSG', 'Macadamia', 'Macaroni', 'Mace', 'Mahlab', 'Malanga', 'Malta', 'Malted', 'Mango', 'Mango)', 'Maple', 'MapleSyrup', 'Maraschinocherry', 'Margarine', 'Marigold', 'Marjoram', 'Marmalade', 'Marsala', 'Marshmallow', 'Marzipan', 'Masa', 'MasaHarina', 'Mascarpone', 'Matzo', 'Mayonnaise', 'Mead', 'Meat', 'Meat(Bacon)', 'Meat(Beef', 'Meat(ItalianSausage)', 'Meat(Italiansausage)', 'Meat(Lamb', 'Meat(Lamb)', 'Meat(Pepperoni)', 'Meat(Pork', 'Meat(Pork)', 'Meat(Poultry)', 'Meat(TassoHam)', 'Meat(Turkey)', 'Meat(lamb)', 'Melon', 'MeltingWafers', 'Mentha', 'Meringue', 'Metal', 'MexicanOregano', 'MicroGreens', 'Microgreens', 'Milk', \"Milk(Cow's)\", 'MilkNote:*Breadfruitisnottypicallyconsideredacommonallergen', 'MilkNote:Someoftheseingredientsmayhavemultipleallergensinthem', 'Millet', 'MincedGarlic', 'MincedOnion', 'Mint', 'Mirin', 'Miso', 'MisoNote:Whitemisoismadefromfermentedrice', 'Molasses', 'Molluscan', 'MolluscanShellfish', 'Molluscs', 'Mollusk', 'Mollusks', 'Mollusks(suchassquid', 'MontrealSteakSeasoning', 'Morel', 'Mozzarella', 'MungBean', 'MungBeanSprouts', 'Mushroom', 'Mushrooms', 'Mushrooms)', 'Mussel', 'Mussels', 'Mustard', 'MustardDisclaimer:*Free-rangeeggsaredefinedashensthathavebeenraisedwithoutcontinuousaccesstofeed', 'MustardPowder', 'MustardSeeds', 'Mutton', 'Naan', 'NapaCabbage', 'NavyBean', 'Neem', 'Nightshade', 'Non-dairy', 'None', 'Noodle', 'Nut', 'Nut(Almond', 'Nut(Almond)', 'Nut(Almonds)', 'Nut(Apple)', 'Nut(Banana)', 'Nut(Buckwheat)', 'Nut(Cashew', 'Nut(Cayenne)', 'Nut(Chickpea)', 'Nut(Cocoa)', 'Nut(Coconut)', 'Nut(Currants)', 'Nut(FennelSeeds)', 'Nut(Hazelnut)', 'Nut(HeathBar)', 'Nut(Jalapeno)', 'Nut(Juniper)', 'Nut(Mango)', 'Nut(Marshmallow)', 'Nut(Onion)', 'Nut(Parmesan)', 'Nut(Pastrami)', 'Nut(Peanut)', 'Nut(Pecans)', 'Nut(Pecorino)', 'Nut(PecorinoRomano)', 'Nut(Pine)', 'Nut(Pinenut)', 'Nut(Poppy)', 'Nut(Rolos)', 'Nut(Toffee)', 'Nut(Truffle)', 'Nut(almond', 'Nut(almond)', 'Nut(almonds/hazelnuts)', 'Nut(fennel)', 'Nut(fig)', 'Nut(olive)', 'Nut(olives)', 'Nut(optional)', 'Nut(orange)', 'Nut(pinenuts)', 'Nut(seeds)', 'NutDisclaimer:ThepresenceofaneggyolkinthisrecipeisoptionalIfyouchoosenottouseit', 'NutNote:LimukohuisatypeofseaweedcommonlyusedinHawaiiancuisine', 'NutNote:Passionfruitjuicecontainscitricacid', 'Nutella', 'Nutmeg', 'Nutmeg)', 'Nuts', 'Oat', 'Oats', 'Oba', 'Octopus', 'Oil', 'Oils', 'Okra', 'OldBay', 'Olive', 'OliveNote:*TheeggyolkisoptionalbutaddsrichnessanddepthtothedressingIfyouprefernottouseaneggyolk', 'OliveOil', 'Oliveoil', 'Olives', 'Onion', 'OnionOil', 'OnionPowder', 'Orange', 'Orange/Lemon', 'OrangeBlossom', 'OrangeBlossomHoney', 'OrangeCuraçao', 'OrangeJuice', 'OrangeMarmalade', 'OrangeZest', 'Oranges', 'Oregano', 'Oregano)', 'Organo', 'Orzo', 'Oyster', 'Oysters', 'Palm', 'PalmSugar', 'Palmnut', 'Paneer', 'Panko', 'Papaya', 'Paprika', 'Parmesan', 'Parmesan)', 'Parmigiano', 'Parmigiano-Reggiano', 'ParmigianoReggiano', 'Parsley', 'Parsley)', 'Parsnip', 'Parsnip)', 'Pasillachile', 'PassionFruit', 'Passionfruit', 'Pasta', 'Pastry', 'PastryFlour', 'Pate', 'Pea', 'PeaNote:AchiotepasteisoptionalbutrecommendedforaddeddepthofflavorItismadebyblending1/4cupofdriedachioteseedswith2tablespoonsofneutraloilinaspicegrinderuntilsmooth', 'Peach', 'Peanut', 'Peanut(Butter)', 'Peanut(butter)', 'PeanutDisclaimer:*Notethatusingraweggyolksinthisrecipeisnotrecommended', 'PeanutFree', 'PeanutNote:*Cheesecurdsarenotanallergen', 'PeanutNote:*denotesaningredientthatisalsoacommonallergen', 'PeanutNote:Capsaicinpowderisnotacommonallergen', 'Peanuts', 'Pear', 'PearlOnion', 'Peas', 'Pecan', 'Pecans', 'Pecorino', 'PecorinoCheese', 'PecorinoRomano', 'Peel', 'Pepitas', 'Peppadew', 'Pepper', 'PepperJack', 'PepperJackCheese', 'PepperNote:*Thedriedchipotlechilipowdercontainsdairy', 'PepperNote:Thepickledchipotlechilecontainsdairy', 'PepperRecipeingredients:1lbboneless', 'Peppermint', 'Pepperoncini', 'Pepperoni', 'Peppers', 'Perilla', 'Persimmon', 'Pesto', 'Phyllo', 'Pickle', 'PickledGinger', 'PickledRelish', 'Pickles', 'Pimento', 'Pimentocheese', 'Pimentos', 'Pimiento', 'PineNut', 'PineNuts', 'Pineapple', 'Pinenut', 'Pinenuts', 'PintoBean', 'PintoBeans', 'PipeCleaner', 'Pistachio', 'Plant', 'Plant-BasedCream', 'Plant-based', 'Plantain', 'Plastic', 'Plum', 'Pnut', 'Poblano', 'Poi', 'Polenta', 'Pollen', 'Pomegranate', 'PopRocks', 'Popcorn', 'Poppy', 'PoppySeed', 'PoppySeeds', 'Poppyseed', 'Porcine', 'Pork', 'Pork(Pancetta)', 'Pork(PancettaorBacon)', 'Pork(bacon)', 'Pork)', 'Port', 'PortWine', 'PortobelloMushroom', 'Potato', 'PotatoNote:*The11eggsinthisrecipearenotactuallyanallergen', 'Poultry', 'PoultrySeasoning', 'PowderedSugar', 'Prawn', 'Prawns', 'PricklyPearCactus', 'Probiotic', 'Prosciutto', 'Protein', 'Provolone', 'Prune', 'Prunes', 'PuffPastry', 'Pumpkin', 'Pumpkinseed', 'Purslane', 'Queso', 'Quinoa', 'Rabbit', 'Radicchio', 'Radish', 'Raisin', 'Raisins', 'RamenNoodle', 'Ranch', 'RanchSeasoning', 'Raspberry', 'RauRum', 'Red', 'RedBellPepper', 'RedFoodColorings', 'RedPepper', 'RedPepperFlakes', 'RedWine', 'RedWineVinegar', 'Redpepper', 'Redpepperflakes', 'Redwine', 'RefriedBeans', 'Relish', 'Rennet', 'Rhubarb', 'Rice', 'Rice(wine)', 'RiceDisclaimer:*Notethattherecipecallsfor2eggyolks', 'RiceFlour', 'RiceVinegar', 'RiceWine', 'RiceWineVinegar', 'Ricevinegar', 'Ricewine', 'Ricewinevinegar', 'Ricotta', 'Ricotta)', 'Rolls', 'Romaine', 'Root', 'Root/Stem', 'RootVegetable', 'RootVegetables', 'Rose', 'Rosemary', 'Rosemary)', 'Rosewater', 'Rosewine', 'RoyalIcing', 'Rum', 'Rutabaga', 'Rye', 'RyeBread', 'Safflower', 'Saffron', 'Sage', 'Sage)', 'Sake', 'Salad', 'Salami', 'Salmon', 'Salsa', 'SalsaVerde', 'Salt', 'SaltPork', 'SaltSugar', 'SaltandPepper', 'Saltandpepper', 'Saltine', 'SaltineCracker', 'SaltineCrackers', 'Sambal', 'SassafrasRootBeer', 'Sauce', 'Sauces', 'Sauerkraut', 'Sausage', 'Savoycabbage', 'Scallion', 'Scallions', 'Scallop', 'ScotchBonnet', 'Scotchbonnetchile', 'SeaBass', 'SeaSalt', 'Seafood', 'Seafood(Clams)', 'Seafood(Crustacean)', 'Seafood(Oysters)', 'Seafood(Partridge)', 'Seafood(Shrimp)', 'Seafood(shellfish)', 'Seafood(shellfish-fish)', 'SeafoodDisclaimer:*Notethatthisrecipecallsfor6eggyolks', 'SeafoodDisclaimer:*NotethatusingtwolargeeggyolksinthisrecipewillresultinahigherriskofanadversereactionforindividualswitheggallergiesIfyouorsomeoneyouarecookingforhasaneggallergy', 'SeafoodDisclaimer:Therecipecallsfortwoeggyolks', 'SeafoodNote:ShanghaiCoastlineEthmixisablendofsoysauce', 'SeafoodNote:Theingredient\"countryDijonmustard\"containsMustard', 'Seasalt', 'Seaweed', 'Seed', 'Seeds', 'Seitan', 'Seltzer', 'SeltzerWater', 'Serrano', 'Sesame', 'Shallot', 'Shallots', 'SheepMilk', 'Shellfish', 'Sherry', 'SherryVinegar', 'Shortening', 'Shoyu', 'Shrimp', 'Shrimp)', 'Shrimppaste', 'Sichuan', 'Silk', 'Silken', 'SimpleSyrup', 'Sirloin', 'SkimMilk', 'Slaw', 'Smoke', 'SmokePaprika', 'SmokedMeat', 'SmokedPaprika', 'Smokedfish', 'Smokefish', 'Snail', 'SnapPea', 'SnowCrab', 'SnowPea', 'Snowpeas', 'Soda', 'Sodium', 'Sofrito', 'Softdrink', 'Soppressata', 'SourCream', 'SourCreamorGreekYogurt', 'SourDillPickles', 'Sourcream', 'Sourdough', 'Soy', 'Soy(BBQsauce)', 'Soy(Buttermilk)', 'Soy(CanolaOil)', 'Soy(Crisco)', 'Soy(Crisco®)', 'Soy(Dijonmustard)', 'Soy(FoieGras)', 'Soy(JimmyDeansausage)', 'Soy(Mayonnaise)', 'Soy(Truvia®)', 'Soy(WorcestershireSauce)', 'Soy(Worcestershiresauce)', 'Soy(adobosauce)', 'Soy(ascorbicacid)', 'Soy(basil)', 'Soy(butter)', 'Soy(buttermilk)', 'Soy(canolaoil)', 'Soy(chilipowder)', 'Soy(cilantro)', 'Soy(coconut)', 'Soy(coffee)', 'Soy(cornsyrup)', 'Soy(creamcheese)', 'Soy(falafelmix)', 'Soy(fromWorcestershiresauce)', 'Soy(fromsoysauce)', 'Soy(ginger)', 'Soy(honey)', 'Soy(hotsauce)', 'Soy(ifusingsoy-basedBBQruborseasoning)', 'Soy(inCreolesauce)', 'Soy(inHeavyCream)', 'Soy(inMasaHarina)', 'Soy(inNuocCham)', 'Soy(inPlumCornbread)', 'Soy(inSpicyAioli)', 'Soy(inSpicySlaw)', 'Soy(inWorcestershiresauce)', 'Soy(inbambooshoots)', 'Soy(indressing)', 'Soy(ingarlicpowderandonionpowder)', 'Soy(intapenade)', 'Soy(intheformofbreadcrumbs)', 'Soy(intheformofbutter)', 'Soy(intheformoffishsauce)', 'Soy(intheformofsofrito)', 'Soy(intheformofsoycheese)', 'Soy(intheformofsoymilk)', 'Soy(intheformofsoyoil)', 'Soy(intheformofsoysauce)', 'Soy(intheformofsoysauceinthesherrywine)', 'Soy(intheremouladeandhushpuppies)', 'Soy(ketchup)', 'Soy(mayonnaise)', 'Soy(mint)', 'Soy(molasses)', 'Soy(mustardseeds)', 'Soy(olive)', 'Soy(oliveoil)', 'Soy(rum)', 'Soy(sesame)', 'Soy(throughtheuseofsoylecithininthewhitechocolatechips)', 'Soy(truffleoil)', 'Soy(vanilla)', 'Soy(vanillabeanpaste)', 'Soy(vinegar)', 'SoyFree', 'SoyNote:Theabovelistisbasedontheprovidedrecipeingredientsanddoesnottakeintoaccountanypotentialcross-contaminationorsharedingredientsthatmayalsocauseanallergyreaction', 'Spaghetti', 'Spice', 'Spice(Caraway)', 'Spice(Cayenne)', 'Spice(Cinnamon', 'Spice(Garlic)', 'Spice(Thyme)', 'Spice(cumin', 'Spice(thyme', 'Spice*ModjeskasareatypeofMiddleEasterncookie', 'SpiceDisclaimer:Theeggwhiteinthisrecipeisoptionalandcanbeomittedifyouareallergictoeggsorprefernottousethem', 'SpiceMix', 'SpiceNote:*Greenbananasarenottypicallyconsideredacommonallergen', \"SpiceNote:*Ifyoucan'tfindbird'seyechiles\", 'SpiceNote:Saskatoonberryteaisnotacommonallergen', 'SpiceNote:The\"gratedcheesemix\"islikelytocontaindairyproductssuchascow\\'smilk', 'Spices', 'Spices(Cardamom)', 'Spices(Parsley)', 'Spices(cayenne', 'Spicy', 'SpicyFood', 'SpicyKetchup', 'SpicyRanchDressing', 'Spinach', 'Spirits', 'Sprinkles', 'Sprout', 'Sprouts', 'Squab', 'Squash', 'Squid', 'Squidink', 'Sriracha', 'Star', 'StarAnise', 'Staranise', 'Starch', 'Starches', 'Starchy', 'StarchyVegetables', 'Starchyvegetable', 'Starchyvegetables', 'Starfruit', 'Steak', 'SteakSeasoning', 'Stock', 'StoneCrab', 'Stonefruit', 'Stout', 'StoutBeer', 'Strawberry', 'Strawberry)', 'StringBean', 'Stuffing', 'Sugar', 'Sugar-free', 'SugarDisclaimer:*EggwhitesarenotincludedinthelistofingredientsastheyareoptionalformakingtheicingHowever', 'SugarDisclaimer:*Notethattherecipecallsfor2eggyolks', 'SugarFree', 'SugarNote:*LightbrownsugarismadefromsugarandmolassesIfyouprefernottouselightbrownsugar', 'SugarNote:*Thepresenceofawholeroastedduckintherecipedoesnotnecessarilyindicateanallergen', 'SugarNote:*Thetoastedsliveredalmondsarenotincludedinthelistofallergenssincetheyarenotanallergenthemselves', 'SugarRecipeingredients:1/4cupraspberrypuree(fromabove)1/4cupgranulatedsugar1/4cuplightcornsyrup1/4cupwater1/4cupunsaltedbutter', 'SugarRecipeingredients:Sauce2:1cupwater1/4cupricevinegar1/4cupsoysauce1/4cupbrownsugar1/4cuphoney1/4cupchoppedfreshcilantroAnswer:Soy', 'Sugarsnappea', 'Sulfite', 'Sulfites', 'Sun-DriedTomato', 'Sun-driedTomato', 'Sun-driedTomatoes', 'Sunchokes', 'Sunflower', 'SunflowerSeed', 'SunflowerSeeds', 'Sweet', 'SweetCicely', 'SweetPaprika', 'SweetPepper', 'SweetPotato', 'SweetPotatoSugar', 'Sweetener', 'Sweetpeppers', 'Sweetpotato', 'SwissCheese', 'Syrup', 'Tabasco', 'TacoSeasoningMix', 'Taffy', 'Tahini', 'Tamarind', 'Tangerine', 'Tapenade', 'Tapioca', 'Taro', 'Tarragon', 'Tarragon)', 'Tartar', 'TartarSauce', 'Tea', 'Tempeh', 'TempuraFlour', 'Tequila', 'Thai', 'ThaiChile', 'ThaiChili', 'ThousandIslandDressing', 'Thyme', 'Thyme)', 'Tilapia', 'Tobasco', 'Tofu', 'Tomatillo', 'Tomato', 'Tomato(MarinaraSauce)', 'TomatoKetchup', 'TomatoPaste', 'TomatoSauce', 'Tomatoes', 'Tortilla', 'TreeNut', 'TreeNut(Almond)', 'TreeNut(Cashew)', 'TreeNut(Cinnamon)', 'TreeNut(Ham)', 'TreeNut(Juniper)', 'TreeNut(Lemon)', 'TreeNut(Mango)', 'TreeNut(Paprika)', 'TreeNut(Pine)', 'TreeNut(Walnut)', 'TreeNut(almond)', 'TreeNut(juniper)', 'TreeNuts', 'TreeNuts(Almonds)', 'TreeNuts(suchasalmonds', 'Treenut', 'Treenut(Almond)', 'Treenut(Ancho)', 'Treenut(Anchovy)', 'Treenut(Apple)', 'Treenut(Bacon)', 'Treenut(Bamboo)', \"Treenut(Bear'sGarlic)\", 'Treenut(Chinesefive-spicepowder)', 'Treenut(Chipotle)', 'Treenut(Chocolate)', 'Treenut(Corn)', 'Treenut(Habanero)', 'Treenut(Marmalade)', 'Treenut(NicoiseOlives)', 'Treenut(Nicoiseolives)', 'Treenut(Oregano)', 'Treenut(Pecan)', 'Treenut(Pecans)', 'Treenut(Pine)', 'Treenut(Pretzels)', 'Treenut(Roasted)', 'Treenut(Rosemary)', 'Treenut(Walnut)', 'Treenut(almond)', 'Treenut(almond)Note:*Theduckprosciuttoismadefromduckmeatthathasbeencuredwithsalt', 'Treenut(annatto)', 'Treenut(cashew)', 'Treenut(cornflakes)', 'Treenut(hazelnut)', 'Treenut(insoysauce)', 'Treenut(jalapeno)', 'Treenut(kiwi)', 'Treenut(mango)', 'Treenut(olive)', 'Treenut(optional)', 'Treenut(pine)', 'Treenut(pineapple)', 'Treenut(suchasalmonds', 'Treenut(suchasalmonds)', 'Treenut(walnut)', 'Treenut*Note:*Thehabaneropepperisconsideredatreenutforsomepeople', \"TreenutNote:*AnchoandpasillachilepowdersareavailableatspecialtystoresoronlineIfyoucan'tfindthem\", 'Treenutfree', 'Treenuts', 'Treenuts(Heathbars)', 'Treenuts(Pecans)', 'Treenuts(suchasalmonds', 'Tri-colorpepper', 'Trigger', 'Tropical', 'Tropicalfruit', 'Trout', 'Truffle', 'Tubers', 'Tuna', 'Turkey', 'TurkeyBacon', 'TurkeyMeat', 'Turley', 'Turmeric', 'Turnip', 'Tzatziki', 'Udon', 'UradDhal', 'Vanilla', 'VanillaExtract', 'Veal', 'VealNote:*Whippedeggwhitesarenotincludedinthelistofallergenicingredientsbecausetheydonotcontainanyallergens', 'Vegan', 'Vegetable', 'Vegetable(sun-driedtomatoes)', 'VegetableBroth', 'VegetableOil', 'VegetableShortening', 'VegetableStock', 'Vegetableoil', 'Vegetables', 'Vegetables(Broccoli', 'Vegetables(Radish', 'Venison', 'Vermouth', 'VietnameseMint', 'Vietnamesemint', 'Vinegar', 'Vinegar(RedWine)', 'VitaminC', 'Vodka', 'Walnut', 'Walnut)', 'Wasabi', 'Water', 'WaterChestnut', 'Waterchestnuts', 'Watercress', 'Wheat', 'Wheat(Bread)', 'Wheat(BreadCrumbs)', 'Wheat(Flour)', 'Wheat(Noodeges)', 'Wheat(Parmesan)', 'Wheat(Sourcream)', 'Wheat(barley)', 'Wheat(breadcrumbs)', 'Wheat(butter)', 'Wheat(feta)', 'Wheat(flour)', 'Wheat(inGelatin)', 'Wheat(inHotSauce)', 'Wheat(inbabycorn)', 'Wheat(inbreadcrumbs)', 'Wheat(intheformofbread)', 'Wheat(intheformofbreadcrumbsintheDiscos)', 'Wheat(intortillas)', 'Wheat(juice)', 'Wheat(molasses)', 'Wheat(oregano)', 'Wheat(scallions)', 'Wheat(sourcream)', 'Wheat(spaghetti)', 'Wheat-freeTamari', 'WheatFree', 'WheatNote*Eggyolksarenotexplicitlylistedasaningredient', 'WheatNote:*Eggsarenotexplicitlylistedintherecipe', 'WheatNote:*Eggyolksarenotexplicitlylistedasanallergen', 'WheatNote:*EggyolksarenotlistedasanallergenbecausetheyarenottypicallyconsideredacommonallergenHowever', 'WheatNote:*Ifusingfrozenshrimp', \"WheatNote:*KoreanchilipasteisavailableatmostAsianmarketsoronlineIfyoucan'tfindit\", 'WheatNote:*Rasal-hanutisaMiddleEasternspiceblendthattypicallyincludescumin', 'WheatNote:*indicatesaningredientthatiscommonlyassociatedwithafoodallergy', 'WheatNote:Pepitasareatypeofseedthatisderivedfrompumpkins', 'WheatNote:Theabovelistisbasedontheprovidedrecipeingredientsanddoesnottakeintoaccountanypotentialcross-contaminationorhiddenallergens', 'WheatNote:Zahterisnotacommonfoodallergen', 'WheatPleaseprovidethelistofallergytypesassociatedwitheachrecipeingredient', 'WhippedCream', 'Whiskey', 'White', 'WhiteChocolate', 'WhitePartsScallions', 'WhitePepper', 'WhiteWine', 'Whitepepper', 'Whitepeppercorns', 'Whitewine', 'WholeChicken', 'Wholecloves', 'Wholegrain', 'WholegrainMustard', 'Wholewheat', 'Wine', 'Wine(redwinevinegar)', 'WineVinegar', 'Wood', 'Worcestershire', 'WorcestershireSauce', 'Worcestershiresauce', 'Xanthan', 'XanthanGum', 'Xanthangum', 'Yam', 'Yeast', 'Yellow', 'YellowBean', 'YellowBellPepper', 'YellowFoodColoring', 'YellowFoodColorings', 'YellowMustard', 'YellowOnion', 'YellowSquash', 'Yogurt', 'Yogurt)', 'Yuca', 'Yucca', 'Yuzu', 'YuzuJuice', \"Za'atar\", 'Zest', 'Zhoug', 'Zucchini', 'and/orothergrains', 'andInamonaisatypeofHawaiianspicemadefromgroundkernelofthemesquitetree', 'andallowedtoroamfreelyoutdoorsduringtheday', 'andspices', 'andspicesItmaycontaintracesofnutsduetocross-contaminationduringprocessing', 'andsumacItisnotacommonallergen**Harissasaucecontainschilipeppers', 'andtypicallycontainslessthan1%byweightofdairyproteinHowever', 'asitposesariskofSalmonellacontaminationInstead', 'barley', 'butincaseyouarewondering', 'butitdependsontheindividualSomepeopleareallergictohoney', 'butitisimportanttonotethatconsumingraworundercookedpoultrycanincreasetheriskoffoodborneillness', 'butitmaybeassociatedwithanallergytypeifsomeonehasalettuceallergy', 'butitmaycauseanallergicreactioninsomeindividuals', 'butitmaycausesomepeopletoexperienceadversereactionsduetoitshighsodiumcontent', 'butnotallItisincludedinthelistasaprecautionarymeasure', 'butratheracomponentthatiscommonlyassociatedwithallergies', 'butratheraningredientusedfordecorationpurposes', 'butsomepeoplemayhaveanallergytoit', 'buttheyareimpliedbytheinstruction\"3eggyolks\"', 'buttheyareimpliedbytheuseof\"Caesardressing\"whichtypicallycontainseggyolks', 'buttheyareincludedintherouillerecipe', 'buttheyarenotexplicitlylistedasanallergenHowever', 'buttheyareoftengroupedtogetherwithother\"treenuts\"forfoodallergypurposesduetotheirsimilaritiesincompositionandpotentialforcross-reactivity', 'buttheydohelptocreatearicherflavorprofileIfyouchoosetoomitthem', 'buttheymaybecontaminatedwithpeanutsduringprocessing', 'buttheymaycauseanallergicreactioninsomeindividuals', 'buttheymaycauseissuesforthosewhoarelactoseintolerant', 'caraway', 'cashew', 'cashews', 'cayennepepper)', 'chives', 'coriander', 'crab)', 'defrostinrefrigeratorovernight', 'forsimplicity', 'ifused', 'ifyouareallergictoeggs', 'ifyouhaveasevereallergytoanyingredient', 'includingcrabs', 'includingthosethataredairy-basedandthosethatarenotTherefore', 'itisderivedfromchilipeppersandcancauseanallergicreactioninsomepeople', 'itisoftengroupedwithnutsinfoodallergydiscussions', 'itisstillconsideredapotentialallergenforthoseallergictodairyproteins', 'lobster', 'marjoram)', 'meltedAnswer:Fruit', 'mint', 'mint)', 'mussels)', 'oregano)', 'oruseaflaxorchiaeggsubstitute', 'paprika)', 'parsley)', 'pleaseconsultamedicalprofessionalbeforeconsuminganyfood', 'pleaseremoveitfromthelistofpotentialallergens', 'pleasesubstitutewithadifferentingredientorconsultwithamedicalprofessionalbeforeconsuming', 'pleasesubstitutewithadifferentproteinsourcesuchaschickenorturkeybreast', 'pleasesubstitutewithanotheringredientoravoidusingitaltogether', 'pleaseuseonelargeeggyolkorsubstitutewithadifferentingredient', 'ricevinegar', 'sesameoil', 'sinceeggyolkscontainbothproteinsandfat', 'sincetherecipedoesnotprovideanyinstructionsonhowtohandleorsubstitutetheseingredientssafely', 'skinlesschickenbreasts1/4cupsoysauce1/4cupricevinegar1/4cuphoney1tspgratedginger1tspcrushedredpepperflakes1/4cupchoppedscallionsAnswer:Soy', 'soitisassociatedwiththe\"Dairy\"allergytype', 'soitisimportanttocheckthesourceofthealmondsandconsiderthemasapotentialallergenifyouhaveapeanutallergy', 'soitisincludedinthelistforcompleteness', 'soitisnottechnicallyanutallergenHowever', 'soitisunlikelythattheywouldcauseanallergicreactionHowever', 'soitshouldbeavoidedifyouhaveadairyallergy', 'soitwillnotappearinthelistofallergytypes', 'somepeoplemayhaveadversereactionstoconsumingitduetoitshighaciditylevel', 'somepeoplemayhaveanallergytoeggs', 'somepeoplemayhaveanallergytoshellfish', 'substitute1/4teaspoongroundcuminand1/4teaspoonsm', 'substitutewith1/4teaspoonThaichiliflakesor1/4teaspoonredpepperflakes', 'substitutewithgochujangorKoreanchiliflakes', 'suchassoysaucecontainingbothsoyandfish', 'sugar', 'sundriedtomato)', 'tarragon', 'theallergytypeforthisingredientislistedas\"Dairy\"', 'thelambracksarefrenchedbeforecooking', 'thenpatdrywithpapertowelsbeforechopping', 'theyareoftenconsideredacommonallergenduetotheirpotentialtocauseanallergicreaction', 'theycouldpotentiallycauseanallergicreactioninindividualswith', 'theywouldfallunderthe\"Egg\"category', 'usepasteurizedeggyolksoranalternativesuchasaquafaba(theliquidfromcannedchickpeas)foraddedsafety', 'walnut)', 'walnuts)', 'wecannotincludetheminthelistofpotentialallergens', 'whichareanallergenHowever', 'whicharenotacommonallergenbutmaycauseirritationtosomeindividuals', 'whichcouldpotentiallycauseanallergicreactioninindividualswitheggallergiesIfyouorsomeoneyouarecookingforhasaneggallergy', 'whichisacommonallergen', 'whichisnottypicallyconsideredanallergenHowever', 'whichmayposeanissueforindividualswhoareallergictoeggsHowever', 'whichmayposeariskforindividualswitheggallergies', 'whileothersarenot', 'youcansubstitutetheeggyolkswith2flaxeggs(1tablespoongroundflaxseed+3tablespoonswater', 'youcansubstitutewith1/4teaspoonofflaxseedmealmixedwith2tablespoonsofwaterLetthemixturesitfor5minutesbeforeusinginplaceoftheeggyolk', 'youcansubstitutewithanadditional2tablespoonsofaioliormayonnaiseinstead', 'youcansubstitutewithanequalamountofgranulatedsugar', 'youshouldavoidconsumingthisdrink']\n"
          ]
        }
      ]
    },
    {
      "cell_type": "code",
      "source": [
        "print(df[\"allergy_type\"].value_counts())\n"
      ],
      "metadata": {
        "colab": {
          "base_uri": "https://localhost:8080/"
        },
        "id": "snHmLJeLcGi8",
        "outputId": "7ac226e3-71c3-42f4-d67b-dd86032019b7"
      },
      "execution_count": 51,
      "outputs": [
        {
          "output_type": "stream",
          "name": "stdout",
          "text": [
            "allergy_type\n",
            "[Alcohol]                             555\n",
            "[Dairy, Sugar]                        436\n",
            "[Dairy, Fruit]                        427\n",
            "[Dairy, Egg]                          408\n",
            "[Milk, Egg]                           400\n",
            "                                     ... \n",
            "[Nut, Dairy, Grain, Meat]               1\n",
            "[Coconut, Eggs, Sugar]                  1\n",
            "[Milk, Egg, Allium, Cheese, Grain]      1\n",
            "[Cabbage, Butter]                       1\n",
            "[Cow'smilk, Gluten, Garlic, Lemon]      1\n",
            "Name: count, Length: 31228, dtype: int64\n"
          ]
        }
      ]
    },
    {
      "cell_type": "code",
      "source": [
        "print(f\"Original y shape: {df['allergy_type'].shape}\")  # (74465,)\n",
        "\n",
        "# S'assure que allergy_type est bien formaté comme une liste\n",
        "df[\"allergy_type\"] = df[\"allergy_type\"].apply(lambda x: eval(x) if isinstance(x, str) else x)\n",
        "\n",
        "# One-hot encode allergies\n",
        "mlb = MultiLabelBinarizer() # applique les labels d'allergènes a plusieurs recettes\n",
        "y = mlb.fit_transform(df[\"allergy_type\"])\n",
        "\n",
        "# Vérification de la nouvelle shape\n",
        "print(f\"New y shape: {y.shape}\")  # (74465, number_of_allergens)\n"
      ],
      "metadata": {
        "colab": {
          "base_uri": "https://localhost:8080/"
        },
        "id": "Q-uL6dO3dgop",
        "outputId": "7e2bd497-2923-4d17-bb9c-b34f8df2f81a"
      },
      "execution_count": 62,
      "outputs": [
        {
          "output_type": "stream",
          "name": "stdout",
          "text": [
            "Original y shape: (74465,)\n",
            "New y shape: (74465, 1691)\n"
          ]
        }
      ]
    },
    {
      "cell_type": "code",
      "source": [
        "# import ast # Obsolete (peut-être réutiliser dans la version finale)\n",
        "# df[\"allergy_type\"] = df[\"allergy_type\"].apply(ast.literal_eval)  # Convertie string list → vrai list\n"
      ],
      "metadata": {
        "colab": {
          "base_uri": "https://localhost:8080/",
          "height": 347
        },
        "id": "q8-cPwt1cuMn",
        "outputId": "c02935d9-0f39-40e2-ba4d-f4f2743f5ba0"
      },
      "execution_count": 33,
      "outputs": [
        {
          "output_type": "error",
          "ename": "ValueError",
          "evalue": "malformed node or string: ['Nut', 'Beet', 'Fruit', 'Cheese']",
          "traceback": [
            "\u001b[0;31m---------------------------------------------------------------------------\u001b[0m",
            "\u001b[0;31mValueError\u001b[0m                                Traceback (most recent call last)",
            "\u001b[0;32m<ipython-input-33-b0d37cf34101>\u001b[0m in \u001b[0;36m<cell line: 0>\u001b[0;34m()\u001b[0m\n\u001b[1;32m      1\u001b[0m \u001b[0;32mimport\u001b[0m \u001b[0mast\u001b[0m\u001b[0;34m\u001b[0m\u001b[0;34m\u001b[0m\u001b[0m\n\u001b[0;32m----> 2\u001b[0;31m \u001b[0mdf\u001b[0m\u001b[0;34m[\u001b[0m\u001b[0;34m\"allergy_type\"\u001b[0m\u001b[0;34m]\u001b[0m \u001b[0;34m=\u001b[0m \u001b[0mdf\u001b[0m\u001b[0;34m[\u001b[0m\u001b[0;34m\"allergy_type\"\u001b[0m\u001b[0;34m]\u001b[0m\u001b[0;34m.\u001b[0m\u001b[0mapply\u001b[0m\u001b[0;34m(\u001b[0m\u001b[0mast\u001b[0m\u001b[0;34m.\u001b[0m\u001b[0mliteral_eval\u001b[0m\u001b[0;34m)\u001b[0m  \u001b[0;31m# Convert string list → actual list\u001b[0m\u001b[0;34m\u001b[0m\u001b[0;34m\u001b[0m\u001b[0m\n\u001b[0m",
            "\u001b[0;32m/usr/local/lib/python3.11/dist-packages/pandas/core/series.py\u001b[0m in \u001b[0;36mapply\u001b[0;34m(self, func, convert_dtype, args, by_row, **kwargs)\u001b[0m\n\u001b[1;32m   4922\u001b[0m             \u001b[0margs\u001b[0m\u001b[0;34m=\u001b[0m\u001b[0margs\u001b[0m\u001b[0;34m,\u001b[0m\u001b[0;34m\u001b[0m\u001b[0;34m\u001b[0m\u001b[0m\n\u001b[1;32m   4923\u001b[0m             \u001b[0mkwargs\u001b[0m\u001b[0;34m=\u001b[0m\u001b[0mkwargs\u001b[0m\u001b[0;34m,\u001b[0m\u001b[0;34m\u001b[0m\u001b[0;34m\u001b[0m\u001b[0m\n\u001b[0;32m-> 4924\u001b[0;31m         ).apply()\n\u001b[0m\u001b[1;32m   4925\u001b[0m \u001b[0;34m\u001b[0m\u001b[0m\n\u001b[1;32m   4926\u001b[0m     def _reindex_indexer(\n",
            "\u001b[0;32m/usr/local/lib/python3.11/dist-packages/pandas/core/apply.py\u001b[0m in \u001b[0;36mapply\u001b[0;34m(self)\u001b[0m\n\u001b[1;32m   1425\u001b[0m \u001b[0;34m\u001b[0m\u001b[0m\n\u001b[1;32m   1426\u001b[0m         \u001b[0;31m# self.func is Callable\u001b[0m\u001b[0;34m\u001b[0m\u001b[0;34m\u001b[0m\u001b[0m\n\u001b[0;32m-> 1427\u001b[0;31m         \u001b[0;32mreturn\u001b[0m \u001b[0mself\u001b[0m\u001b[0;34m.\u001b[0m\u001b[0mapply_standard\u001b[0m\u001b[0;34m(\u001b[0m\u001b[0;34m)\u001b[0m\u001b[0;34m\u001b[0m\u001b[0;34m\u001b[0m\u001b[0m\n\u001b[0m\u001b[1;32m   1428\u001b[0m \u001b[0;34m\u001b[0m\u001b[0m\n\u001b[1;32m   1429\u001b[0m     \u001b[0;32mdef\u001b[0m \u001b[0magg\u001b[0m\u001b[0;34m(\u001b[0m\u001b[0mself\u001b[0m\u001b[0;34m)\u001b[0m\u001b[0;34m:\u001b[0m\u001b[0;34m\u001b[0m\u001b[0;34m\u001b[0m\u001b[0m\n",
            "\u001b[0;32m/usr/local/lib/python3.11/dist-packages/pandas/core/apply.py\u001b[0m in \u001b[0;36mapply_standard\u001b[0;34m(self)\u001b[0m\n\u001b[1;32m   1505\u001b[0m         \u001b[0;31m#  Categorical (GH51645).\u001b[0m\u001b[0;34m\u001b[0m\u001b[0;34m\u001b[0m\u001b[0m\n\u001b[1;32m   1506\u001b[0m         \u001b[0maction\u001b[0m \u001b[0;34m=\u001b[0m \u001b[0;34m\"ignore\"\u001b[0m \u001b[0;32mif\u001b[0m \u001b[0misinstance\u001b[0m\u001b[0;34m(\u001b[0m\u001b[0mobj\u001b[0m\u001b[0;34m.\u001b[0m\u001b[0mdtype\u001b[0m\u001b[0;34m,\u001b[0m \u001b[0mCategoricalDtype\u001b[0m\u001b[0;34m)\u001b[0m \u001b[0;32melse\u001b[0m \u001b[0;32mNone\u001b[0m\u001b[0;34m\u001b[0m\u001b[0;34m\u001b[0m\u001b[0m\n\u001b[0;32m-> 1507\u001b[0;31m         mapped = obj._map_values(\n\u001b[0m\u001b[1;32m   1508\u001b[0m             \u001b[0mmapper\u001b[0m\u001b[0;34m=\u001b[0m\u001b[0mcurried\u001b[0m\u001b[0;34m,\u001b[0m \u001b[0mna_action\u001b[0m\u001b[0;34m=\u001b[0m\u001b[0maction\u001b[0m\u001b[0;34m,\u001b[0m \u001b[0mconvert\u001b[0m\u001b[0;34m=\u001b[0m\u001b[0mself\u001b[0m\u001b[0;34m.\u001b[0m\u001b[0mconvert_dtype\u001b[0m\u001b[0;34m\u001b[0m\u001b[0;34m\u001b[0m\u001b[0m\n\u001b[1;32m   1509\u001b[0m         )\n",
            "\u001b[0;32m/usr/local/lib/python3.11/dist-packages/pandas/core/base.py\u001b[0m in \u001b[0;36m_map_values\u001b[0;34m(self, mapper, na_action, convert)\u001b[0m\n\u001b[1;32m    919\u001b[0m             \u001b[0;32mreturn\u001b[0m \u001b[0marr\u001b[0m\u001b[0;34m.\u001b[0m\u001b[0mmap\u001b[0m\u001b[0;34m(\u001b[0m\u001b[0mmapper\u001b[0m\u001b[0;34m,\u001b[0m \u001b[0mna_action\u001b[0m\u001b[0;34m=\u001b[0m\u001b[0mna_action\u001b[0m\u001b[0;34m)\u001b[0m\u001b[0;34m\u001b[0m\u001b[0;34m\u001b[0m\u001b[0m\n\u001b[1;32m    920\u001b[0m \u001b[0;34m\u001b[0m\u001b[0m\n\u001b[0;32m--> 921\u001b[0;31m         \u001b[0;32mreturn\u001b[0m \u001b[0malgorithms\u001b[0m\u001b[0;34m.\u001b[0m\u001b[0mmap_array\u001b[0m\u001b[0;34m(\u001b[0m\u001b[0marr\u001b[0m\u001b[0;34m,\u001b[0m \u001b[0mmapper\u001b[0m\u001b[0;34m,\u001b[0m \u001b[0mna_action\u001b[0m\u001b[0;34m=\u001b[0m\u001b[0mna_action\u001b[0m\u001b[0;34m,\u001b[0m \u001b[0mconvert\u001b[0m\u001b[0;34m=\u001b[0m\u001b[0mconvert\u001b[0m\u001b[0;34m)\u001b[0m\u001b[0;34m\u001b[0m\u001b[0;34m\u001b[0m\u001b[0m\n\u001b[0m\u001b[1;32m    922\u001b[0m \u001b[0;34m\u001b[0m\u001b[0m\n\u001b[1;32m    923\u001b[0m     \u001b[0;34m@\u001b[0m\u001b[0mfinal\u001b[0m\u001b[0;34m\u001b[0m\u001b[0;34m\u001b[0m\u001b[0m\n",
            "\u001b[0;32m/usr/local/lib/python3.11/dist-packages/pandas/core/algorithms.py\u001b[0m in \u001b[0;36mmap_array\u001b[0;34m(arr, mapper, na_action, convert)\u001b[0m\n\u001b[1;32m   1741\u001b[0m     \u001b[0mvalues\u001b[0m \u001b[0;34m=\u001b[0m \u001b[0marr\u001b[0m\u001b[0;34m.\u001b[0m\u001b[0mastype\u001b[0m\u001b[0;34m(\u001b[0m\u001b[0mobject\u001b[0m\u001b[0;34m,\u001b[0m \u001b[0mcopy\u001b[0m\u001b[0;34m=\u001b[0m\u001b[0;32mFalse\u001b[0m\u001b[0;34m)\u001b[0m\u001b[0;34m\u001b[0m\u001b[0;34m\u001b[0m\u001b[0m\n\u001b[1;32m   1742\u001b[0m     \u001b[0;32mif\u001b[0m \u001b[0mna_action\u001b[0m \u001b[0;32mis\u001b[0m \u001b[0;32mNone\u001b[0m\u001b[0;34m:\u001b[0m\u001b[0;34m\u001b[0m\u001b[0;34m\u001b[0m\u001b[0m\n\u001b[0;32m-> 1743\u001b[0;31m         \u001b[0;32mreturn\u001b[0m \u001b[0mlib\u001b[0m\u001b[0;34m.\u001b[0m\u001b[0mmap_infer\u001b[0m\u001b[0;34m(\u001b[0m\u001b[0mvalues\u001b[0m\u001b[0;34m,\u001b[0m \u001b[0mmapper\u001b[0m\u001b[0;34m,\u001b[0m \u001b[0mconvert\u001b[0m\u001b[0;34m=\u001b[0m\u001b[0mconvert\u001b[0m\u001b[0;34m)\u001b[0m\u001b[0;34m\u001b[0m\u001b[0;34m\u001b[0m\u001b[0m\n\u001b[0m\u001b[1;32m   1744\u001b[0m     \u001b[0;32melse\u001b[0m\u001b[0;34m:\u001b[0m\u001b[0;34m\u001b[0m\u001b[0;34m\u001b[0m\u001b[0m\n\u001b[1;32m   1745\u001b[0m         return lib.map_infer_mask(\n",
            "\u001b[0;32mlib.pyx\u001b[0m in \u001b[0;36mpandas._libs.lib.map_infer\u001b[0;34m()\u001b[0m\n",
            "\u001b[0;32m/usr/lib/python3.11/ast.py\u001b[0m in \u001b[0;36mliteral_eval\u001b[0;34m(node_or_string)\u001b[0m\n\u001b[1;32m    108\u001b[0m                     \u001b[0;32mreturn\u001b[0m \u001b[0mleft\u001b[0m \u001b[0;34m-\u001b[0m \u001b[0mright\u001b[0m\u001b[0;34m\u001b[0m\u001b[0;34m\u001b[0m\u001b[0m\n\u001b[1;32m    109\u001b[0m         \u001b[0;32mreturn\u001b[0m \u001b[0m_convert_signed_num\u001b[0m\u001b[0;34m(\u001b[0m\u001b[0mnode\u001b[0m\u001b[0;34m)\u001b[0m\u001b[0;34m\u001b[0m\u001b[0;34m\u001b[0m\u001b[0m\n\u001b[0;32m--> 110\u001b[0;31m     \u001b[0;32mreturn\u001b[0m \u001b[0m_convert\u001b[0m\u001b[0;34m(\u001b[0m\u001b[0mnode_or_string\u001b[0m\u001b[0;34m)\u001b[0m\u001b[0;34m\u001b[0m\u001b[0;34m\u001b[0m\u001b[0m\n\u001b[0m\u001b[1;32m    111\u001b[0m \u001b[0;34m\u001b[0m\u001b[0m\n\u001b[1;32m    112\u001b[0m \u001b[0;34m\u001b[0m\u001b[0m\n",
            "\u001b[0;32m/usr/lib/python3.11/ast.py\u001b[0m in \u001b[0;36m_convert\u001b[0;34m(node)\u001b[0m\n\u001b[1;32m    107\u001b[0m                 \u001b[0;32melse\u001b[0m\u001b[0;34m:\u001b[0m\u001b[0;34m\u001b[0m\u001b[0;34m\u001b[0m\u001b[0m\n\u001b[1;32m    108\u001b[0m                     \u001b[0;32mreturn\u001b[0m \u001b[0mleft\u001b[0m \u001b[0;34m-\u001b[0m \u001b[0mright\u001b[0m\u001b[0;34m\u001b[0m\u001b[0;34m\u001b[0m\u001b[0m\n\u001b[0;32m--> 109\u001b[0;31m         \u001b[0;32mreturn\u001b[0m \u001b[0m_convert_signed_num\u001b[0m\u001b[0;34m(\u001b[0m\u001b[0mnode\u001b[0m\u001b[0;34m)\u001b[0m\u001b[0;34m\u001b[0m\u001b[0;34m\u001b[0m\u001b[0m\n\u001b[0m\u001b[1;32m    110\u001b[0m     \u001b[0;32mreturn\u001b[0m \u001b[0m_convert\u001b[0m\u001b[0;34m(\u001b[0m\u001b[0mnode_or_string\u001b[0m\u001b[0;34m)\u001b[0m\u001b[0;34m\u001b[0m\u001b[0;34m\u001b[0m\u001b[0m\n\u001b[1;32m    111\u001b[0m \u001b[0;34m\u001b[0m\u001b[0m\n",
            "\u001b[0;32m/usr/lib/python3.11/ast.py\u001b[0m in \u001b[0;36m_convert_signed_num\u001b[0;34m(node)\u001b[0m\n\u001b[1;32m     81\u001b[0m             \u001b[0;32melse\u001b[0m\u001b[0;34m:\u001b[0m\u001b[0;34m\u001b[0m\u001b[0;34m\u001b[0m\u001b[0m\n\u001b[1;32m     82\u001b[0m                 \u001b[0;32mreturn\u001b[0m \u001b[0;34m-\u001b[0m \u001b[0moperand\u001b[0m\u001b[0;34m\u001b[0m\u001b[0;34m\u001b[0m\u001b[0m\n\u001b[0;32m---> 83\u001b[0;31m         \u001b[0;32mreturn\u001b[0m \u001b[0m_convert_num\u001b[0m\u001b[0;34m(\u001b[0m\u001b[0mnode\u001b[0m\u001b[0;34m)\u001b[0m\u001b[0;34m\u001b[0m\u001b[0;34m\u001b[0m\u001b[0m\n\u001b[0m\u001b[1;32m     84\u001b[0m     \u001b[0;32mdef\u001b[0m \u001b[0m_convert\u001b[0m\u001b[0;34m(\u001b[0m\u001b[0mnode\u001b[0m\u001b[0;34m)\u001b[0m\u001b[0;34m:\u001b[0m\u001b[0;34m\u001b[0m\u001b[0;34m\u001b[0m\u001b[0m\n\u001b[1;32m     85\u001b[0m         \u001b[0;32mif\u001b[0m \u001b[0misinstance\u001b[0m\u001b[0;34m(\u001b[0m\u001b[0mnode\u001b[0m\u001b[0;34m,\u001b[0m \u001b[0mConstant\u001b[0m\u001b[0;34m)\u001b[0m\u001b[0;34m:\u001b[0m\u001b[0;34m\u001b[0m\u001b[0;34m\u001b[0m\u001b[0m\n",
            "\u001b[0;32m/usr/lib/python3.11/ast.py\u001b[0m in \u001b[0;36m_convert_num\u001b[0;34m(node)\u001b[0m\n\u001b[1;32m     72\u001b[0m     \u001b[0;32mdef\u001b[0m \u001b[0m_convert_num\u001b[0m\u001b[0;34m(\u001b[0m\u001b[0mnode\u001b[0m\u001b[0;34m)\u001b[0m\u001b[0;34m:\u001b[0m\u001b[0;34m\u001b[0m\u001b[0;34m\u001b[0m\u001b[0m\n\u001b[1;32m     73\u001b[0m         \u001b[0;32mif\u001b[0m \u001b[0;32mnot\u001b[0m \u001b[0misinstance\u001b[0m\u001b[0;34m(\u001b[0m\u001b[0mnode\u001b[0m\u001b[0;34m,\u001b[0m \u001b[0mConstant\u001b[0m\u001b[0;34m)\u001b[0m \u001b[0;32mor\u001b[0m \u001b[0mtype\u001b[0m\u001b[0;34m(\u001b[0m\u001b[0mnode\u001b[0m\u001b[0;34m.\u001b[0m\u001b[0mvalue\u001b[0m\u001b[0;34m)\u001b[0m \u001b[0;32mnot\u001b[0m \u001b[0;32min\u001b[0m \u001b[0;34m(\u001b[0m\u001b[0mint\u001b[0m\u001b[0;34m,\u001b[0m \u001b[0mfloat\u001b[0m\u001b[0;34m,\u001b[0m \u001b[0mcomplex\u001b[0m\u001b[0;34m)\u001b[0m\u001b[0;34m:\u001b[0m\u001b[0;34m\u001b[0m\u001b[0;34m\u001b[0m\u001b[0m\n\u001b[0;32m---> 74\u001b[0;31m             \u001b[0m_raise_malformed_node\u001b[0m\u001b[0;34m(\u001b[0m\u001b[0mnode\u001b[0m\u001b[0;34m)\u001b[0m\u001b[0;34m\u001b[0m\u001b[0;34m\u001b[0m\u001b[0m\n\u001b[0m\u001b[1;32m     75\u001b[0m         \u001b[0;32mreturn\u001b[0m \u001b[0mnode\u001b[0m\u001b[0;34m.\u001b[0m\u001b[0mvalue\u001b[0m\u001b[0;34m\u001b[0m\u001b[0;34m\u001b[0m\u001b[0m\n\u001b[1;32m     76\u001b[0m     \u001b[0;32mdef\u001b[0m \u001b[0m_convert_signed_num\u001b[0m\u001b[0;34m(\u001b[0m\u001b[0mnode\u001b[0m\u001b[0;34m)\u001b[0m\u001b[0;34m:\u001b[0m\u001b[0;34m\u001b[0m\u001b[0;34m\u001b[0m\u001b[0m\n",
            "\u001b[0;32m/usr/lib/python3.11/ast.py\u001b[0m in \u001b[0;36m_raise_malformed_node\u001b[0;34m(node)\u001b[0m\n\u001b[1;32m     69\u001b[0m         \u001b[0;32mif\u001b[0m \u001b[0mlno\u001b[0m \u001b[0;34m:=\u001b[0m \u001b[0mgetattr\u001b[0m\u001b[0;34m(\u001b[0m\u001b[0mnode\u001b[0m\u001b[0;34m,\u001b[0m \u001b[0;34m'lineno'\u001b[0m\u001b[0;34m,\u001b[0m \u001b[0;32mNone\u001b[0m\u001b[0;34m)\u001b[0m\u001b[0;34m:\u001b[0m\u001b[0;34m\u001b[0m\u001b[0;34m\u001b[0m\u001b[0m\n\u001b[1;32m     70\u001b[0m             \u001b[0mmsg\u001b[0m \u001b[0;34m+=\u001b[0m \u001b[0;34mf' on line {lno}'\u001b[0m\u001b[0;34m\u001b[0m\u001b[0;34m\u001b[0m\u001b[0m\n\u001b[0;32m---> 71\u001b[0;31m         \u001b[0;32mraise\u001b[0m \u001b[0mValueError\u001b[0m\u001b[0;34m(\u001b[0m\u001b[0mmsg\u001b[0m \u001b[0;34m+\u001b[0m \u001b[0;34mf': {node!r}'\u001b[0m\u001b[0;34m)\u001b[0m\u001b[0;34m\u001b[0m\u001b[0;34m\u001b[0m\u001b[0m\n\u001b[0m\u001b[1;32m     72\u001b[0m     \u001b[0;32mdef\u001b[0m \u001b[0m_convert_num\u001b[0m\u001b[0;34m(\u001b[0m\u001b[0mnode\u001b[0m\u001b[0;34m)\u001b[0m\u001b[0;34m:\u001b[0m\u001b[0;34m\u001b[0m\u001b[0;34m\u001b[0m\u001b[0m\n\u001b[1;32m     73\u001b[0m         \u001b[0;32mif\u001b[0m \u001b[0;32mnot\u001b[0m \u001b[0misinstance\u001b[0m\u001b[0;34m(\u001b[0m\u001b[0mnode\u001b[0m\u001b[0;34m,\u001b[0m \u001b[0mConstant\u001b[0m\u001b[0;34m)\u001b[0m \u001b[0;32mor\u001b[0m \u001b[0mtype\u001b[0m\u001b[0;34m(\u001b[0m\u001b[0mnode\u001b[0m\u001b[0;34m.\u001b[0m\u001b[0mvalue\u001b[0m\u001b[0;34m)\u001b[0m \u001b[0;32mnot\u001b[0m \u001b[0;32min\u001b[0m \u001b[0;34m(\u001b[0m\u001b[0mint\u001b[0m\u001b[0;34m,\u001b[0m \u001b[0mfloat\u001b[0m\u001b[0;34m,\u001b[0m \u001b[0mcomplex\u001b[0m\u001b[0;34m)\u001b[0m\u001b[0;34m:\u001b[0m\u001b[0;34m\u001b[0m\u001b[0;34m\u001b[0m\u001b[0m\n",
            "\u001b[0;31mValueError\u001b[0m: malformed node or string: ['Nut', 'Beet', 'Fruit', 'Cheese']"
          ]
        }
      ]
    },
    {
      "cell_type": "code",
      "source": [
        "from collections import Counter # permet de compter la fréquence d'éléments dans une liste\n",
        "\n",
        "# Flatten la collone d'allergies pour compter le nombre de fois qu'elles sont listés dans toutes la df\n",
        "allergy_counts = Counter(allergy for allergies in df[\"allergy_type\"] for allergy in allergies)\n",
        "\n",
        "# Création d'un autre dataframe pour une meilleur visualisaion\n",
        "allergy_df = pd.DataFrame(allergy_counts.items(), columns=[\"Allergy\", \"Count\"]).sort_values(by=\"Count\", ascending=False)\n",
        "\n",
        "print(allergy_df)\n",
        "print(allergy_df.shape) # (1691, 2)\n"
      ],
      "metadata": {
        "colab": {
          "base_uri": "https://localhost:8080/"
        },
        "id": "E3jngwTAckNv",
        "outputId": "d972a98d-b646-4781-a46b-85782ee287e9"
      },
      "execution_count": 63,
      "outputs": [
        {
          "output_type": "stream",
          "name": "stdout",
          "text": [
            "                                      Allergy  Count\n",
            "7                                        Milk  19787\n",
            "0                                         Nut  17233\n",
            "21                                      Dairy  16635\n",
            "6                                         Egg  14430\n",
            "9                                       Wheat  13055\n",
            "...                                       ...    ...\n",
            "975   Soy(intheformofsoysauceinthesherrywine)      1\n",
            "976                              JalapenoJack      1\n",
            "977                           Soy(truffleoil)      1\n",
            "980                           Tri-colorpepper      1\n",
            "1690                     Wheat(inbreadcrumbs)      1\n",
            "\n",
            "[1691 rows x 2 columns]\n",
            "(1691, 2)\n"
          ]
        }
      ]
    },
    {
      "cell_type": "code",
      "source": [
        "# print(df[\"allergy_type\"].head(10))\n"
      ],
      "metadata": {
        "colab": {
          "base_uri": "https://localhost:8080/"
        },
        "id": "Ur71sMVqe1GW",
        "outputId": "1b8af939-40ed-4bea-8c27-e88adaaaf637"
      },
      "execution_count": 65,
      "outputs": [
        {
          "output_type": "stream",
          "name": "stdout",
          "text": [
            "0                           [Nut, Beet, Fruit, Cheese]\n",
            "1                      [Fruit, Vegetable, Nut, Sesame]\n",
            "2                                         [Egg, Fruit]\n",
            "3    [Milk, Nut, Soy, Wheat, Onion, Carrot, Leek, G...\n",
            "4                                              [Lemon]\n",
            "5    [Flour, Butter, CreamCheese, Egg, Vanilla, Alm...\n",
            "6                                  [Nut, Fruit, Grain]\n",
            "7                                    [Nut, Dairy, Egg]\n",
            "8                              [Fruit, Alcohol, Spice]\n",
            "9                                   [Nut, Seed, Spice]\n",
            "Name: allergy_type, dtype: object\n"
          ]
        }
      ]
    },
    {
      "cell_type": "code",
      "source": [
        "# Vérification que tous les allérgènes sont dans une liste\n",
        "df[\"allergy_type\"] = df[\"allergy_type\"].apply(lambda x: eval(x) if isinstance(x, str) else x)\n",
        "\n",
        "# Créer une matrice binaire des allérgènes\n",
        "mlb = MultiLabelBinarizer()\n",
        "y = mlb.fit_transform(df[\"allergy_type\"])\n",
        "\n",
        "# Création d'une dataframe de matrice binaire\n",
        "y_df = pd.DataFrame(y, columns=mlb.classes_)\n",
        "\n",
        "print(y_df.head())  # Vérification de la df\n",
        "print(y_df.shape)   # (74465, 1691)\n"
      ],
      "metadata": {
        "colab": {
          "base_uri": "https://localhost:8080/"
        },
        "id": "3BQ-4XsLY-8z",
        "outputId": "04483d23-a524-4cc9-db06-5b876ca70cce"
      },
      "execution_count": 71,
      "outputs": [
        {
          "output_type": "stream",
          "name": "stdout",
          "text": [
            "      Acid  Acidic  Acidity  Acornsquash  Adhesive  Adobo  Agave  Aioli  \\\n",
            "0  0     0       0        0            0         0      0      0      0   \n",
            "1  0     0       0        0            0         0      0      0      0   \n",
            "2  0     0       0        0            0         0      0      0      0   \n",
            "3  0     0       0        0            0         0      0      0      0   \n",
            "4  0     0       0        0            0         0      0      0      0   \n",
            "\n",
            "   Alcohol  ...  whichisacommonallergen  \\\n",
            "0        0  ...                       0   \n",
            "1        0  ...                       0   \n",
            "2        0  ...                       0   \n",
            "3        0  ...                       0   \n",
            "4        0  ...                       0   \n",
            "\n",
            "   whichisnottypicallyconsideredanallergenHowever  \\\n",
            "0                                               0   \n",
            "1                                               0   \n",
            "2                                               0   \n",
            "3                                               0   \n",
            "4                                               0   \n",
            "\n",
            "   whichmayposeanissueforindividualswhoareallergictoeggsHowever  \\\n",
            "0                                                  0              \n",
            "1                                                  0              \n",
            "2                                                  0              \n",
            "3                                                  0              \n",
            "4                                                  0              \n",
            "\n",
            "   whichmayposeariskforindividualswitheggallergies  whileothersarenot  \\\n",
            "0                                                0                  0   \n",
            "1                                                0                  0   \n",
            "2                                                0                  0   \n",
            "3                                                0                  0   \n",
            "4                                                0                  0   \n",
            "\n",
            "   youcansubstitutetheeggyolkswith2flaxeggs(1tablespoongroundflaxseed+3tablespoonswater  \\\n",
            "0                                                  0                                      \n",
            "1                                                  0                                      \n",
            "2                                                  0                                      \n",
            "3                                                  0                                      \n",
            "4                                                  0                                      \n",
            "\n",
            "   youcansubstitutewith1/4teaspoonofflaxseedmealmixedwith2tablespoonsofwaterLetthemixturesitfor5minutesbeforeusinginplaceoftheeggyolk  \\\n",
            "0                                                  0                                                                                    \n",
            "1                                                  0                                                                                    \n",
            "2                                                  0                                                                                    \n",
            "3                                                  0                                                                                    \n",
            "4                                                  0                                                                                    \n",
            "\n",
            "   youcansubstitutewithanadditional2tablespoonsofaioliormayonnaiseinstead  \\\n",
            "0                                                  0                        \n",
            "1                                                  0                        \n",
            "2                                                  0                        \n",
            "3                                                  0                        \n",
            "4                                                  0                        \n",
            "\n",
            "   youcansubstitutewithanequalamountofgranulatedsugar  \\\n",
            "0                                                  0    \n",
            "1                                                  0    \n",
            "2                                                  0    \n",
            "3                                                  0    \n",
            "4                                                  0    \n",
            "\n",
            "   youshouldavoidconsumingthisdrink  \n",
            "0                                 0  \n",
            "1                                 0  \n",
            "2                                 0  \n",
            "3                                 0  \n",
            "4                                 0  \n",
            "\n",
            "[5 rows x 1691 columns]\n",
            "(74465, 1691)\n"
          ]
        }
      ]
    },
    {
      "cell_type": "code",
      "source": [
        "print(y_df.columns.tolist())  # Liste de tous les allérgènes possibles\n"
      ],
      "metadata": {
        "colab": {
          "base_uri": "https://localhost:8080/"
        },
        "id": "Xwe3_ZlugTYF",
        "outputId": "21740a4c-19a0-46fb-d4c1-30e18692cc85"
      },
      "execution_count": 67,
      "outputs": [
        {
          "output_type": "stream",
          "name": "stdout",
          "text": [
            "['', 'Acid', 'Acidic', 'Acidity', 'Acornsquash', 'Adhesive', 'Adobo', 'Agave', 'Aioli', 'Alcohol', 'Alcohol(Bourbon)', 'Alcohol(bourbon)', 'AlcoholDisclaimer:*TheeggwhiteisusedasanemulsifierinthisrecipeIfyouareallergictoeggs', 'Ale', 'Alfalfa', 'AlfalfaSprouts', 'AlfonoOlives', 'AllSpice', 'Allergen', 'Allergens', 'Allergensnotspecified', 'Allergy', 'Alliacea', 'Allium', 'Allium(Garlic', 'Allium(garlic)', 'Allium(lavender)', 'AlliumNote:FrenchingisacookingtechniquewheremeatispartiallydebonedbycuttingawaythefattytissuebetweenthebonesInthiscase', 'Allspice', 'Almond', 'Almonds', 'Aloe', 'AmberBeer', 'Anatto', 'Anchochile', 'Anchovies', 'Anchovy', 'Animal', 'AnimalDerivatives', 'AnimalParts', 'AnimalProtein', 'Animalbyproduct', 'Animalproduct', 'Animalprotein', 'Animalprotein(Prawn)', 'Anise', 'Aniseed', 'Apple', 'AppleCiderVinegar', 'Applesauce', 'Apricot', 'ApricotPreserves', 'Arbolchile', 'Arrowroot', 'Artichoke', 'Artichokes', 'ArtificialColoring', 'Artificialcolors', 'Arugula', 'Asafoetida', 'AscorbicAcid', 'Asiago)', 'AsianBasil', 'Asparagus', 'Avocado', 'BabyClams', 'Bacon', 'BakingPowder', 'BakingSoda', 'Bakingpowder', 'Bakingsoda', 'Balsamic', 'BalsamicVinegar', 'Balsamicglaze', 'Bamboo', 'Bambooshoots', 'Banana', 'Banana)', 'Barbecue', 'BarbecueMeat', 'BarbecueSauce', 'Barbecuesauce', 'Barley', 'Barley(Beer)', 'Basil', 'Bass', 'Bay', 'BayLeaf', 'BayLeaf)', 'BayLeave', 'BayLeaves', 'Bayleaf', 'Bayleaves)', 'Bean', 'BeanSprout', 'BeanSprouts', 'Beans', 'Beans/Legumes', 'Bee', 'Beef', 'Beef(Bacon)', 'Beef(Celery)', 'Beef(beer)', 'Beef)', 'BeefBroth', 'BeefConsomme', 'BeefNote:Theabovelistisnotexhaustiveandtheremaybeotherallergenicingredientsintherecipethatarenotmentionedhere', 'BeefStock', 'Beefbroth', 'Beefish', 'Beefish(BassAle)', 'Beefish(beer)', 'BeefsteakTomato', 'Beefstock', 'Beer', 'Beet', 'Beets', 'Bell', 'BellPepper', 'BellPeppers', 'Bellpepper', 'Bellpeppers', 'Berbere', 'Berries', 'Berry', 'Beverage', 'Bird', 'Bison', 'Bitterorangepeel', 'Black-eyedPea', 'Black-eyedpeas', 'BlackBean', 'BlackBeanPaste', 'BlackBeans', 'BlackCurrant', 'BlackPepper', 'BlackPeppercorns', 'BlackSalt', 'Blackpepper', 'Blackpeppercorns', 'Blue', 'Blueberries', 'Blueberry', 'Bluecheese', 'Bluefish', 'BokChoy', 'Bokchoy', 'Bone', 'Bourbon', 'Bran', 'Brandy', 'Brassica', 'Bratwurst', 'BrazilianHotSauce', 'Bread', 'BreadCrumb', 'BreadCrumbs', 'Breadcrumb', 'Breadcrumbs', 'Brie', 'BrieCheese', 'Broccoli', 'BroccoliRaab', 'Broccolirabe', 'Broth', 'BrownSugar', 'BrusselsSprout', 'Buckwheat', 'Butter', 'Butter)', 'ButterSubstitute', 'Buttermilk', 'ButternutSquash', 'Butterscotch', 'Cabbage', 'Cactus', 'Caffeine', 'Cajun', 'Cake', 'CakeMix', 'Calamari', 'Calcium', 'Candy', 'Candy(JellyBeans', 'CaneSugar', 'Canesugar', 'CannedGreenChiles', 'Canola', 'CanolaOil', 'Cantaloupe', 'Caper', 'Capers', 'CapersNote:*FleurdeselisatypeofsaltthatismadefromtheevaporationofseawaterandisoftenusedinFrenchcookingItisnottypicallyconsideredanallergen', 'Capsicum', 'Caramel', 'Caraway', 'Carbohydrate', 'CarbonatedBeverage', 'Cardamom', 'Carob', 'CarolinaReaper', 'Carrot', 'CarrotJuice', 'Carrots', 'Casabel', 'Cashew', 'Casings', 'Cassava', 'Cassia', 'Cassis', 'Catsup', 'Cattle', 'Cauliflower', 'Caviar', 'Cayenne', 'Cayenne)', 'CayenneDisclaimer:*Notethattherecipecallsfor2largeeggyolks', 'CayennePepper', 'Cayennepepper', 'Celeriac', 'Celery', 'Celery)', 'CeleryRoot', 'CelerySalt', 'CelerySeed', 'Cereal', 'CerealGrain', 'Cerealgrain', 'Cerealgrain(Rice)', 'Cereals', 'CerealsContainingGluten', 'Cerealscontaininggluten', 'Champagne', 'ChampagneVinegar', 'Chard', 'Chayote', 'Cheddar', 'Cheese', 'Cheese(Blue', 'Cheese(Blue)', \"Cheese(Cow'sMilk\", \"Cheese(Cow'sMilk)\", \"Cheese(Cow'smilk)\", 'Cheese(Creamcheese', 'Cheese(Feta', 'Cheese(Feta)', 'Cheese(Mozzarella', 'Cheese(Mozzarella)', 'Cheese(ParmesanandMozzarella)', 'Cheese(Parmigiano', 'Cheese(Ricotta', 'Cherry', 'CherryPepper', 'CherryTomato', 'Cherrytomatoes', 'Chervil', 'Chestnut', 'Chia', 'Chiaseed', 'Chicken', 'Chicken(HamHock)', 'Chicken/Turkey', 'ChickenStock', 'Chickenstock', 'Chickpea', 'Chicory', 'Chile', 'ChileDeArbol', 'ChilePepper', 'ChilePowder', 'ChiledeArbol', 'Chilepepper', 'Chiles', 'ChilesdeArbol', 'Chili', 'ChiliCrust', 'ChiliFlakes', 'ChiliPepper', 'ChiliPepperFlakes', 'ChiliPeppers', 'ChiliPowder', 'Chilipepper', 'Chilipeppers', 'Chilli', 'Chipotle', 'Chive', 'Chives', 'Chocolate', 'Chorizo', 'ChorizoSeasoning', 'Chrysanthemum', 'Cider', 'CiderVinegar', 'Cilantro', 'Cinammon', 'Cinnamon', 'CinnamonSugar', 'Citrus', 'Citrus(Lime)', 'Clam', 'Clams', 'ClarifiedButter', 'Clarifiedbutter', 'Clove', 'Cloves', 'Cocoa', 'CocoaButter', 'CocoaPowder', 'Coconut', 'CoconutMilk', 'CoconutNote:*Luauleavesarenotacommoningredientinmostrecipes', 'Cod', 'Coffee', 'Cognac', 'Cola', 'CollardGreen', 'CollardGreens', 'CondensedMilk', 'Condiments', \"Confectioners'Sugar\", 'Cookie', 'CookieSpread', 'Cookies', 'Coriander', 'CorianderSeeds', 'Corn', 'CornOil', 'CornSyrup', 'CornTortilla', 'CornedBeef', 'Cornichon', 'Cornichons', 'Cornmeal', 'Cornstarch', 'Corntortilla', 'Cotija', 'Cotijacheese', \"Cow'sMilk\", \"Cow'sMilkSugar\", \"Cow'smilk\", 'Crab', 'Cranberries', 'Cranberry', 'CranberryJuice', 'Crawfish', 'Crayfish', 'Cream', 'Cream-StyleHorseradishSauce', 'CreamCheese', 'Creamcheese', 'CreamofTartar', 'Crema', 'CremeFraiche', 'Cruciferous', 'CruciferousVegetables', 'CrushedRedPepper', 'CrushedRedPepperFlakes', 'Crushedredpepper', 'Crushedredpepperflakes', 'Crustacean', 'Crustacean(suchasshrimp)', 'CrustaceanNote:*ThecrabsarenotlistedasanallergenbecausetheyarenottypicallyconsideredacommonallergenHowever', 'Crustaceans', 'CrèmeFraîche', 'Cucumber', 'Culantro', 'Cumin', 'CuminSeeds', 'CuredMeat', 'Currant', 'Currants', 'Curry', 'CurryLeaves', 'CurryPowder', 'Curryleaf', 'Daikon', 'Dairy', 'Dairy(Butter)', 'Dairy(Cheese)', 'Dairy(CreamCheese)', 'Dairy(Half-and-half)', 'Dairy(Mascarpone)', 'Dairy(Milk', 'Dairy-free', 'Dal', 'DarkChocolate', 'Darkchocolate', 'Dashi', 'Date', 'Dates', 'Demi-glace', 'Dill', 'Dill)', 'Dressing', 'Driedfruit', 'Duck', 'Duckegg', 'EasternEuropeanSeasoning', 'Edamame', 'Egg', 'EggNote:*EggsarenotexplicitlylistedintherecipeingredientsbutarementionedintheinstructionsformakingGarlicAioli', 'EggYolks', 'Eggplant', 'Eggs', 'ElbowMacaroni', 'Elderberry', 'Elderflower', 'Elk', 'Endive', 'EnglishMuffin', 'Epazote', 'Escargot', 'Escarole', 'Espresso', 'Fat', 'FatFree', 'Fatty', 'Fattyacid', 'Fennel', 'Fenugreek', 'FermentedFood', 'Feta', 'FetaCheese', 'Fig', 'FiloPastry', 'FineSalt', 'Firewater', 'Fish', 'Fish(Anchovy)', 'Fish(Bacon)', 'Fish(Cayenne)', 'Fish(Crab)', 'Fish(Flounder', 'Fish(HamHocks)', 'Fish(Lobster', 'Fish(Lobster)', 'Fish(Oyster)', 'Fish(Oysters)', 'Fish(Quail)', 'Fish(Salmon)', 'Fish(Shallot)', 'Fish(Shark)', 'Fish(Shelled)', 'Fish(ShelledEdamame)', 'Fish(Shellfish)', 'Fish(Shishito)', 'Fish(Shrimp)', 'Fish(SmokedPoblanos)', 'Fish(StripedBass)', 'Fish(Tuna)', 'Fish(Wasabi)', 'Fish(anchovy)', 'Fish(capers)', 'Fish(crab)', 'Fish(crabmeat)', 'Fish(ifusingshrimporothershellfish)', 'Fish(inPickledBeanSproutSalad)', 'Fish(intheformofShaohsingricewine)', 'Fish(maraschinocherryjuice)', 'Fish(optional)', 'Fish(rum)', 'Fish(shellfish)', 'Fish(shiitakemushroom)', 'Fish(shrimp)', 'Fish(tamarind)', 'Fish/Shellfish', 'Fish/Shellfish(Crustaceans)', 'Fish/Shellfish(optional)', 'FishNote:Theanswerisbasedontheprovidedingredientsanddoesnottakeintoaccountanypotentialcross-contaminationorhiddeningredientsthatmayalsocauseanallergyreaction', 'FishSauce', 'FishShellfish', 'FishShellfish(crab)', 'FishShellfish(suchascrab)', 'FishShellfish(suchasshrimp', 'FishShellfish(suchasshrimp)', 'Fishshellfish', 'Fishshellfish(crab)', 'Fishshellfish(shrimp)', 'Fishshellfish(suchasshrimp', 'Five-Spice', 'Flavorings', 'FleurdeSel', 'Floral', 'Flour', 'FlourRecipeingredients:1lbgroundbeef1/4cupbreadcrumbs1egg1/4cupgratedParmesancheese1/4cupchoppedfreshparsley1/4cupchoppedfreshbasil1/4cupchoppedfreshoregano1/4cupchoppedgarlic1/4cupoliveoilAnswer:Me', 'Flower', 'Flower/TreeNut', 'Flowers', 'Focaccia', 'FoieGras', 'Fondant', 'Fontina)', 'FoodColoring', 'FoodColorings', 'Fowl', 'Frankfurter', 'FreshHerbs', 'Frisée', 'Fruit', 'Fruit(Apple)', 'Fruit(Avocado)', 'Fruit(Berries)', 'Fruit(BloodOrange)', 'Fruit(Blueberry', 'Fruit(Carrot', 'Fruit(Carrot)', 'Fruit(Chanterelles)', 'Fruit(Cherry)', 'Fruit(Guava)', 'Fruit(Honey)', 'Fruit(Lemon', 'Fruit(Lemon)', 'Fruit(Lime)', 'Fruit(Olives)', 'Fruit(PassionFruit', 'Fruit(Peaches)', 'Fruit(PeachorGrape)', 'Fruit(Pineapple', 'Fruit(Raisin)', 'Fruit(Spinach)', 'Fruit(Strawberries', 'Fruit(Strawberry', 'Fruit(Tomato)', 'Fruit(cucumber)', 'Fruit(lemon', 'Fruit(lemon)', 'Fruit(mushroom)', 'Fruit(olive)', 'Fruit(olives)', 'Fruit(raisin)', 'Fruit(raisins)', 'Fruit(sun-driedtomatoes)', 'Fruit(watermelon)', 'FruitDisclaimer:*Theeggyolkisoptionalandcanbeomittedifyouareallergictoeggs', 'FruitDisclaimer:Theeggyolkintherecipeisoptionalandcanbeomittedifyouareallergictoeggsorprefernottousethem', 'FruitNote:*Theheadofromainelettuceisnotaningredientinthisrecipe', 'Fruits', 'Fungi', 'Fungus', 'Galangal', 'Game', 'GaramMasala', 'GarbanzoBean', 'GarbanzoBeans', 'Garlic', 'GarlicDisclaimer:*Eggyolksarenotstrictlynecessaryforthisrecipe', 'GarlicPowder', 'Garnish', 'Garum', 'Gelatin', 'Ghee', 'Gherkin', 'Gin', 'Ginger', 'Gingerbread', 'GingerbreadSpice', 'Ginseng', 'Gluten', 'Gluten*Note:Theterm\"cheese\"isusedinthisrecipetorefertoanytypeofcheese', 'Gnocchi', 'Goat', \"Goat'sMilk\", \"Goat'sMilk)\", \"Goat'smilk\", 'GoatCheese', 'GoatCheeseDisclaimer:*Eggyolksarenotexplicitlylistedasaningredientbutarerequiredfortherecipe', 'Goatcheese', 'Gochujang', 'Goose', 'Gooseberry)', 'Gouda', 'Graham', 'Grain', 'Grain(Corn)', 'Grain(Orzo)', 'Grain(PorterBeer)', 'Grain(Rice)', 'Grain(Wheat)', 'Grain(wheat)', 'Grain(wheatinfetacheese)', 'GrainDisclaimer:*TheeggyolkisoptionalandmaycauseanallergicreactionforsomeindividualsIfyouareallergictoeggs', 'GrainNote:*Quinoaisconsideredaseedratherthananut', 'GrainNote:*Thegoldleafisnotanactualallergen', 'Grains', 'Granola', 'Grape', 'Grape/Cherry', 'GrapeBrandy', 'GrapeTomato', 'GrapeTomatoes', 'Grapefruit', 'Gravy', 'GravyMakerSeasoning', 'Green', 'GreenAsparagus', 'GreenBean', 'GreenBeans', 'GreenBellPepper', 'GreenChile', 'GreenChiles', 'GreenOlives', 'GreenOnion', 'GreenPartsOnion', 'GreenScallions', 'GreenTea', 'GreenVegetable', 'GreenVegetables', 'Greenbean', 'Greenchilies', 'Greenherbs', 'Greenleafy', 'Greenleafyvegetables', 'Greenonion', 'Greenpea', 'Greenpepper', 'Greens', 'Grits', 'Guacamole', 'Guajillochile', 'Gum', 'GummyBelts)', 'Habanero', 'Half-and-Half', 'Ham', 'Ham)', 'HamHocks', 'HamRind', 'Hamburger', 'HamburgerBun', 'Hazelnut', 'Hazelnuts', 'HeavyCream', 'HeavyCream)', 'Heavycream', 'Hemp', 'Herb', 'Herb(Dill)', 'Herb(Parsley', 'Herb(Thyme)', 'Herb(cilantro)', 'Herbs', 'Herbs(Basil', 'Herbs(Basil)', 'Herbs(Dill', 'Herbs(Oregano', 'Herbs(Oregano)', 'Herbs(Parsley', 'Herbs(Rosemary', 'Herbs(Rosemary)', 'Herbs(Thyme', 'Herbs(Thyme)', 'Herbs(basil', 'Herbs(basil)', 'Herbs(dill', 'Herbs(oregano', 'Herbs(oregano)', 'Herbs(otherthanSoy)', 'HerbsNote:Artichokesarenottypicallyconsideredatreenut', 'HerbsRecipeingredients:1lbgroundbeef1/4cupbreadcrumbs1/4cupgratedParmesancheese1egg1/4cupchoppedfreshparsley1/4cupchoppedfreshbasil1/4cupchoppedfreshmint1/4cupchoppedscallions(greenonions)1/4cupchopped', 'HerbsdeProvence', 'Herring', 'Hoisin', 'HojaSanta', 'Hominy', 'Honey', 'HoneyDisclaimer:*EggwhitesarenotlistedasanallergenintheprovidedrecipeingredientsHowever', 'HoneyNote:*Honeyisapotentialallergen', 'Hops', 'HornedMelon', 'Horseradish', 'HotChickenStock', 'HotDog', 'HotPepper', 'HotPepperFlakes', 'HotPepperJelly', 'HotPepperSauce', 'HotPeppers', 'HotSauce', 'HotSpice', 'Hotdog', 'Hotpepper', 'Hotpeppers', 'Hotsauce', 'Huitlacoche', 'Hummus', 'IceCream', 'IcebergLettuce', 'Insect', 'ItalianSausage', 'ItalianSeasoning', 'Jackcheese', 'Jalapeno', 'JalapenoJack', 'Jalapenos', 'Jalapeño', 'Jam', 'Jelly', 'Jicama', 'Juice', 'Juniper', 'KaffirLime', 'Kale', 'Kelp', 'Ketchup', 'KidneyBean', 'KidneyBeans', 'Kimchee', 'Kimchi', 'KingCrab', 'Kiwi', 'Kohlrabi', 'Koreanwheat', 'KosherSalt', 'Kumquat', 'Lactose', 'Lager', 'LagerBeer', 'Lamb', 'Langoustine', 'Lard', 'LatinAmerica', 'Lavender', 'Leaves', 'Lecithin', 'Leek', 'Leek)', 'Legume', 'Legumes', 'Lemon', 'Lemon-LimeSoda', 'LemonBalm', 'LemonGrass', 'LemonJuice', 'LemonZest', 'Lemongrass', 'Lentil', 'Lentils', 'Lettuce', 'Lettuce/LeafyGreens', 'Licorice', 'LighterFluid', 'LimaBean', 'Lime', 'Lime)', 'LimeJuice', 'LimeZest', 'Limejuice', 'Lingonberry', 'Liqueur', 'Liquid', 'Liquid(Alcohol)', 'Liquid(Mezquila)', 'LiquidSmoke', 'Liquidalcohol', 'Liquor', 'Lobster', 'Lotus', 'Lovage', 'Lox', 'Lychee', 'MSG', 'Macadamia', 'Macaroni', 'Mace', 'Mahlab', 'Malanga', 'Malta', 'Malted', 'Mango', 'Mango)', 'Maple', 'MapleSyrup', 'Maraschinocherry', 'Margarine', 'Marigold', 'Marjoram', 'Marmalade', 'Marsala', 'Marshmallow', 'Marzipan', 'Masa', 'MasaHarina', 'Mascarpone', 'Matzo', 'Mayonnaise', 'Mead', 'Meat', 'Meat(Bacon)', 'Meat(Beef', 'Meat(ItalianSausage)', 'Meat(Italiansausage)', 'Meat(Lamb', 'Meat(Lamb)', 'Meat(Pepperoni)', 'Meat(Pork', 'Meat(Pork)', 'Meat(Poultry)', 'Meat(TassoHam)', 'Meat(Turkey)', 'Meat(lamb)', 'Melon', 'MeltingWafers', 'Mentha', 'Meringue', 'Metal', 'MexicanOregano', 'MicroGreens', 'Microgreens', 'Milk', \"Milk(Cow's)\", 'MilkNote:*Breadfruitisnottypicallyconsideredacommonallergen', 'MilkNote:Someoftheseingredientsmayhavemultipleallergensinthem', 'Millet', 'MincedGarlic', 'MincedOnion', 'Mint', 'Mirin', 'Miso', 'MisoNote:Whitemisoismadefromfermentedrice', 'Molasses', 'Molluscan', 'MolluscanShellfish', 'Molluscs', 'Mollusk', 'Mollusks', 'Mollusks(suchassquid', 'MontrealSteakSeasoning', 'Morel', 'Mozzarella', 'MungBean', 'MungBeanSprouts', 'Mushroom', 'Mushrooms', 'Mushrooms)', 'Mussel', 'Mussels', 'Mustard', 'MustardDisclaimer:*Free-rangeeggsaredefinedashensthathavebeenraisedwithoutcontinuousaccesstofeed', 'MustardPowder', 'MustardSeeds', 'Mutton', 'Naan', 'NapaCabbage', 'NavyBean', 'Neem', 'Nightshade', 'Non-dairy', 'None', 'Noodle', 'Nut', 'Nut(Almond', 'Nut(Almond)', 'Nut(Almonds)', 'Nut(Apple)', 'Nut(Banana)', 'Nut(Buckwheat)', 'Nut(Cashew', 'Nut(Cayenne)', 'Nut(Chickpea)', 'Nut(Cocoa)', 'Nut(Coconut)', 'Nut(Currants)', 'Nut(FennelSeeds)', 'Nut(Hazelnut)', 'Nut(HeathBar)', 'Nut(Jalapeno)', 'Nut(Juniper)', 'Nut(Mango)', 'Nut(Marshmallow)', 'Nut(Onion)', 'Nut(Parmesan)', 'Nut(Pastrami)', 'Nut(Peanut)', 'Nut(Pecans)', 'Nut(Pecorino)', 'Nut(PecorinoRomano)', 'Nut(Pine)', 'Nut(Pinenut)', 'Nut(Poppy)', 'Nut(Rolos)', 'Nut(Toffee)', 'Nut(Truffle)', 'Nut(almond', 'Nut(almond)', 'Nut(almonds/hazelnuts)', 'Nut(fennel)', 'Nut(fig)', 'Nut(olive)', 'Nut(olives)', 'Nut(optional)', 'Nut(orange)', 'Nut(pinenuts)', 'Nut(seeds)', 'NutDisclaimer:ThepresenceofaneggyolkinthisrecipeisoptionalIfyouchoosenottouseit', 'NutNote:LimukohuisatypeofseaweedcommonlyusedinHawaiiancuisine', 'NutNote:Passionfruitjuicecontainscitricacid', 'Nutella', 'Nutmeg', 'Nutmeg)', 'Nuts', 'Oat', 'Oats', 'Oba', 'Octopus', 'Oil', 'Oils', 'Okra', 'OldBay', 'Olive', 'OliveNote:*TheeggyolkisoptionalbutaddsrichnessanddepthtothedressingIfyouprefernottouseaneggyolk', 'OliveOil', 'Oliveoil', 'Olives', 'Onion', 'OnionOil', 'OnionPowder', 'Orange', 'Orange/Lemon', 'OrangeBlossom', 'OrangeBlossomHoney', 'OrangeCuraçao', 'OrangeJuice', 'OrangeMarmalade', 'OrangeZest', 'Oranges', 'Oregano', 'Oregano)', 'Organo', 'Orzo', 'Oyster', 'Oysters', 'Palm', 'PalmSugar', 'Palmnut', 'Paneer', 'Panko', 'Papaya', 'Paprika', 'Parmesan', 'Parmesan)', 'Parmigiano', 'Parmigiano-Reggiano', 'ParmigianoReggiano', 'Parsley', 'Parsley)', 'Parsnip', 'Parsnip)', 'Pasillachile', 'PassionFruit', 'Passionfruit', 'Pasta', 'Pastry', 'PastryFlour', 'Pate', 'Pea', 'PeaNote:AchiotepasteisoptionalbutrecommendedforaddeddepthofflavorItismadebyblending1/4cupofdriedachioteseedswith2tablespoonsofneutraloilinaspicegrinderuntilsmooth', 'Peach', 'Peanut', 'Peanut(Butter)', 'Peanut(butter)', 'PeanutDisclaimer:*Notethatusingraweggyolksinthisrecipeisnotrecommended', 'PeanutFree', 'PeanutNote:*Cheesecurdsarenotanallergen', 'PeanutNote:*denotesaningredientthatisalsoacommonallergen', 'PeanutNote:Capsaicinpowderisnotacommonallergen', 'Peanuts', 'Pear', 'PearlOnion', 'Peas', 'Pecan', 'Pecans', 'Pecorino', 'PecorinoCheese', 'PecorinoRomano', 'Peel', 'Pepitas', 'Peppadew', 'Pepper', 'PepperJack', 'PepperJackCheese', 'PepperNote:*Thedriedchipotlechilipowdercontainsdairy', 'PepperNote:Thepickledchipotlechilecontainsdairy', 'PepperRecipeingredients:1lbboneless', 'Peppermint', 'Pepperoncini', 'Pepperoni', 'Peppers', 'Perilla', 'Persimmon', 'Pesto', 'Phyllo', 'Pickle', 'PickledGinger', 'PickledRelish', 'Pickles', 'Pimento', 'Pimentocheese', 'Pimentos', 'Pimiento', 'PineNut', 'PineNuts', 'Pineapple', 'Pinenut', 'Pinenuts', 'PintoBean', 'PintoBeans', 'PipeCleaner', 'Pistachio', 'Plant', 'Plant-BasedCream', 'Plant-based', 'Plantain', 'Plastic', 'Plum', 'Pnut', 'Poblano', 'Poi', 'Polenta', 'Pollen', 'Pomegranate', 'PopRocks', 'Popcorn', 'Poppy', 'PoppySeed', 'PoppySeeds', 'Poppyseed', 'Porcine', 'Pork', 'Pork(Pancetta)', 'Pork(PancettaorBacon)', 'Pork(bacon)', 'Pork)', 'Port', 'PortWine', 'PortobelloMushroom', 'Potato', 'PotatoNote:*The11eggsinthisrecipearenotactuallyanallergen', 'Poultry', 'PoultrySeasoning', 'PowderedSugar', 'Prawn', 'Prawns', 'PricklyPearCactus', 'Probiotic', 'Prosciutto', 'Protein', 'Provolone', 'Prune', 'Prunes', 'PuffPastry', 'Pumpkin', 'Pumpkinseed', 'Purslane', 'Queso', 'Quinoa', 'Rabbit', 'Radicchio', 'Radish', 'Raisin', 'Raisins', 'RamenNoodle', 'Ranch', 'RanchSeasoning', 'Raspberry', 'RauRum', 'Red', 'RedBellPepper', 'RedFoodColorings', 'RedPepper', 'RedPepperFlakes', 'RedWine', 'RedWineVinegar', 'Redpepper', 'Redpepperflakes', 'Redwine', 'RefriedBeans', 'Relish', 'Rennet', 'Rhubarb', 'Rice', 'Rice(wine)', 'RiceDisclaimer:*Notethattherecipecallsfor2eggyolks', 'RiceFlour', 'RiceVinegar', 'RiceWine', 'RiceWineVinegar', 'Ricevinegar', 'Ricewine', 'Ricewinevinegar', 'Ricotta', 'Ricotta)', 'Rolls', 'Romaine', 'Root', 'Root/Stem', 'RootVegetable', 'RootVegetables', 'Rose', 'Rosemary', 'Rosemary)', 'Rosewater', 'Rosewine', 'RoyalIcing', 'Rum', 'Rutabaga', 'Rye', 'RyeBread', 'Safflower', 'Saffron', 'Sage', 'Sage)', 'Sake', 'Salad', 'Salami', 'Salmon', 'Salsa', 'SalsaVerde', 'Salt', 'SaltPork', 'SaltSugar', 'SaltandPepper', 'Saltandpepper', 'Saltine', 'SaltineCracker', 'SaltineCrackers', 'Sambal', 'SassafrasRootBeer', 'Sauce', 'Sauces', 'Sauerkraut', 'Sausage', 'Savoycabbage', 'Scallion', 'Scallions', 'Scallop', 'ScotchBonnet', 'Scotchbonnetchile', 'SeaBass', 'SeaSalt', 'Seafood', 'Seafood(Clams)', 'Seafood(Crustacean)', 'Seafood(Oysters)', 'Seafood(Partridge)', 'Seafood(Shrimp)', 'Seafood(shellfish)', 'Seafood(shellfish-fish)', 'SeafoodDisclaimer:*Notethatthisrecipecallsfor6eggyolks', 'SeafoodDisclaimer:*NotethatusingtwolargeeggyolksinthisrecipewillresultinahigherriskofanadversereactionforindividualswitheggallergiesIfyouorsomeoneyouarecookingforhasaneggallergy', 'SeafoodDisclaimer:Therecipecallsfortwoeggyolks', 'SeafoodNote:ShanghaiCoastlineEthmixisablendofsoysauce', 'SeafoodNote:Theingredient\"countryDijonmustard\"containsMustard', 'Seasalt', 'Seaweed', 'Seed', 'Seeds', 'Seitan', 'Seltzer', 'SeltzerWater', 'Serrano', 'Sesame', 'Shallot', 'Shallots', 'SheepMilk', 'Shellfish', 'Sherry', 'SherryVinegar', 'Shortening', 'Shoyu', 'Shrimp', 'Shrimp)', 'Shrimppaste', 'Sichuan', 'Silk', 'Silken', 'SimpleSyrup', 'Sirloin', 'SkimMilk', 'Slaw', 'Smoke', 'SmokePaprika', 'SmokedMeat', 'SmokedPaprika', 'Smokedfish', 'Smokefish', 'Snail', 'SnapPea', 'SnowCrab', 'SnowPea', 'Snowpeas', 'Soda', 'Sodium', 'Sofrito', 'Softdrink', 'Soppressata', 'SourCream', 'SourCreamorGreekYogurt', 'SourDillPickles', 'Sourcream', 'Sourdough', 'Soy', 'Soy(BBQsauce)', 'Soy(Buttermilk)', 'Soy(CanolaOil)', 'Soy(Crisco)', 'Soy(Crisco®)', 'Soy(Dijonmustard)', 'Soy(FoieGras)', 'Soy(JimmyDeansausage)', 'Soy(Mayonnaise)', 'Soy(Truvia®)', 'Soy(WorcestershireSauce)', 'Soy(Worcestershiresauce)', 'Soy(adobosauce)', 'Soy(ascorbicacid)', 'Soy(basil)', 'Soy(butter)', 'Soy(buttermilk)', 'Soy(canolaoil)', 'Soy(chilipowder)', 'Soy(cilantro)', 'Soy(coconut)', 'Soy(coffee)', 'Soy(cornsyrup)', 'Soy(creamcheese)', 'Soy(falafelmix)', 'Soy(fromWorcestershiresauce)', 'Soy(fromsoysauce)', 'Soy(ginger)', 'Soy(honey)', 'Soy(hotsauce)', 'Soy(ifusingsoy-basedBBQruborseasoning)', 'Soy(inCreolesauce)', 'Soy(inHeavyCream)', 'Soy(inMasaHarina)', 'Soy(inNuocCham)', 'Soy(inPlumCornbread)', 'Soy(inSpicyAioli)', 'Soy(inSpicySlaw)', 'Soy(inWorcestershiresauce)', 'Soy(inbambooshoots)', 'Soy(indressing)', 'Soy(ingarlicpowderandonionpowder)', 'Soy(intapenade)', 'Soy(intheformofbreadcrumbs)', 'Soy(intheformofbutter)', 'Soy(intheformoffishsauce)', 'Soy(intheformofsofrito)', 'Soy(intheformofsoycheese)', 'Soy(intheformofsoymilk)', 'Soy(intheformofsoyoil)', 'Soy(intheformofsoysauce)', 'Soy(intheformofsoysauceinthesherrywine)', 'Soy(intheremouladeandhushpuppies)', 'Soy(ketchup)', 'Soy(mayonnaise)', 'Soy(mint)', 'Soy(molasses)', 'Soy(mustardseeds)', 'Soy(olive)', 'Soy(oliveoil)', 'Soy(rum)', 'Soy(sesame)', 'Soy(throughtheuseofsoylecithininthewhitechocolatechips)', 'Soy(truffleoil)', 'Soy(vanilla)', 'Soy(vanillabeanpaste)', 'Soy(vinegar)', 'SoyFree', 'SoyNote:Theabovelistisbasedontheprovidedrecipeingredientsanddoesnottakeintoaccountanypotentialcross-contaminationorsharedingredientsthatmayalsocauseanallergyreaction', 'Spaghetti', 'Spice', 'Spice(Caraway)', 'Spice(Cayenne)', 'Spice(Cinnamon', 'Spice(Garlic)', 'Spice(Thyme)', 'Spice(cumin', 'Spice(thyme', 'Spice*ModjeskasareatypeofMiddleEasterncookie', 'SpiceDisclaimer:Theeggwhiteinthisrecipeisoptionalandcanbeomittedifyouareallergictoeggsorprefernottousethem', 'SpiceMix', 'SpiceNote:*Greenbananasarenottypicallyconsideredacommonallergen', \"SpiceNote:*Ifyoucan'tfindbird'seyechiles\", 'SpiceNote:Saskatoonberryteaisnotacommonallergen', 'SpiceNote:The\"gratedcheesemix\"islikelytocontaindairyproductssuchascow\\'smilk', 'Spices', 'Spices(Cardamom)', 'Spices(Parsley)', 'Spices(cayenne', 'Spicy', 'SpicyFood', 'SpicyKetchup', 'SpicyRanchDressing', 'Spinach', 'Spirits', 'Sprinkles', 'Sprout', 'Sprouts', 'Squab', 'Squash', 'Squid', 'Squidink', 'Sriracha', 'Star', 'StarAnise', 'Staranise', 'Starch', 'Starches', 'Starchy', 'StarchyVegetables', 'Starchyvegetable', 'Starchyvegetables', 'Starfruit', 'Steak', 'SteakSeasoning', 'Stock', 'StoneCrab', 'Stonefruit', 'Stout', 'StoutBeer', 'Strawberry', 'Strawberry)', 'StringBean', 'Stuffing', 'Sugar', 'Sugar-free', 'SugarDisclaimer:*EggwhitesarenotincludedinthelistofingredientsastheyareoptionalformakingtheicingHowever', 'SugarDisclaimer:*Notethattherecipecallsfor2eggyolks', 'SugarFree', 'SugarNote:*LightbrownsugarismadefromsugarandmolassesIfyouprefernottouselightbrownsugar', 'SugarNote:*Thepresenceofawholeroastedduckintherecipedoesnotnecessarilyindicateanallergen', 'SugarNote:*Thetoastedsliveredalmondsarenotincludedinthelistofallergenssincetheyarenotanallergenthemselves', 'SugarRecipeingredients:1/4cupraspberrypuree(fromabove)1/4cupgranulatedsugar1/4cuplightcornsyrup1/4cupwater1/4cupunsaltedbutter', 'SugarRecipeingredients:Sauce2:1cupwater1/4cupricevinegar1/4cupsoysauce1/4cupbrownsugar1/4cuphoney1/4cupchoppedfreshcilantroAnswer:Soy', 'Sugarsnappea', 'Sulfite', 'Sulfites', 'Sun-DriedTomato', 'Sun-driedTomato', 'Sun-driedTomatoes', 'Sunchokes', 'Sunflower', 'SunflowerSeed', 'SunflowerSeeds', 'Sweet', 'SweetCicely', 'SweetPaprika', 'SweetPepper', 'SweetPotato', 'SweetPotatoSugar', 'Sweetener', 'Sweetpeppers', 'Sweetpotato', 'SwissCheese', 'Syrup', 'Tabasco', 'TacoSeasoningMix', 'Taffy', 'Tahini', 'Tamarind', 'Tangerine', 'Tapenade', 'Tapioca', 'Taro', 'Tarragon', 'Tarragon)', 'Tartar', 'TartarSauce', 'Tea', 'Tempeh', 'TempuraFlour', 'Tequila', 'Thai', 'ThaiChile', 'ThaiChili', 'ThousandIslandDressing', 'Thyme', 'Thyme)', 'Tilapia', 'Tobasco', 'Tofu', 'Tomatillo', 'Tomato', 'Tomato(MarinaraSauce)', 'TomatoKetchup', 'TomatoPaste', 'TomatoSauce', 'Tomatoes', 'Tortilla', 'TreeNut', 'TreeNut(Almond)', 'TreeNut(Cashew)', 'TreeNut(Cinnamon)', 'TreeNut(Ham)', 'TreeNut(Juniper)', 'TreeNut(Lemon)', 'TreeNut(Mango)', 'TreeNut(Paprika)', 'TreeNut(Pine)', 'TreeNut(Walnut)', 'TreeNut(almond)', 'TreeNut(juniper)', 'TreeNuts', 'TreeNuts(Almonds)', 'TreeNuts(suchasalmonds', 'Treenut', 'Treenut(Almond)', 'Treenut(Ancho)', 'Treenut(Anchovy)', 'Treenut(Apple)', 'Treenut(Bacon)', 'Treenut(Bamboo)', \"Treenut(Bear'sGarlic)\", 'Treenut(Chinesefive-spicepowder)', 'Treenut(Chipotle)', 'Treenut(Chocolate)', 'Treenut(Corn)', 'Treenut(Habanero)', 'Treenut(Marmalade)', 'Treenut(NicoiseOlives)', 'Treenut(Nicoiseolives)', 'Treenut(Oregano)', 'Treenut(Pecan)', 'Treenut(Pecans)', 'Treenut(Pine)', 'Treenut(Pretzels)', 'Treenut(Roasted)', 'Treenut(Rosemary)', 'Treenut(Walnut)', 'Treenut(almond)', 'Treenut(almond)Note:*Theduckprosciuttoismadefromduckmeatthathasbeencuredwithsalt', 'Treenut(annatto)', 'Treenut(cashew)', 'Treenut(cornflakes)', 'Treenut(hazelnut)', 'Treenut(insoysauce)', 'Treenut(jalapeno)', 'Treenut(kiwi)', 'Treenut(mango)', 'Treenut(olive)', 'Treenut(optional)', 'Treenut(pine)', 'Treenut(pineapple)', 'Treenut(suchasalmonds', 'Treenut(suchasalmonds)', 'Treenut(walnut)', 'Treenut*Note:*Thehabaneropepperisconsideredatreenutforsomepeople', \"TreenutNote:*AnchoandpasillachilepowdersareavailableatspecialtystoresoronlineIfyoucan'tfindthem\", 'Treenutfree', 'Treenuts', 'Treenuts(Heathbars)', 'Treenuts(Pecans)', 'Treenuts(suchasalmonds', 'Tri-colorpepper', 'Trigger', 'Tropical', 'Tropicalfruit', 'Trout', 'Truffle', 'Tubers', 'Tuna', 'Turkey', 'TurkeyBacon', 'TurkeyMeat', 'Turley', 'Turmeric', 'Turnip', 'Tzatziki', 'Udon', 'UradDhal', 'Vanilla', 'VanillaExtract', 'Veal', 'VealNote:*Whippedeggwhitesarenotincludedinthelistofallergenicingredientsbecausetheydonotcontainanyallergens', 'Vegan', 'Vegetable', 'Vegetable(sun-driedtomatoes)', 'VegetableBroth', 'VegetableOil', 'VegetableShortening', 'VegetableStock', 'Vegetableoil', 'Vegetables', 'Vegetables(Broccoli', 'Vegetables(Radish', 'Venison', 'Vermouth', 'VietnameseMint', 'Vietnamesemint', 'Vinegar', 'Vinegar(RedWine)', 'VitaminC', 'Vodka', 'Walnut', 'Walnut)', 'Wasabi', 'Water', 'WaterChestnut', 'Waterchestnuts', 'Watercress', 'Wheat', 'Wheat(Bread)', 'Wheat(BreadCrumbs)', 'Wheat(Flour)', 'Wheat(Noodeges)', 'Wheat(Parmesan)', 'Wheat(Sourcream)', 'Wheat(barley)', 'Wheat(breadcrumbs)', 'Wheat(butter)', 'Wheat(feta)', 'Wheat(flour)', 'Wheat(inGelatin)', 'Wheat(inHotSauce)', 'Wheat(inbabycorn)', 'Wheat(inbreadcrumbs)', 'Wheat(intheformofbread)', 'Wheat(intheformofbreadcrumbsintheDiscos)', 'Wheat(intortillas)', 'Wheat(juice)', 'Wheat(molasses)', 'Wheat(oregano)', 'Wheat(scallions)', 'Wheat(sourcream)', 'Wheat(spaghetti)', 'Wheat-freeTamari', 'WheatFree', 'WheatNote*Eggyolksarenotexplicitlylistedasaningredient', 'WheatNote:*Eggsarenotexplicitlylistedintherecipe', 'WheatNote:*Eggyolksarenotexplicitlylistedasanallergen', 'WheatNote:*EggyolksarenotlistedasanallergenbecausetheyarenottypicallyconsideredacommonallergenHowever', 'WheatNote:*Ifusingfrozenshrimp', \"WheatNote:*KoreanchilipasteisavailableatmostAsianmarketsoronlineIfyoucan'tfindit\", 'WheatNote:*Rasal-hanutisaMiddleEasternspiceblendthattypicallyincludescumin', 'WheatNote:*indicatesaningredientthatiscommonlyassociatedwithafoodallergy', 'WheatNote:Pepitasareatypeofseedthatisderivedfrompumpkins', 'WheatNote:Theabovelistisbasedontheprovidedrecipeingredientsanddoesnottakeintoaccountanypotentialcross-contaminationorhiddenallergens', 'WheatNote:Zahterisnotacommonfoodallergen', 'WheatPleaseprovidethelistofallergytypesassociatedwitheachrecipeingredient', 'WhippedCream', 'Whiskey', 'White', 'WhiteChocolate', 'WhitePartsScallions', 'WhitePepper', 'WhiteWine', 'Whitepepper', 'Whitepeppercorns', 'Whitewine', 'WholeChicken', 'Wholecloves', 'Wholegrain', 'WholegrainMustard', 'Wholewheat', 'Wine', 'Wine(redwinevinegar)', 'WineVinegar', 'Wood', 'Worcestershire', 'WorcestershireSauce', 'Worcestershiresauce', 'Xanthan', 'XanthanGum', 'Xanthangum', 'Yam', 'Yeast', 'Yellow', 'YellowBean', 'YellowBellPepper', 'YellowFoodColoring', 'YellowFoodColorings', 'YellowMustard', 'YellowOnion', 'YellowSquash', 'Yogurt', 'Yogurt)', 'Yuca', 'Yucca', 'Yuzu', 'YuzuJuice', \"Za'atar\", 'Zest', 'Zhoug', 'Zucchini', 'and/orothergrains', 'andInamonaisatypeofHawaiianspicemadefromgroundkernelofthemesquitetree', 'andallowedtoroamfreelyoutdoorsduringtheday', 'andspices', 'andspicesItmaycontaintracesofnutsduetocross-contaminationduringprocessing', 'andsumacItisnotacommonallergen**Harissasaucecontainschilipeppers', 'andtypicallycontainslessthan1%byweightofdairyproteinHowever', 'asitposesariskofSalmonellacontaminationInstead', 'barley', 'butincaseyouarewondering', 'butitdependsontheindividualSomepeopleareallergictohoney', 'butitisimportanttonotethatconsumingraworundercookedpoultrycanincreasetheriskoffoodborneillness', 'butitmaybeassociatedwithanallergytypeifsomeonehasalettuceallergy', 'butitmaycauseanallergicreactioninsomeindividuals', 'butitmaycausesomepeopletoexperienceadversereactionsduetoitshighsodiumcontent', 'butnotallItisincludedinthelistasaprecautionarymeasure', 'butratheracomponentthatiscommonlyassociatedwithallergies', 'butratheraningredientusedfordecorationpurposes', 'butsomepeoplemayhaveanallergytoit', 'buttheyareimpliedbytheinstruction\"3eggyolks\"', 'buttheyareimpliedbytheuseof\"Caesardressing\"whichtypicallycontainseggyolks', 'buttheyareincludedintherouillerecipe', 'buttheyarenotexplicitlylistedasanallergenHowever', 'buttheyareoftengroupedtogetherwithother\"treenuts\"forfoodallergypurposesduetotheirsimilaritiesincompositionandpotentialforcross-reactivity', 'buttheydohelptocreatearicherflavorprofileIfyouchoosetoomitthem', 'buttheymaybecontaminatedwithpeanutsduringprocessing', 'buttheymaycauseanallergicreactioninsomeindividuals', 'buttheymaycauseissuesforthosewhoarelactoseintolerant', 'caraway', 'cashew', 'cashews', 'cayennepepper)', 'chives', 'coriander', 'crab)', 'defrostinrefrigeratorovernight', 'forsimplicity', 'ifused', 'ifyouareallergictoeggs', 'ifyouhaveasevereallergytoanyingredient', 'includingcrabs', 'includingthosethataredairy-basedandthosethatarenotTherefore', 'itisderivedfromchilipeppersandcancauseanallergicreactioninsomepeople', 'itisoftengroupedwithnutsinfoodallergydiscussions', 'itisstillconsideredapotentialallergenforthoseallergictodairyproteins', 'lobster', 'marjoram)', 'meltedAnswer:Fruit', 'mint', 'mint)', 'mussels)', 'oregano)', 'oruseaflaxorchiaeggsubstitute', 'paprika)', 'parsley)', 'pleaseconsultamedicalprofessionalbeforeconsuminganyfood', 'pleaseremoveitfromthelistofpotentialallergens', 'pleasesubstitutewithadifferentingredientorconsultwithamedicalprofessionalbeforeconsuming', 'pleasesubstitutewithadifferentproteinsourcesuchaschickenorturkeybreast', 'pleasesubstitutewithanotheringredientoravoidusingitaltogether', 'pleaseuseonelargeeggyolkorsubstitutewithadifferentingredient', 'ricevinegar', 'sesameoil', 'sinceeggyolkscontainbothproteinsandfat', 'sincetherecipedoesnotprovideanyinstructionsonhowtohandleorsubstitutetheseingredientssafely', 'skinlesschickenbreasts1/4cupsoysauce1/4cupricevinegar1/4cuphoney1tspgratedginger1tspcrushedredpepperflakes1/4cupchoppedscallionsAnswer:Soy', 'soitisassociatedwiththe\"Dairy\"allergytype', 'soitisimportanttocheckthesourceofthealmondsandconsiderthemasapotentialallergenifyouhaveapeanutallergy', 'soitisincludedinthelistforcompleteness', 'soitisnottechnicallyanutallergenHowever', 'soitisunlikelythattheywouldcauseanallergicreactionHowever', 'soitshouldbeavoidedifyouhaveadairyallergy', 'soitwillnotappearinthelistofallergytypes', 'somepeoplemayhaveadversereactionstoconsumingitduetoitshighaciditylevel', 'somepeoplemayhaveanallergytoeggs', 'somepeoplemayhaveanallergytoshellfish', 'substitute1/4teaspoongroundcuminand1/4teaspoonsm', 'substitutewith1/4teaspoonThaichiliflakesor1/4teaspoonredpepperflakes', 'substitutewithgochujangorKoreanchiliflakes', 'suchassoysaucecontainingbothsoyandfish', 'sugar', 'sundriedtomato)', 'tarragon', 'theallergytypeforthisingredientislistedas\"Dairy\"', 'thelambracksarefrenchedbeforecooking', 'thenpatdrywithpapertowelsbeforechopping', 'theyareoftenconsideredacommonallergenduetotheirpotentialtocauseanallergicreaction', 'theycouldpotentiallycauseanallergicreactioninindividualswith', 'theywouldfallunderthe\"Egg\"category', 'usepasteurizedeggyolksoranalternativesuchasaquafaba(theliquidfromcannedchickpeas)foraddedsafety', 'walnut)', 'walnuts)', 'wecannotincludetheminthelistofpotentialallergens', 'whichareanallergenHowever', 'whicharenotacommonallergenbutmaycauseirritationtosomeindividuals', 'whichcouldpotentiallycauseanallergicreactioninindividualswitheggallergiesIfyouorsomeoneyouarecookingforhasaneggallergy', 'whichisacommonallergen', 'whichisnottypicallyconsideredanallergenHowever', 'whichmayposeanissueforindividualswhoareallergictoeggsHowever', 'whichmayposeariskforindividualswitheggallergies', 'whileothersarenot', 'youcansubstitutetheeggyolkswith2flaxeggs(1tablespoongroundflaxseed+3tablespoonswater', 'youcansubstitutewith1/4teaspoonofflaxseedmealmixedwith2tablespoonsofwaterLetthemixturesitfor5minutesbeforeusinginplaceoftheeggyolk', 'youcansubstitutewithanadditional2tablespoonsofaioliormayonnaiseinstead', 'youcansubstitutewithanequalamountofgranulatedsugar', 'youshouldavoidconsumingthisdrink']\n"
          ]
        }
      ]
    },
    {
      "cell_type": "code",
      "source": [
        "unique_allergens = set(allergen for sublist in df[\"allergy_type\"] for allergen in sublist)\n",
        "print(sorted(unique_allergens))  # Vérification si il y'a des noms trop longs (à retravailler)\n"
      ],
      "metadata": {
        "colab": {
          "base_uri": "https://localhost:8080/"
        },
        "id": "N7SIYkk_gmT5",
        "outputId": "d452d48e-4599-4e69-e06b-ac4e80b24392"
      },
      "execution_count": 70,
      "outputs": [
        {
          "output_type": "stream",
          "name": "stdout",
          "text": [
            "['', 'Acid', 'Acidic', 'Acidity', 'Acornsquash', 'Adhesive', 'Adobo', 'Agave', 'Aioli', 'Alcohol', 'Alcohol(Bourbon)', 'Alcohol(bourbon)', 'AlcoholDisclaimer:*TheeggwhiteisusedasanemulsifierinthisrecipeIfyouareallergictoeggs', 'Ale', 'Alfalfa', 'AlfalfaSprouts', 'AlfonoOlives', 'AllSpice', 'Allergen', 'Allergens', 'Allergensnotspecified', 'Allergy', 'Alliacea', 'Allium', 'Allium(Garlic', 'Allium(garlic)', 'Allium(lavender)', 'AlliumNote:FrenchingisacookingtechniquewheremeatispartiallydebonedbycuttingawaythefattytissuebetweenthebonesInthiscase', 'Allspice', 'Almond', 'Almonds', 'Aloe', 'AmberBeer', 'Anatto', 'Anchochile', 'Anchovies', 'Anchovy', 'Animal', 'AnimalDerivatives', 'AnimalParts', 'AnimalProtein', 'Animalbyproduct', 'Animalproduct', 'Animalprotein', 'Animalprotein(Prawn)', 'Anise', 'Aniseed', 'Apple', 'AppleCiderVinegar', 'Applesauce', 'Apricot', 'ApricotPreserves', 'Arbolchile', 'Arrowroot', 'Artichoke', 'Artichokes', 'ArtificialColoring', 'Artificialcolors', 'Arugula', 'Asafoetida', 'AscorbicAcid', 'Asiago)', 'AsianBasil', 'Asparagus', 'Avocado', 'BabyClams', 'Bacon', 'BakingPowder', 'BakingSoda', 'Bakingpowder', 'Bakingsoda', 'Balsamic', 'BalsamicVinegar', 'Balsamicglaze', 'Bamboo', 'Bambooshoots', 'Banana', 'Banana)', 'Barbecue', 'BarbecueMeat', 'BarbecueSauce', 'Barbecuesauce', 'Barley', 'Barley(Beer)', 'Basil', 'Bass', 'Bay', 'BayLeaf', 'BayLeaf)', 'BayLeave', 'BayLeaves', 'Bayleaf', 'Bayleaves)', 'Bean', 'BeanSprout', 'BeanSprouts', 'Beans', 'Beans/Legumes', 'Bee', 'Beef', 'Beef(Bacon)', 'Beef(Celery)', 'Beef(beer)', 'Beef)', 'BeefBroth', 'BeefConsomme', 'BeefNote:Theabovelistisnotexhaustiveandtheremaybeotherallergenicingredientsintherecipethatarenotmentionedhere', 'BeefStock', 'Beefbroth', 'Beefish', 'Beefish(BassAle)', 'Beefish(beer)', 'BeefsteakTomato', 'Beefstock', 'Beer', 'Beet', 'Beets', 'Bell', 'BellPepper', 'BellPeppers', 'Bellpepper', 'Bellpeppers', 'Berbere', 'Berries', 'Berry', 'Beverage', 'Bird', 'Bison', 'Bitterorangepeel', 'Black-eyedPea', 'Black-eyedpeas', 'BlackBean', 'BlackBeanPaste', 'BlackBeans', 'BlackCurrant', 'BlackPepper', 'BlackPeppercorns', 'BlackSalt', 'Blackpepper', 'Blackpeppercorns', 'Blue', 'Blueberries', 'Blueberry', 'Bluecheese', 'Bluefish', 'BokChoy', 'Bokchoy', 'Bone', 'Bourbon', 'Bran', 'Brandy', 'Brassica', 'Bratwurst', 'BrazilianHotSauce', 'Bread', 'BreadCrumb', 'BreadCrumbs', 'Breadcrumb', 'Breadcrumbs', 'Brie', 'BrieCheese', 'Broccoli', 'BroccoliRaab', 'Broccolirabe', 'Broth', 'BrownSugar', 'BrusselsSprout', 'Buckwheat', 'Butter', 'Butter)', 'ButterSubstitute', 'Buttermilk', 'ButternutSquash', 'Butterscotch', 'Cabbage', 'Cactus', 'Caffeine', 'Cajun', 'Cake', 'CakeMix', 'Calamari', 'Calcium', 'Candy', 'Candy(JellyBeans', 'CaneSugar', 'Canesugar', 'CannedGreenChiles', 'Canola', 'CanolaOil', 'Cantaloupe', 'Caper', 'Capers', 'CapersNote:*FleurdeselisatypeofsaltthatismadefromtheevaporationofseawaterandisoftenusedinFrenchcookingItisnottypicallyconsideredanallergen', 'Capsicum', 'Caramel', 'Caraway', 'Carbohydrate', 'CarbonatedBeverage', 'Cardamom', 'Carob', 'CarolinaReaper', 'Carrot', 'CarrotJuice', 'Carrots', 'Casabel', 'Cashew', 'Casings', 'Cassava', 'Cassia', 'Cassis', 'Catsup', 'Cattle', 'Cauliflower', 'Caviar', 'Cayenne', 'Cayenne)', 'CayenneDisclaimer:*Notethattherecipecallsfor2largeeggyolks', 'CayennePepper', 'Cayennepepper', 'Celeriac', 'Celery', 'Celery)', 'CeleryRoot', 'CelerySalt', 'CelerySeed', 'Cereal', 'CerealGrain', 'Cerealgrain', 'Cerealgrain(Rice)', 'Cereals', 'CerealsContainingGluten', 'Cerealscontaininggluten', 'Champagne', 'ChampagneVinegar', 'Chard', 'Chayote', 'Cheddar', 'Cheese', 'Cheese(Blue', 'Cheese(Blue)', \"Cheese(Cow'sMilk\", \"Cheese(Cow'sMilk)\", \"Cheese(Cow'smilk)\", 'Cheese(Creamcheese', 'Cheese(Feta', 'Cheese(Feta)', 'Cheese(Mozzarella', 'Cheese(Mozzarella)', 'Cheese(ParmesanandMozzarella)', 'Cheese(Parmigiano', 'Cheese(Ricotta', 'Cherry', 'CherryPepper', 'CherryTomato', 'Cherrytomatoes', 'Chervil', 'Chestnut', 'Chia', 'Chiaseed', 'Chicken', 'Chicken(HamHock)', 'Chicken/Turkey', 'ChickenStock', 'Chickenstock', 'Chickpea', 'Chicory', 'Chile', 'ChileDeArbol', 'ChilePepper', 'ChilePowder', 'ChiledeArbol', 'Chilepepper', 'Chiles', 'ChilesdeArbol', 'Chili', 'ChiliCrust', 'ChiliFlakes', 'ChiliPepper', 'ChiliPepperFlakes', 'ChiliPeppers', 'ChiliPowder', 'Chilipepper', 'Chilipeppers', 'Chilli', 'Chipotle', 'Chive', 'Chives', 'Chocolate', 'Chorizo', 'ChorizoSeasoning', 'Chrysanthemum', 'Cider', 'CiderVinegar', 'Cilantro', 'Cinammon', 'Cinnamon', 'CinnamonSugar', 'Citrus', 'Citrus(Lime)', 'Clam', 'Clams', 'ClarifiedButter', 'Clarifiedbutter', 'Clove', 'Cloves', 'Cocoa', 'CocoaButter', 'CocoaPowder', 'Coconut', 'CoconutMilk', 'CoconutNote:*Luauleavesarenotacommoningredientinmostrecipes', 'Cod', 'Coffee', 'Cognac', 'Cola', 'CollardGreen', 'CollardGreens', 'CondensedMilk', 'Condiments', \"Confectioners'Sugar\", 'Cookie', 'CookieSpread', 'Cookies', 'Coriander', 'CorianderSeeds', 'Corn', 'CornOil', 'CornSyrup', 'CornTortilla', 'CornedBeef', 'Cornichon', 'Cornichons', 'Cornmeal', 'Cornstarch', 'Corntortilla', 'Cotija', 'Cotijacheese', \"Cow'sMilk\", \"Cow'sMilkSugar\", \"Cow'smilk\", 'Crab', 'Cranberries', 'Cranberry', 'CranberryJuice', 'Crawfish', 'Crayfish', 'Cream', 'Cream-StyleHorseradishSauce', 'CreamCheese', 'Creamcheese', 'CreamofTartar', 'Crema', 'CremeFraiche', 'Cruciferous', 'CruciferousVegetables', 'CrushedRedPepper', 'CrushedRedPepperFlakes', 'Crushedredpepper', 'Crushedredpepperflakes', 'Crustacean', 'Crustacean(suchasshrimp)', 'CrustaceanNote:*ThecrabsarenotlistedasanallergenbecausetheyarenottypicallyconsideredacommonallergenHowever', 'Crustaceans', 'CrèmeFraîche', 'Cucumber', 'Culantro', 'Cumin', 'CuminSeeds', 'CuredMeat', 'Currant', 'Currants', 'Curry', 'CurryLeaves', 'CurryPowder', 'Curryleaf', 'Daikon', 'Dairy', 'Dairy(Butter)', 'Dairy(Cheese)', 'Dairy(CreamCheese)', 'Dairy(Half-and-half)', 'Dairy(Mascarpone)', 'Dairy(Milk', 'Dairy-free', 'Dal', 'DarkChocolate', 'Darkchocolate', 'Dashi', 'Date', 'Dates', 'Demi-glace', 'Dill', 'Dill)', 'Dressing', 'Driedfruit', 'Duck', 'Duckegg', 'EasternEuropeanSeasoning', 'Edamame', 'Egg', 'EggNote:*EggsarenotexplicitlylistedintherecipeingredientsbutarementionedintheinstructionsformakingGarlicAioli', 'EggYolks', 'Eggplant', 'Eggs', 'ElbowMacaroni', 'Elderberry', 'Elderflower', 'Elk', 'Endive', 'EnglishMuffin', 'Epazote', 'Escargot', 'Escarole', 'Espresso', 'Fat', 'FatFree', 'Fatty', 'Fattyacid', 'Fennel', 'Fenugreek', 'FermentedFood', 'Feta', 'FetaCheese', 'Fig', 'FiloPastry', 'FineSalt', 'Firewater', 'Fish', 'Fish(Anchovy)', 'Fish(Bacon)', 'Fish(Cayenne)', 'Fish(Crab)', 'Fish(Flounder', 'Fish(HamHocks)', 'Fish(Lobster', 'Fish(Lobster)', 'Fish(Oyster)', 'Fish(Oysters)', 'Fish(Quail)', 'Fish(Salmon)', 'Fish(Shallot)', 'Fish(Shark)', 'Fish(Shelled)', 'Fish(ShelledEdamame)', 'Fish(Shellfish)', 'Fish(Shishito)', 'Fish(Shrimp)', 'Fish(SmokedPoblanos)', 'Fish(StripedBass)', 'Fish(Tuna)', 'Fish(Wasabi)', 'Fish(anchovy)', 'Fish(capers)', 'Fish(crab)', 'Fish(crabmeat)', 'Fish(ifusingshrimporothershellfish)', 'Fish(inPickledBeanSproutSalad)', 'Fish(intheformofShaohsingricewine)', 'Fish(maraschinocherryjuice)', 'Fish(optional)', 'Fish(rum)', 'Fish(shellfish)', 'Fish(shiitakemushroom)', 'Fish(shrimp)', 'Fish(tamarind)', 'Fish/Shellfish', 'Fish/Shellfish(Crustaceans)', 'Fish/Shellfish(optional)', 'FishNote:Theanswerisbasedontheprovidedingredientsanddoesnottakeintoaccountanypotentialcross-contaminationorhiddeningredientsthatmayalsocauseanallergyreaction', 'FishSauce', 'FishShellfish', 'FishShellfish(crab)', 'FishShellfish(suchascrab)', 'FishShellfish(suchasshrimp', 'FishShellfish(suchasshrimp)', 'Fishshellfish', 'Fishshellfish(crab)', 'Fishshellfish(shrimp)', 'Fishshellfish(suchasshrimp', 'Five-Spice', 'Flavorings', 'FleurdeSel', 'Floral', 'Flour', 'FlourRecipeingredients:1lbgroundbeef1/4cupbreadcrumbs1egg1/4cupgratedParmesancheese1/4cupchoppedfreshparsley1/4cupchoppedfreshbasil1/4cupchoppedfreshoregano1/4cupchoppedgarlic1/4cupoliveoilAnswer:Me', 'Flower', 'Flower/TreeNut', 'Flowers', 'Focaccia', 'FoieGras', 'Fondant', 'Fontina)', 'FoodColoring', 'FoodColorings', 'Fowl', 'Frankfurter', 'FreshHerbs', 'Frisée', 'Fruit', 'Fruit(Apple)', 'Fruit(Avocado)', 'Fruit(Berries)', 'Fruit(BloodOrange)', 'Fruit(Blueberry', 'Fruit(Carrot', 'Fruit(Carrot)', 'Fruit(Chanterelles)', 'Fruit(Cherry)', 'Fruit(Guava)', 'Fruit(Honey)', 'Fruit(Lemon', 'Fruit(Lemon)', 'Fruit(Lime)', 'Fruit(Olives)', 'Fruit(PassionFruit', 'Fruit(Peaches)', 'Fruit(PeachorGrape)', 'Fruit(Pineapple', 'Fruit(Raisin)', 'Fruit(Spinach)', 'Fruit(Strawberries', 'Fruit(Strawberry', 'Fruit(Tomato)', 'Fruit(cucumber)', 'Fruit(lemon', 'Fruit(lemon)', 'Fruit(mushroom)', 'Fruit(olive)', 'Fruit(olives)', 'Fruit(raisin)', 'Fruit(raisins)', 'Fruit(sun-driedtomatoes)', 'Fruit(watermelon)', 'FruitDisclaimer:*Theeggyolkisoptionalandcanbeomittedifyouareallergictoeggs', 'FruitDisclaimer:Theeggyolkintherecipeisoptionalandcanbeomittedifyouareallergictoeggsorprefernottousethem', 'FruitNote:*Theheadofromainelettuceisnotaningredientinthisrecipe', 'Fruits', 'Fungi', 'Fungus', 'Galangal', 'Game', 'GaramMasala', 'GarbanzoBean', 'GarbanzoBeans', 'Garlic', 'GarlicDisclaimer:*Eggyolksarenotstrictlynecessaryforthisrecipe', 'GarlicPowder', 'Garnish', 'Garum', 'Gelatin', 'Ghee', 'Gherkin', 'Gin', 'Ginger', 'Gingerbread', 'GingerbreadSpice', 'Ginseng', 'Gluten', 'Gluten*Note:Theterm\"cheese\"isusedinthisrecipetorefertoanytypeofcheese', 'Gnocchi', 'Goat', \"Goat'sMilk\", \"Goat'sMilk)\", \"Goat'smilk\", 'GoatCheese', 'GoatCheeseDisclaimer:*Eggyolksarenotexplicitlylistedasaningredientbutarerequiredfortherecipe', 'Goatcheese', 'Gochujang', 'Goose', 'Gooseberry)', 'Gouda', 'Graham', 'Grain', 'Grain(Corn)', 'Grain(Orzo)', 'Grain(PorterBeer)', 'Grain(Rice)', 'Grain(Wheat)', 'Grain(wheat)', 'Grain(wheatinfetacheese)', 'GrainDisclaimer:*TheeggyolkisoptionalandmaycauseanallergicreactionforsomeindividualsIfyouareallergictoeggs', 'GrainNote:*Quinoaisconsideredaseedratherthananut', 'GrainNote:*Thegoldleafisnotanactualallergen', 'Grains', 'Granola', 'Grape', 'Grape/Cherry', 'GrapeBrandy', 'GrapeTomato', 'GrapeTomatoes', 'Grapefruit', 'Gravy', 'GravyMakerSeasoning', 'Green', 'GreenAsparagus', 'GreenBean', 'GreenBeans', 'GreenBellPepper', 'GreenChile', 'GreenChiles', 'GreenOlives', 'GreenOnion', 'GreenPartsOnion', 'GreenScallions', 'GreenTea', 'GreenVegetable', 'GreenVegetables', 'Greenbean', 'Greenchilies', 'Greenherbs', 'Greenleafy', 'Greenleafyvegetables', 'Greenonion', 'Greenpea', 'Greenpepper', 'Greens', 'Grits', 'Guacamole', 'Guajillochile', 'Gum', 'GummyBelts)', 'Habanero', 'Half-and-Half', 'Ham', 'Ham)', 'HamHocks', 'HamRind', 'Hamburger', 'HamburgerBun', 'Hazelnut', 'Hazelnuts', 'HeavyCream', 'HeavyCream)', 'Heavycream', 'Hemp', 'Herb', 'Herb(Dill)', 'Herb(Parsley', 'Herb(Thyme)', 'Herb(cilantro)', 'Herbs', 'Herbs(Basil', 'Herbs(Basil)', 'Herbs(Dill', 'Herbs(Oregano', 'Herbs(Oregano)', 'Herbs(Parsley', 'Herbs(Rosemary', 'Herbs(Rosemary)', 'Herbs(Thyme', 'Herbs(Thyme)', 'Herbs(basil', 'Herbs(basil)', 'Herbs(dill', 'Herbs(oregano', 'Herbs(oregano)', 'Herbs(otherthanSoy)', 'HerbsNote:Artichokesarenottypicallyconsideredatreenut', 'HerbsRecipeingredients:1lbgroundbeef1/4cupbreadcrumbs1/4cupgratedParmesancheese1egg1/4cupchoppedfreshparsley1/4cupchoppedfreshbasil1/4cupchoppedfreshmint1/4cupchoppedscallions(greenonions)1/4cupchopped', 'HerbsdeProvence', 'Herring', 'Hoisin', 'HojaSanta', 'Hominy', 'Honey', 'HoneyDisclaimer:*EggwhitesarenotlistedasanallergenintheprovidedrecipeingredientsHowever', 'HoneyNote:*Honeyisapotentialallergen', 'Hops', 'HornedMelon', 'Horseradish', 'HotChickenStock', 'HotDog', 'HotPepper', 'HotPepperFlakes', 'HotPepperJelly', 'HotPepperSauce', 'HotPeppers', 'HotSauce', 'HotSpice', 'Hotdog', 'Hotpepper', 'Hotpeppers', 'Hotsauce', 'Huitlacoche', 'Hummus', 'IceCream', 'IcebergLettuce', 'Insect', 'ItalianSausage', 'ItalianSeasoning', 'Jackcheese', 'Jalapeno', 'JalapenoJack', 'Jalapenos', 'Jalapeño', 'Jam', 'Jelly', 'Jicama', 'Juice', 'Juniper', 'KaffirLime', 'Kale', 'Kelp', 'Ketchup', 'KidneyBean', 'KidneyBeans', 'Kimchee', 'Kimchi', 'KingCrab', 'Kiwi', 'Kohlrabi', 'Koreanwheat', 'KosherSalt', 'Kumquat', 'Lactose', 'Lager', 'LagerBeer', 'Lamb', 'Langoustine', 'Lard', 'LatinAmerica', 'Lavender', 'Leaves', 'Lecithin', 'Leek', 'Leek)', 'Legume', 'Legumes', 'Lemon', 'Lemon-LimeSoda', 'LemonBalm', 'LemonGrass', 'LemonJuice', 'LemonZest', 'Lemongrass', 'Lentil', 'Lentils', 'Lettuce', 'Lettuce/LeafyGreens', 'Licorice', 'LighterFluid', 'LimaBean', 'Lime', 'Lime)', 'LimeJuice', 'LimeZest', 'Limejuice', 'Lingonberry', 'Liqueur', 'Liquid', 'Liquid(Alcohol)', 'Liquid(Mezquila)', 'LiquidSmoke', 'Liquidalcohol', 'Liquor', 'Lobster', 'Lotus', 'Lovage', 'Lox', 'Lychee', 'MSG', 'Macadamia', 'Macaroni', 'Mace', 'Mahlab', 'Malanga', 'Malta', 'Malted', 'Mango', 'Mango)', 'Maple', 'MapleSyrup', 'Maraschinocherry', 'Margarine', 'Marigold', 'Marjoram', 'Marmalade', 'Marsala', 'Marshmallow', 'Marzipan', 'Masa', 'MasaHarina', 'Mascarpone', 'Matzo', 'Mayonnaise', 'Mead', 'Meat', 'Meat(Bacon)', 'Meat(Beef', 'Meat(ItalianSausage)', 'Meat(Italiansausage)', 'Meat(Lamb', 'Meat(Lamb)', 'Meat(Pepperoni)', 'Meat(Pork', 'Meat(Pork)', 'Meat(Poultry)', 'Meat(TassoHam)', 'Meat(Turkey)', 'Meat(lamb)', 'Melon', 'MeltingWafers', 'Mentha', 'Meringue', 'Metal', 'MexicanOregano', 'MicroGreens', 'Microgreens', 'Milk', \"Milk(Cow's)\", 'MilkNote:*Breadfruitisnottypicallyconsideredacommonallergen', 'MilkNote:Someoftheseingredientsmayhavemultipleallergensinthem', 'Millet', 'MincedGarlic', 'MincedOnion', 'Mint', 'Mirin', 'Miso', 'MisoNote:Whitemisoismadefromfermentedrice', 'Molasses', 'Molluscan', 'MolluscanShellfish', 'Molluscs', 'Mollusk', 'Mollusks', 'Mollusks(suchassquid', 'MontrealSteakSeasoning', 'Morel', 'Mozzarella', 'MungBean', 'MungBeanSprouts', 'Mushroom', 'Mushrooms', 'Mushrooms)', 'Mussel', 'Mussels', 'Mustard', 'MustardDisclaimer:*Free-rangeeggsaredefinedashensthathavebeenraisedwithoutcontinuousaccesstofeed', 'MustardPowder', 'MustardSeeds', 'Mutton', 'Naan', 'NapaCabbage', 'NavyBean', 'Neem', 'Nightshade', 'Non-dairy', 'None', 'Noodle', 'Nut', 'Nut(Almond', 'Nut(Almond)', 'Nut(Almonds)', 'Nut(Apple)', 'Nut(Banana)', 'Nut(Buckwheat)', 'Nut(Cashew', 'Nut(Cayenne)', 'Nut(Chickpea)', 'Nut(Cocoa)', 'Nut(Coconut)', 'Nut(Currants)', 'Nut(FennelSeeds)', 'Nut(Hazelnut)', 'Nut(HeathBar)', 'Nut(Jalapeno)', 'Nut(Juniper)', 'Nut(Mango)', 'Nut(Marshmallow)', 'Nut(Onion)', 'Nut(Parmesan)', 'Nut(Pastrami)', 'Nut(Peanut)', 'Nut(Pecans)', 'Nut(Pecorino)', 'Nut(PecorinoRomano)', 'Nut(Pine)', 'Nut(Pinenut)', 'Nut(Poppy)', 'Nut(Rolos)', 'Nut(Toffee)', 'Nut(Truffle)', 'Nut(almond', 'Nut(almond)', 'Nut(almonds/hazelnuts)', 'Nut(fennel)', 'Nut(fig)', 'Nut(olive)', 'Nut(olives)', 'Nut(optional)', 'Nut(orange)', 'Nut(pinenuts)', 'Nut(seeds)', 'NutDisclaimer:ThepresenceofaneggyolkinthisrecipeisoptionalIfyouchoosenottouseit', 'NutNote:LimukohuisatypeofseaweedcommonlyusedinHawaiiancuisine', 'NutNote:Passionfruitjuicecontainscitricacid', 'Nutella', 'Nutmeg', 'Nutmeg)', 'Nuts', 'Oat', 'Oats', 'Oba', 'Octopus', 'Oil', 'Oils', 'Okra', 'OldBay', 'Olive', 'OliveNote:*TheeggyolkisoptionalbutaddsrichnessanddepthtothedressingIfyouprefernottouseaneggyolk', 'OliveOil', 'Oliveoil', 'Olives', 'Onion', 'OnionOil', 'OnionPowder', 'Orange', 'Orange/Lemon', 'OrangeBlossom', 'OrangeBlossomHoney', 'OrangeCuraçao', 'OrangeJuice', 'OrangeMarmalade', 'OrangeZest', 'Oranges', 'Oregano', 'Oregano)', 'Organo', 'Orzo', 'Oyster', 'Oysters', 'Palm', 'PalmSugar', 'Palmnut', 'Paneer', 'Panko', 'Papaya', 'Paprika', 'Parmesan', 'Parmesan)', 'Parmigiano', 'Parmigiano-Reggiano', 'ParmigianoReggiano', 'Parsley', 'Parsley)', 'Parsnip', 'Parsnip)', 'Pasillachile', 'PassionFruit', 'Passionfruit', 'Pasta', 'Pastry', 'PastryFlour', 'Pate', 'Pea', 'PeaNote:AchiotepasteisoptionalbutrecommendedforaddeddepthofflavorItismadebyblending1/4cupofdriedachioteseedswith2tablespoonsofneutraloilinaspicegrinderuntilsmooth', 'Peach', 'Peanut', 'Peanut(Butter)', 'Peanut(butter)', 'PeanutDisclaimer:*Notethatusingraweggyolksinthisrecipeisnotrecommended', 'PeanutFree', 'PeanutNote:*Cheesecurdsarenotanallergen', 'PeanutNote:*denotesaningredientthatisalsoacommonallergen', 'PeanutNote:Capsaicinpowderisnotacommonallergen', 'Peanuts', 'Pear', 'PearlOnion', 'Peas', 'Pecan', 'Pecans', 'Pecorino', 'PecorinoCheese', 'PecorinoRomano', 'Peel', 'Pepitas', 'Peppadew', 'Pepper', 'PepperJack', 'PepperJackCheese', 'PepperNote:*Thedriedchipotlechilipowdercontainsdairy', 'PepperNote:Thepickledchipotlechilecontainsdairy', 'PepperRecipeingredients:1lbboneless', 'Peppermint', 'Pepperoncini', 'Pepperoni', 'Peppers', 'Perilla', 'Persimmon', 'Pesto', 'Phyllo', 'Pickle', 'PickledGinger', 'PickledRelish', 'Pickles', 'Pimento', 'Pimentocheese', 'Pimentos', 'Pimiento', 'PineNut', 'PineNuts', 'Pineapple', 'Pinenut', 'Pinenuts', 'PintoBean', 'PintoBeans', 'PipeCleaner', 'Pistachio', 'Plant', 'Plant-BasedCream', 'Plant-based', 'Plantain', 'Plastic', 'Plum', 'Pnut', 'Poblano', 'Poi', 'Polenta', 'Pollen', 'Pomegranate', 'PopRocks', 'Popcorn', 'Poppy', 'PoppySeed', 'PoppySeeds', 'Poppyseed', 'Porcine', 'Pork', 'Pork(Pancetta)', 'Pork(PancettaorBacon)', 'Pork(bacon)', 'Pork)', 'Port', 'PortWine', 'PortobelloMushroom', 'Potato', 'PotatoNote:*The11eggsinthisrecipearenotactuallyanallergen', 'Poultry', 'PoultrySeasoning', 'PowderedSugar', 'Prawn', 'Prawns', 'PricklyPearCactus', 'Probiotic', 'Prosciutto', 'Protein', 'Provolone', 'Prune', 'Prunes', 'PuffPastry', 'Pumpkin', 'Pumpkinseed', 'Purslane', 'Queso', 'Quinoa', 'Rabbit', 'Radicchio', 'Radish', 'Raisin', 'Raisins', 'RamenNoodle', 'Ranch', 'RanchSeasoning', 'Raspberry', 'RauRum', 'Red', 'RedBellPepper', 'RedFoodColorings', 'RedPepper', 'RedPepperFlakes', 'RedWine', 'RedWineVinegar', 'Redpepper', 'Redpepperflakes', 'Redwine', 'RefriedBeans', 'Relish', 'Rennet', 'Rhubarb', 'Rice', 'Rice(wine)', 'RiceDisclaimer:*Notethattherecipecallsfor2eggyolks', 'RiceFlour', 'RiceVinegar', 'RiceWine', 'RiceWineVinegar', 'Ricevinegar', 'Ricewine', 'Ricewinevinegar', 'Ricotta', 'Ricotta)', 'Rolls', 'Romaine', 'Root', 'Root/Stem', 'RootVegetable', 'RootVegetables', 'Rose', 'Rosemary', 'Rosemary)', 'Rosewater', 'Rosewine', 'RoyalIcing', 'Rum', 'Rutabaga', 'Rye', 'RyeBread', 'Safflower', 'Saffron', 'Sage', 'Sage)', 'Sake', 'Salad', 'Salami', 'Salmon', 'Salsa', 'SalsaVerde', 'Salt', 'SaltPork', 'SaltSugar', 'SaltandPepper', 'Saltandpepper', 'Saltine', 'SaltineCracker', 'SaltineCrackers', 'Sambal', 'SassafrasRootBeer', 'Sauce', 'Sauces', 'Sauerkraut', 'Sausage', 'Savoycabbage', 'Scallion', 'Scallions', 'Scallop', 'ScotchBonnet', 'Scotchbonnetchile', 'SeaBass', 'SeaSalt', 'Seafood', 'Seafood(Clams)', 'Seafood(Crustacean)', 'Seafood(Oysters)', 'Seafood(Partridge)', 'Seafood(Shrimp)', 'Seafood(shellfish)', 'Seafood(shellfish-fish)', 'SeafoodDisclaimer:*Notethatthisrecipecallsfor6eggyolks', 'SeafoodDisclaimer:*NotethatusingtwolargeeggyolksinthisrecipewillresultinahigherriskofanadversereactionforindividualswitheggallergiesIfyouorsomeoneyouarecookingforhasaneggallergy', 'SeafoodDisclaimer:Therecipecallsfortwoeggyolks', 'SeafoodNote:ShanghaiCoastlineEthmixisablendofsoysauce', 'SeafoodNote:Theingredient\"countryDijonmustard\"containsMustard', 'Seasalt', 'Seaweed', 'Seed', 'Seeds', 'Seitan', 'Seltzer', 'SeltzerWater', 'Serrano', 'Sesame', 'Shallot', 'Shallots', 'SheepMilk', 'Shellfish', 'Sherry', 'SherryVinegar', 'Shortening', 'Shoyu', 'Shrimp', 'Shrimp)', 'Shrimppaste', 'Sichuan', 'Silk', 'Silken', 'SimpleSyrup', 'Sirloin', 'SkimMilk', 'Slaw', 'Smoke', 'SmokePaprika', 'SmokedMeat', 'SmokedPaprika', 'Smokedfish', 'Smokefish', 'Snail', 'SnapPea', 'SnowCrab', 'SnowPea', 'Snowpeas', 'Soda', 'Sodium', 'Sofrito', 'Softdrink', 'Soppressata', 'SourCream', 'SourCreamorGreekYogurt', 'SourDillPickles', 'Sourcream', 'Sourdough', 'Soy', 'Soy(BBQsauce)', 'Soy(Buttermilk)', 'Soy(CanolaOil)', 'Soy(Crisco)', 'Soy(Crisco®)', 'Soy(Dijonmustard)', 'Soy(FoieGras)', 'Soy(JimmyDeansausage)', 'Soy(Mayonnaise)', 'Soy(Truvia®)', 'Soy(WorcestershireSauce)', 'Soy(Worcestershiresauce)', 'Soy(adobosauce)', 'Soy(ascorbicacid)', 'Soy(basil)', 'Soy(butter)', 'Soy(buttermilk)', 'Soy(canolaoil)', 'Soy(chilipowder)', 'Soy(cilantro)', 'Soy(coconut)', 'Soy(coffee)', 'Soy(cornsyrup)', 'Soy(creamcheese)', 'Soy(falafelmix)', 'Soy(fromWorcestershiresauce)', 'Soy(fromsoysauce)', 'Soy(ginger)', 'Soy(honey)', 'Soy(hotsauce)', 'Soy(ifusingsoy-basedBBQruborseasoning)', 'Soy(inCreolesauce)', 'Soy(inHeavyCream)', 'Soy(inMasaHarina)', 'Soy(inNuocCham)', 'Soy(inPlumCornbread)', 'Soy(inSpicyAioli)', 'Soy(inSpicySlaw)', 'Soy(inWorcestershiresauce)', 'Soy(inbambooshoots)', 'Soy(indressing)', 'Soy(ingarlicpowderandonionpowder)', 'Soy(intapenade)', 'Soy(intheformofbreadcrumbs)', 'Soy(intheformofbutter)', 'Soy(intheformoffishsauce)', 'Soy(intheformofsofrito)', 'Soy(intheformofsoycheese)', 'Soy(intheformofsoymilk)', 'Soy(intheformofsoyoil)', 'Soy(intheformofsoysauce)', 'Soy(intheformofsoysauceinthesherrywine)', 'Soy(intheremouladeandhushpuppies)', 'Soy(ketchup)', 'Soy(mayonnaise)', 'Soy(mint)', 'Soy(molasses)', 'Soy(mustardseeds)', 'Soy(olive)', 'Soy(oliveoil)', 'Soy(rum)', 'Soy(sesame)', 'Soy(throughtheuseofsoylecithininthewhitechocolatechips)', 'Soy(truffleoil)', 'Soy(vanilla)', 'Soy(vanillabeanpaste)', 'Soy(vinegar)', 'SoyFree', 'SoyNote:Theabovelistisbasedontheprovidedrecipeingredientsanddoesnottakeintoaccountanypotentialcross-contaminationorsharedingredientsthatmayalsocauseanallergyreaction', 'Spaghetti', 'Spice', 'Spice(Caraway)', 'Spice(Cayenne)', 'Spice(Cinnamon', 'Spice(Garlic)', 'Spice(Thyme)', 'Spice(cumin', 'Spice(thyme', 'Spice*ModjeskasareatypeofMiddleEasterncookie', 'SpiceDisclaimer:Theeggwhiteinthisrecipeisoptionalandcanbeomittedifyouareallergictoeggsorprefernottousethem', 'SpiceMix', 'SpiceNote:*Greenbananasarenottypicallyconsideredacommonallergen', \"SpiceNote:*Ifyoucan'tfindbird'seyechiles\", 'SpiceNote:Saskatoonberryteaisnotacommonallergen', 'SpiceNote:The\"gratedcheesemix\"islikelytocontaindairyproductssuchascow\\'smilk', 'Spices', 'Spices(Cardamom)', 'Spices(Parsley)', 'Spices(cayenne', 'Spicy', 'SpicyFood', 'SpicyKetchup', 'SpicyRanchDressing', 'Spinach', 'Spirits', 'Sprinkles', 'Sprout', 'Sprouts', 'Squab', 'Squash', 'Squid', 'Squidink', 'Sriracha', 'Star', 'StarAnise', 'Staranise', 'Starch', 'Starches', 'Starchy', 'StarchyVegetables', 'Starchyvegetable', 'Starchyvegetables', 'Starfruit', 'Steak', 'SteakSeasoning', 'Stock', 'StoneCrab', 'Stonefruit', 'Stout', 'StoutBeer', 'Strawberry', 'Strawberry)', 'StringBean', 'Stuffing', 'Sugar', 'Sugar-free', 'SugarDisclaimer:*EggwhitesarenotincludedinthelistofingredientsastheyareoptionalformakingtheicingHowever', 'SugarDisclaimer:*Notethattherecipecallsfor2eggyolks', 'SugarFree', 'SugarNote:*LightbrownsugarismadefromsugarandmolassesIfyouprefernottouselightbrownsugar', 'SugarNote:*Thepresenceofawholeroastedduckintherecipedoesnotnecessarilyindicateanallergen', 'SugarNote:*Thetoastedsliveredalmondsarenotincludedinthelistofallergenssincetheyarenotanallergenthemselves', 'SugarRecipeingredients:1/4cupraspberrypuree(fromabove)1/4cupgranulatedsugar1/4cuplightcornsyrup1/4cupwater1/4cupunsaltedbutter', 'SugarRecipeingredients:Sauce2:1cupwater1/4cupricevinegar1/4cupsoysauce1/4cupbrownsugar1/4cuphoney1/4cupchoppedfreshcilantroAnswer:Soy', 'Sugarsnappea', 'Sulfite', 'Sulfites', 'Sun-DriedTomato', 'Sun-driedTomato', 'Sun-driedTomatoes', 'Sunchokes', 'Sunflower', 'SunflowerSeed', 'SunflowerSeeds', 'Sweet', 'SweetCicely', 'SweetPaprika', 'SweetPepper', 'SweetPotato', 'SweetPotatoSugar', 'Sweetener', 'Sweetpeppers', 'Sweetpotato', 'SwissCheese', 'Syrup', 'Tabasco', 'TacoSeasoningMix', 'Taffy', 'Tahini', 'Tamarind', 'Tangerine', 'Tapenade', 'Tapioca', 'Taro', 'Tarragon', 'Tarragon)', 'Tartar', 'TartarSauce', 'Tea', 'Tempeh', 'TempuraFlour', 'Tequila', 'Thai', 'ThaiChile', 'ThaiChili', 'ThousandIslandDressing', 'Thyme', 'Thyme)', 'Tilapia', 'Tobasco', 'Tofu', 'Tomatillo', 'Tomato', 'Tomato(MarinaraSauce)', 'TomatoKetchup', 'TomatoPaste', 'TomatoSauce', 'Tomatoes', 'Tortilla', 'TreeNut', 'TreeNut(Almond)', 'TreeNut(Cashew)', 'TreeNut(Cinnamon)', 'TreeNut(Ham)', 'TreeNut(Juniper)', 'TreeNut(Lemon)', 'TreeNut(Mango)', 'TreeNut(Paprika)', 'TreeNut(Pine)', 'TreeNut(Walnut)', 'TreeNut(almond)', 'TreeNut(juniper)', 'TreeNuts', 'TreeNuts(Almonds)', 'TreeNuts(suchasalmonds', 'Treenut', 'Treenut(Almond)', 'Treenut(Ancho)', 'Treenut(Anchovy)', 'Treenut(Apple)', 'Treenut(Bacon)', 'Treenut(Bamboo)', \"Treenut(Bear'sGarlic)\", 'Treenut(Chinesefive-spicepowder)', 'Treenut(Chipotle)', 'Treenut(Chocolate)', 'Treenut(Corn)', 'Treenut(Habanero)', 'Treenut(Marmalade)', 'Treenut(NicoiseOlives)', 'Treenut(Nicoiseolives)', 'Treenut(Oregano)', 'Treenut(Pecan)', 'Treenut(Pecans)', 'Treenut(Pine)', 'Treenut(Pretzels)', 'Treenut(Roasted)', 'Treenut(Rosemary)', 'Treenut(Walnut)', 'Treenut(almond)', 'Treenut(almond)Note:*Theduckprosciuttoismadefromduckmeatthathasbeencuredwithsalt', 'Treenut(annatto)', 'Treenut(cashew)', 'Treenut(cornflakes)', 'Treenut(hazelnut)', 'Treenut(insoysauce)', 'Treenut(jalapeno)', 'Treenut(kiwi)', 'Treenut(mango)', 'Treenut(olive)', 'Treenut(optional)', 'Treenut(pine)', 'Treenut(pineapple)', 'Treenut(suchasalmonds', 'Treenut(suchasalmonds)', 'Treenut(walnut)', 'Treenut*Note:*Thehabaneropepperisconsideredatreenutforsomepeople', \"TreenutNote:*AnchoandpasillachilepowdersareavailableatspecialtystoresoronlineIfyoucan'tfindthem\", 'Treenutfree', 'Treenuts', 'Treenuts(Heathbars)', 'Treenuts(Pecans)', 'Treenuts(suchasalmonds', 'Tri-colorpepper', 'Trigger', 'Tropical', 'Tropicalfruit', 'Trout', 'Truffle', 'Tubers', 'Tuna', 'Turkey', 'TurkeyBacon', 'TurkeyMeat', 'Turley', 'Turmeric', 'Turnip', 'Tzatziki', 'Udon', 'UradDhal', 'Vanilla', 'VanillaExtract', 'Veal', 'VealNote:*Whippedeggwhitesarenotincludedinthelistofallergenicingredientsbecausetheydonotcontainanyallergens', 'Vegan', 'Vegetable', 'Vegetable(sun-driedtomatoes)', 'VegetableBroth', 'VegetableOil', 'VegetableShortening', 'VegetableStock', 'Vegetableoil', 'Vegetables', 'Vegetables(Broccoli', 'Vegetables(Radish', 'Venison', 'Vermouth', 'VietnameseMint', 'Vietnamesemint', 'Vinegar', 'Vinegar(RedWine)', 'VitaminC', 'Vodka', 'Walnut', 'Walnut)', 'Wasabi', 'Water', 'WaterChestnut', 'Waterchestnuts', 'Watercress', 'Wheat', 'Wheat(Bread)', 'Wheat(BreadCrumbs)', 'Wheat(Flour)', 'Wheat(Noodeges)', 'Wheat(Parmesan)', 'Wheat(Sourcream)', 'Wheat(barley)', 'Wheat(breadcrumbs)', 'Wheat(butter)', 'Wheat(feta)', 'Wheat(flour)', 'Wheat(inGelatin)', 'Wheat(inHotSauce)', 'Wheat(inbabycorn)', 'Wheat(inbreadcrumbs)', 'Wheat(intheformofbread)', 'Wheat(intheformofbreadcrumbsintheDiscos)', 'Wheat(intortillas)', 'Wheat(juice)', 'Wheat(molasses)', 'Wheat(oregano)', 'Wheat(scallions)', 'Wheat(sourcream)', 'Wheat(spaghetti)', 'Wheat-freeTamari', 'WheatFree', 'WheatNote*Eggyolksarenotexplicitlylistedasaningredient', 'WheatNote:*Eggsarenotexplicitlylistedintherecipe', 'WheatNote:*Eggyolksarenotexplicitlylistedasanallergen', 'WheatNote:*EggyolksarenotlistedasanallergenbecausetheyarenottypicallyconsideredacommonallergenHowever', 'WheatNote:*Ifusingfrozenshrimp', \"WheatNote:*KoreanchilipasteisavailableatmostAsianmarketsoronlineIfyoucan'tfindit\", 'WheatNote:*Rasal-hanutisaMiddleEasternspiceblendthattypicallyincludescumin', 'WheatNote:*indicatesaningredientthatiscommonlyassociatedwithafoodallergy', 'WheatNote:Pepitasareatypeofseedthatisderivedfrompumpkins', 'WheatNote:Theabovelistisbasedontheprovidedrecipeingredientsanddoesnottakeintoaccountanypotentialcross-contaminationorhiddenallergens', 'WheatNote:Zahterisnotacommonfoodallergen', 'WheatPleaseprovidethelistofallergytypesassociatedwitheachrecipeingredient', 'WhippedCream', 'Whiskey', 'White', 'WhiteChocolate', 'WhitePartsScallions', 'WhitePepper', 'WhiteWine', 'Whitepepper', 'Whitepeppercorns', 'Whitewine', 'WholeChicken', 'Wholecloves', 'Wholegrain', 'WholegrainMustard', 'Wholewheat', 'Wine', 'Wine(redwinevinegar)', 'WineVinegar', 'Wood', 'Worcestershire', 'WorcestershireSauce', 'Worcestershiresauce', 'Xanthan', 'XanthanGum', 'Xanthangum', 'Yam', 'Yeast', 'Yellow', 'YellowBean', 'YellowBellPepper', 'YellowFoodColoring', 'YellowFoodColorings', 'YellowMustard', 'YellowOnion', 'YellowSquash', 'Yogurt', 'Yogurt)', 'Yuca', 'Yucca', 'Yuzu', 'YuzuJuice', \"Za'atar\", 'Zest', 'Zhoug', 'Zucchini', 'and/orothergrains', 'andInamonaisatypeofHawaiianspicemadefromgroundkernelofthemesquitetree', 'andallowedtoroamfreelyoutdoorsduringtheday', 'andspices', 'andspicesItmaycontaintracesofnutsduetocross-contaminationduringprocessing', 'andsumacItisnotacommonallergen**Harissasaucecontainschilipeppers', 'andtypicallycontainslessthan1%byweightofdairyproteinHowever', 'asitposesariskofSalmonellacontaminationInstead', 'barley', 'butincaseyouarewondering', 'butitdependsontheindividualSomepeopleareallergictohoney', 'butitisimportanttonotethatconsumingraworundercookedpoultrycanincreasetheriskoffoodborneillness', 'butitmaybeassociatedwithanallergytypeifsomeonehasalettuceallergy', 'butitmaycauseanallergicreactioninsomeindividuals', 'butitmaycausesomepeopletoexperienceadversereactionsduetoitshighsodiumcontent', 'butnotallItisincludedinthelistasaprecautionarymeasure', 'butratheracomponentthatiscommonlyassociatedwithallergies', 'butratheraningredientusedfordecorationpurposes', 'butsomepeoplemayhaveanallergytoit', 'buttheyareimpliedbytheinstruction\"3eggyolks\"', 'buttheyareimpliedbytheuseof\"Caesardressing\"whichtypicallycontainseggyolks', 'buttheyareincludedintherouillerecipe', 'buttheyarenotexplicitlylistedasanallergenHowever', 'buttheyareoftengroupedtogetherwithother\"treenuts\"forfoodallergypurposesduetotheirsimilaritiesincompositionandpotentialforcross-reactivity', 'buttheydohelptocreatearicherflavorprofileIfyouchoosetoomitthem', 'buttheymaybecontaminatedwithpeanutsduringprocessing', 'buttheymaycauseanallergicreactioninsomeindividuals', 'buttheymaycauseissuesforthosewhoarelactoseintolerant', 'caraway', 'cashew', 'cashews', 'cayennepepper)', 'chives', 'coriander', 'crab)', 'defrostinrefrigeratorovernight', 'forsimplicity', 'ifused', 'ifyouareallergictoeggs', 'ifyouhaveasevereallergytoanyingredient', 'includingcrabs', 'includingthosethataredairy-basedandthosethatarenotTherefore', 'itisderivedfromchilipeppersandcancauseanallergicreactioninsomepeople', 'itisoftengroupedwithnutsinfoodallergydiscussions', 'itisstillconsideredapotentialallergenforthoseallergictodairyproteins', 'lobster', 'marjoram)', 'meltedAnswer:Fruit', 'mint', 'mint)', 'mussels)', 'oregano)', 'oruseaflaxorchiaeggsubstitute', 'paprika)', 'parsley)', 'pleaseconsultamedicalprofessionalbeforeconsuminganyfood', 'pleaseremoveitfromthelistofpotentialallergens', 'pleasesubstitutewithadifferentingredientorconsultwithamedicalprofessionalbeforeconsuming', 'pleasesubstitutewithadifferentproteinsourcesuchaschickenorturkeybreast', 'pleasesubstitutewithanotheringredientoravoidusingitaltogether', 'pleaseuseonelargeeggyolkorsubstitutewithadifferentingredient', 'ricevinegar', 'sesameoil', 'sinceeggyolkscontainbothproteinsandfat', 'sincetherecipedoesnotprovideanyinstructionsonhowtohandleorsubstitutetheseingredientssafely', 'skinlesschickenbreasts1/4cupsoysauce1/4cupricevinegar1/4cuphoney1tspgratedginger1tspcrushedredpepperflakes1/4cupchoppedscallionsAnswer:Soy', 'soitisassociatedwiththe\"Dairy\"allergytype', 'soitisimportanttocheckthesourceofthealmondsandconsiderthemasapotentialallergenifyouhaveapeanutallergy', 'soitisincludedinthelistforcompleteness', 'soitisnottechnicallyanutallergenHowever', 'soitisunlikelythattheywouldcauseanallergicreactionHowever', 'soitshouldbeavoidedifyouhaveadairyallergy', 'soitwillnotappearinthelistofallergytypes', 'somepeoplemayhaveadversereactionstoconsumingitduetoitshighaciditylevel', 'somepeoplemayhaveanallergytoeggs', 'somepeoplemayhaveanallergytoshellfish', 'substitute1/4teaspoongroundcuminand1/4teaspoonsm', 'substitutewith1/4teaspoonThaichiliflakesor1/4teaspoonredpepperflakes', 'substitutewithgochujangorKoreanchiliflakes', 'suchassoysaucecontainingbothsoyandfish', 'sugar', 'sundriedtomato)', 'tarragon', 'theallergytypeforthisingredientislistedas\"Dairy\"', 'thelambracksarefrenchedbeforecooking', 'thenpatdrywithpapertowelsbeforechopping', 'theyareoftenconsideredacommonallergenduetotheirpotentialtocauseanallergicreaction', 'theycouldpotentiallycauseanallergicreactioninindividualswith', 'theywouldfallunderthe\"Egg\"category', 'usepasteurizedeggyolksoranalternativesuchasaquafaba(theliquidfromcannedchickpeas)foraddedsafety', 'walnut)', 'walnuts)', 'wecannotincludetheminthelistofpotentialallergens', 'whichareanallergenHowever', 'whicharenotacommonallergenbutmaycauseirritationtosomeindividuals', 'whichcouldpotentiallycauseanallergicreactioninindividualswitheggallergiesIfyouorsomeoneyouarecookingforhasaneggallergy', 'whichisacommonallergen', 'whichisnottypicallyconsideredanallergenHowever', 'whichmayposeanissueforindividualswhoareallergictoeggsHowever', 'whichmayposeariskforindividualswitheggallergies', 'whileothersarenot', 'youcansubstitutetheeggyolkswith2flaxeggs(1tablespoongroundflaxseed+3tablespoonswater', 'youcansubstitutewith1/4teaspoonofflaxseedmealmixedwith2tablespoonsofwaterLetthemixturesitfor5minutesbeforeusinginplaceoftheeggyolk', 'youcansubstitutewithanadditional2tablespoonsofaioliormayonnaiseinstead', 'youcansubstitutewithanequalamountofgranulatedsugar', 'youshouldavoidconsumingthisdrink']\n"
          ]
        }
      ]
    },
    {
      "cell_type": "code",
      "source": [
        "from sklearn.feature_extraction.text import TfidfVectorizer\n",
        "\n",
        "# initialisation du TF-IDF vectorizer\n",
        "tfidf = TfidfVectorizer(stop_words=\"english\", max_features=5000)  # Limitation du nombres de features pour test\n",
        "X = tfidf.fit_transform(df[\"recipe\"])\n",
        "\n",
        "print(X.shape)  # Should be (74465, nombre de features (5000))\n"
      ],
      "metadata": {
        "colab": {
          "base_uri": "https://localhost:8080/"
        },
        "id": "Ug00ACS3hO4Y",
        "outputId": "e957fb1a-4f35-4a5e-e5d6-eda8a1b149df"
      },
      "execution_count": 73,
      "outputs": [
        {
          "output_type": "stream",
          "name": "stdout",
          "text": [
            "(74465, 5000)\n"
          ]
        }
      ]
    },
    {
      "cell_type": "code",
      "source": [
        "from sklearn.model_selection import train_test_split\n",
        "from sklearn.linear_model import LogisticRegression\n",
        "from sklearn.multiclass import OneVsRestClassifier\n",
        "from sklearn.metrics import classification_report\n",
        "\n",
        "# Split du dataset\n",
        "X_train, X_test, y_train, y_test = train_test_split(X, y_df, test_size=0.2, random_state=42)\n",
        "\n",
        "# Initialisation du model\n",
        "model = OneVsRestClassifier(LogisticRegression(max_iter=1000, solver=\"liblinear\")) # à retravailler pour quelque chose de plus adapté a la solution\n",
        "\n",
        "model.fit(X_train, y_train)\n",
        "\n",
        "y_pred = model.predict(X_test)\n",
        "\n",
        "# Evaluation du model\n",
        "\n",
        "print(classification_report(y_test, y_pred))\n"
      ],
      "metadata": {
        "id": "idzG6lQohxus"
      },
      "execution_count": null,
      "outputs": []
    },
    {
      "cell_type": "code",
      "source": [
        "import pickle\n",
        "\n",
        "def save_model(filename, path):\n",
        "    with open(f\"{path}/{filename}.pkl\", \"wb\") as file:\n",
        "        pickle.dump(model, file)\n",
        "\n",
        "save_model(\"model\", \"./\")\n",
        "\n"
      ],
      "metadata": {
        "id": "6hZeNQnIA3En"
      },
      "execution_count": 107,
      "outputs": []
    },
    {
      "cell_type": "code",
      "source": [
        "# premiere solution (trop lente)\n",
        "\n",
        "# # x_train, x_test, y_train, y_test = train_test_split(x, y, test_size=0.2, random_state=42)\n",
        "\n",
        "# from sklearn.model_selection import StratifiedKFold\n",
        "\n",
        "# skf = StratifiedKFold(n_splits=5, shuffle=True, random_state=42) # utilisation de skf plutot que train test split, la méthode est plus adaptée quand certaines classes ont beaucoup plus d'exemples que d'autres\n",
        "\n",
        "# # Permet de garantir que les données restent associés aux différents labels même une fois split et shuffle\n",
        "# for train_index, test_index in skf.split(x, y.argmax(axis=1)):\n",
        "#     x_train, x_test = x[train_index], x[test_index]\n",
        "#     y_train, y_test = y[train_index], y[test_index]\n",
        "#     break\n"
      ],
      "metadata": {
        "colab": {
          "base_uri": "https://localhost:8080/"
        },
        "id": "hIriI3kxZATd",
        "outputId": "307f3365-c851-4fda-ddd0-d6acde5668a8"
      },
      "execution_count": 39,
      "outputs": [
        {
          "output_type": "stream",
          "name": "stderr",
          "text": [
            "/usr/local/lib/python3.11/dist-packages/sklearn/model_selection/_split.py:805: UserWarning: The least populated class in y has only 1 members, which is less than n_splits=5.\n",
            "  warnings.warn(\n"
          ]
        }
      ]
    },
    {
      "cell_type": "code",
      "source": [
        "# première solution (trop lente)\n",
        "\n",
        "# print(x_train.shape, y_train.shape)\n",
        "# print(x_test.shape, y_test.shape)"
      ],
      "metadata": {
        "colab": {
          "base_uri": "https://localhost:8080/"
        },
        "id": "duneYQSmbvPZ",
        "outputId": "197a611c-71bf-4acc-8cca-cfb280af52a6"
      },
      "execution_count": 40,
      "outputs": [
        {
          "output_type": "stream",
          "name": "stdout",
          "text": [
            "(59572,) (59572, 1691)\n",
            "(14893,) (14893, 1691)\n"
          ]
        }
      ]
    },
    {
      "cell_type": "code",
      "source": [
        "# première solution (trop lente)\n",
        "\n",
        "# # Liste des labels manquants dans test et train\n",
        "# labels_in_train = set(y_train.sum(axis=0).nonzero()[0])\n",
        "# labels_in_test = set(y_test.sum(axis=0).nonzero()[0])\n",
        "\n",
        "# # Liste des labels présent dans test mais pas dans train\n",
        "# missing_labels = labels_in_test - labels_in_train\n",
        "# print(f\"Missing Labels in Training Set: {missing_labels}\")\n",
        "\n",
        "# # Retirer les labels manquants de test\n",
        "# if missing_labels:\n",
        "#     for label in missing_labels:\n",
        "#         y_test[:, label] = 0  # Mis sur 0 par défault pour éviter les problémes de prédictions/évaluations\n"
      ],
      "metadata": {
        "colab": {
          "base_uri": "https://localhost:8080/"
        },
        "id": "JmrSO5MFZ5ZJ",
        "outputId": "de0512c9-f518-4a8d-b7a5-39f1ace8d41f"
      },
      "execution_count": 41,
      "outputs": [
        {
          "output_type": "stream",
          "name": "stdout",
          "text": [
            "Missing Labels in Training Set: {514, 4, 1033, 1034, 1529, 526, 1038, 1551, 17, 1043, 20, 1557, 31, 545, 548, 1577, 554, 1073, 1587, 1588, 53, 55, 56, 569, 570, 1592, 1594, 573, 575, 1600, 579, 1603, 1605, 1609, 1610, 587, 1101, 1614, 79, 592, 594, 599, 88, 1112, 1625, 1627, 97, 609, 1634, 1126, 103, 106, 619, 1646, 1647, 1136, 1650, 1652, 632, 1660, 1661, 1150, 131, 646, 1674, 1675, 653, 146, 660, 662, 663, 1688, 1177, 1689, 670, 1184, 689, 1202, 1214, 1219, 708, 1221, 710, 199, 200, 1224, 1225, 206, 1237, 215, 727, 1242, 221, 743, 746, 747, 1259, 1261, 1262, 239, 753, 243, 1267, 245, 757, 1269, 249, 1274, 769, 1287, 1293, 273, 789, 791, 792, 283, 799, 298, 810, 1326, 1330, 1332, 1341, 318, 837, 838, 1350, 841, 1353, 1354, 1357, 1362, 854, 1366, 1370, 859, 1380, 1382, 1384, 361, 875, 882, 1395, 375, 1401, 378, 381, 902, 905, 1417, 396, 401, 1427, 404, 1433, 411, 1436, 926, 415, 416, 420, 933, 1447, 1448, 1451, 1454, 946, 439, 953, 955, 960, 451, 964, 454, 1478, 457, 1485, 1487, 467, 468, 982, 474, 476, 1505, 1506, 1507, 1508, 1509, 486, 1510, 1000, 490, 491, 1514, 493, 1006, 1521, 499, 1012, 503, 504, 505, 510}\n"
          ]
        }
      ]
    },
    {
      "cell_type": "code",
      "source": [
        "# Première solution (trop lente)\n",
        "\n",
        "# from sklearn.feature_extraction.text import TfidfVectorizer\n",
        "\n",
        "# from sklearn.linear_model import SGDClassifier\n",
        "\n",
        "# pipe = Pipeline([\n",
        "#     ('vect', TfidfVectorizer()),\n",
        "#     ('model', SGDClassifier(loss=\"log_loss\", max_iter=1000, tol=1e-3, random_state=42, n_jobs=-1))\n",
        "# ])\n",
        "\n",
        "\n",
        "# pipe.fit(x_train, y_train)"
      ],
      "metadata": {
        "id": "-OInC7eAZBeC"
      },
      "execution_count": null,
      "outputs": []
    },
    {
      "cell_type": "code",
      "source": [
        "# Fonction pour réaliser une prédiction avec le modèle\n",
        "def predict_recipe(recipe_text):\n",
        "    # Formattage de l'input\n",
        "    recipe_text = clean_text(recipe_text)\n",
        "\n",
        "    # Transformation du texte en vecteur numérique\n",
        "    recipe_vec = tfidf.transform([recipe_text])\n",
        "\n",
        "    # renvoi la prédiction du modèle\n",
        "    prediction = model.predict(recipe_vec)\n",
        "\n",
        "    # Conversion de la prédiction en labels lisibles\n",
        "    predicted_allergies = mlb.inverse_transform(prediction)[0]\n",
        "\n",
        "    # Formatage de la prédiction en chaine de caractères\n",
        "    allergy_string = \", \".join(predicted_allergies)\n",
        "    return f\"Predicted allergy types: {allergy_string}\"\n",
        "\n",
        "# exemple 1\n",
        "recipe_1 = \"scrambled eggs\" # oeufs brouillés\n",
        "result_1 = predict_recipe(recipe_1)\n",
        "print(result_1)"
      ],
      "metadata": {
        "colab": {
          "base_uri": "https://localhost:8080/"
        },
        "id": "whaAVC_4oLY-",
        "outputId": "298bcfe8-b801-4b2f-d044-1bcfafff5b6d"
      },
      "execution_count": 105,
      "outputs": [
        {
          "output_type": "stream",
          "name": "stdout",
          "text": [
            "Predicted allergy types: Egg\n"
          ]
        }
      ]
    }
  ]
}